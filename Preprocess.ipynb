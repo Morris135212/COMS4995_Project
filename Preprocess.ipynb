{
 "cells": [
  {
   "cell_type": "code",
   "execution_count": 65,
   "metadata": {
    "colab": {
     "base_uri": "https://localhost:8080/"
    },
    "executionInfo": {
     "elapsed": 524,
     "status": "ok",
     "timestamp": 1638158578962,
     "user": {
      "displayName": "茅晨辉",
      "photoUrl": "https://lh3.googleusercontent.com/a/default-user=s64",
      "userId": "11126424014326517849"
     },
     "user_tz": 300
    },
    "id": "2ZlN_87EeuB0",
    "outputId": "c638ff42-f79f-4870-cdb4-61f8ad94fd0c"
   },
   "outputs": [
    {
     "name": "stdout",
     "output_type": "stream",
     "text": [
      "Drive already mounted at /content/drive; to attempt to forcibly remount, call drive.mount(\"/content/drive\", force_remount=True).\n"
     ]
    }
   ],
   "source": [
    "from google.colab import drive\n",
    "drive.mount('/content/drive')"
   ]
  },
  {
   "cell_type": "markdown",
   "metadata": {
    "id": "EDaiqzbqe2Vs"
   },
   "source": [
    "### Optional (If using Colab)"
   ]
  },
  {
   "cell_type": "code",
   "execution_count": null,
   "metadata": {
    "colab": {
     "base_uri": "https://localhost:8080/"
    },
    "executionInfo": {
     "elapsed": 156,
     "status": "ok",
     "timestamp": 1638152273420,
     "user": {
      "displayName": "茅晨辉",
      "photoUrl": "https://lh3.googleusercontent.com/a/default-user=s64",
      "userId": "11126424014326517849"
     },
     "user_tz": 300
    },
    "id": "K73J083Te1IJ",
    "outputId": "c034953c-8410-4697-ad1d-b053e9ce0511"
   },
   "outputs": [
    {
     "data": {
      "text/plain": [
       "['',\n",
       " '/content',\n",
       " '/env/python',\n",
       " '/usr/lib/python37.zip',\n",
       " '/usr/lib/python3.7',\n",
       " '/usr/lib/python3.7/lib-dynload',\n",
       " '/usr/local/lib/python3.7/dist-packages',\n",
       " '/usr/lib/python3/dist-packages',\n",
       " '/usr/local/lib/python3.7/dist-packages/IPython/extensions',\n",
       " '/root/.ipython',\n",
       " '/content/drive/MyDrive/COMS4995/COMS4995_Project']"
      ]
     },
     "execution_count": 2,
     "metadata": {},
     "output_type": "execute_result"
    }
   ],
   "source": [
    "import sys\n",
    "sys.path.append(\"/content/drive/MyDrive/COMS4995/COMS4995_Project\")\n",
    "sys.path"
   ]
  },
  {
   "cell_type": "markdown",
   "metadata": {
    "id": "nTOOyXixfBS2"
   },
   "source": [
    "### Optional (Install necessary dependecy in colab)"
   ]
  },
  {
   "cell_type": "code",
   "execution_count": null,
   "metadata": {
    "colab": {
     "base_uri": "https://localhost:8080/"
    },
    "executionInfo": {
     "elapsed": 8092,
     "status": "ok",
     "timestamp": 1638152320159,
     "user": {
      "displayName": "茅晨辉",
      "photoUrl": "https://lh3.googleusercontent.com/a/default-user=s64",
      "userId": "11126424014326517849"
     },
     "user_tz": 300
    },
    "id": "Z4xmKF3je_y9",
    "outputId": "fadb5516-0eda-4d58-be3d-262c6681d856"
   },
   "outputs": [
    {
     "name": "stdout",
     "output_type": "stream",
     "text": [
      "Collecting category_encoders\n",
      "  Downloading category_encoders-2.3.0-py2.py3-none-any.whl (82 kB)\n",
      "\u001b[?25l\r",
      "\u001b[K     |████                            | 10 kB 21.0 MB/s eta 0:00:01\r",
      "\u001b[K     |████████                        | 20 kB 27.1 MB/s eta 0:00:01\r",
      "\u001b[K     |████████████                    | 30 kB 13.2 MB/s eta 0:00:01\r",
      "\u001b[K     |████████████████                | 40 kB 9.8 MB/s eta 0:00:01\r",
      "\u001b[K     |████████████████████            | 51 kB 5.2 MB/s eta 0:00:01\r",
      "\u001b[K     |████████████████████████        | 61 kB 5.2 MB/s eta 0:00:01\r",
      "\u001b[K     |████████████████████████████    | 71 kB 5.6 MB/s eta 0:00:01\r",
      "\u001b[K     |███████████████████████████████▉| 81 kB 6.2 MB/s eta 0:00:01\r",
      "\u001b[K     |████████████████████████████████| 82 kB 329 kB/s \n",
      "\u001b[?25hRequirement already satisfied: numpy>=1.14.0 in /usr/local/lib/python3.7/dist-packages (from category_encoders) (1.19.5)\n",
      "Requirement already satisfied: patsy>=0.5.1 in /usr/local/lib/python3.7/dist-packages (from category_encoders) (0.5.2)\n",
      "Requirement already satisfied: scikit-learn>=0.20.0 in /usr/local/lib/python3.7/dist-packages (from category_encoders) (1.0.1)\n",
      "Requirement already satisfied: scipy>=1.0.0 in /usr/local/lib/python3.7/dist-packages (from category_encoders) (1.4.1)\n",
      "Requirement already satisfied: statsmodels>=0.9.0 in /usr/local/lib/python3.7/dist-packages (from category_encoders) (0.10.2)\n",
      "Requirement already satisfied: pandas>=0.21.1 in /usr/local/lib/python3.7/dist-packages (from category_encoders) (1.1.5)\n",
      "Requirement already satisfied: python-dateutil>=2.7.3 in /usr/local/lib/python3.7/dist-packages (from pandas>=0.21.1->category_encoders) (2.8.2)\n",
      "Requirement already satisfied: pytz>=2017.2 in /usr/local/lib/python3.7/dist-packages (from pandas>=0.21.1->category_encoders) (2018.9)\n",
      "Requirement already satisfied: six in /usr/local/lib/python3.7/dist-packages (from patsy>=0.5.1->category_encoders) (1.15.0)\n",
      "Requirement already satisfied: threadpoolctl>=2.0.0 in /usr/local/lib/python3.7/dist-packages (from scikit-learn>=0.20.0->category_encoders) (3.0.0)\n",
      "Requirement already satisfied: joblib>=0.11 in /usr/local/lib/python3.7/dist-packages (from scikit-learn>=0.20.0->category_encoders) (1.1.0)\n",
      "Installing collected packages: category-encoders\n",
      "Successfully installed category-encoders-2.3.0\n",
      "Requirement already satisfied: scikit-learn in /usr/local/lib/python3.7/dist-packages (1.0.1)\n",
      "Requirement already satisfied: threadpoolctl>=2.0.0 in /usr/local/lib/python3.7/dist-packages (from scikit-learn) (3.0.0)\n",
      "Requirement already satisfied: numpy>=1.14.6 in /usr/local/lib/python3.7/dist-packages (from scikit-learn) (1.19.5)\n",
      "Requirement already satisfied: joblib>=0.11 in /usr/local/lib/python3.7/dist-packages (from scikit-learn) (1.1.0)\n",
      "Requirement already satisfied: scipy>=1.1.0 in /usr/local/lib/python3.7/dist-packages (from scikit-learn) (1.4.1)\n"
     ]
    }
   ],
   "source": [
    "!pip install category_encoders\n",
    "!pip install -U scikit-learn"
   ]
  },
  {
   "cell_type": "code",
   "execution_count": 1,
   "metadata": {
    "colab": {
     "base_uri": "https://localhost:8080/"
    },
    "executionInfo": {
     "elapsed": 13544,
     "status": "ok",
     "timestamp": 1638152338930,
     "user": {
      "displayName": "茅晨辉",
      "photoUrl": "https://lh3.googleusercontent.com/a/default-user=s64",
      "userId": "11126424014326517849"
     },
     "user_tz": 300
    },
    "id": "cWp5mgN0fJMz",
    "outputId": "c374f531-475c-454b-8c40-757361081142"
   },
   "outputs": [
    {
     "name": "stderr",
     "output_type": "stream",
     "text": [
      "/Users/maochenhui/miniforge3/envs/DL/lib/python3.8/site-packages/statsmodels/tools/_testing.py:19: FutureWarning: pandas.util.testing is deprecated. Use the functions in the public API at pandas.testing instead.\n",
      "  import pandas.util.testing as tm\n"
     ]
    }
   ],
   "source": [
    "from dataset.Preprocess import Preprocess, MissingHandler\n",
    "from dataset.Encoder import DateHourEncoder, DateWeekEncoder, DateMonthEncoder, DateYearEncoder\n",
    "from utils.read_file import read_from_csv\n",
    "from sklearn.model_selection import train_test_split"
   ]
  },
  {
   "cell_type": "markdown",
   "metadata": {
    "id": "C00FjO23fOVp"
   },
   "source": [
    "### Read data"
   ]
  },
  {
   "cell_type": "code",
   "execution_count": 3,
   "metadata": {
    "colab": {
     "base_uri": "https://localhost:8080/",
     "height": 478
    },
    "executionInfo": {
     "elapsed": 3834,
     "status": "ok",
     "timestamp": 1638153100932,
     "user": {
      "displayName": "茅晨辉",
      "photoUrl": "https://lh3.googleusercontent.com/a/default-user=s64",
      "userId": "11126424014326517849"
     },
     "user_tz": 300
    },
    "id": "kku0mV_lfMhC",
    "outputId": "4a02d4ed-0c74-4874-ced0-661ee37c6c24"
   },
   "outputs": [
    {
     "name": "stdout",
     "output_type": "stream",
     "text": [
      "Load DataFrame!\n"
     ]
    },
    {
     "data": {
      "text/html": [
       "<div>\n",
       "<style scoped>\n",
       "    .dataframe tbody tr th:only-of-type {\n",
       "        vertical-align: middle;\n",
       "    }\n",
       "\n",
       "    .dataframe tbody tr th {\n",
       "        vertical-align: top;\n",
       "    }\n",
       "\n",
       "    .dataframe thead th {\n",
       "        text-align: right;\n",
       "    }\n",
       "</style>\n",
       "<table border=\"1\" class=\"dataframe\">\n",
       "  <thead>\n",
       "    <tr style=\"text-align: right;\">\n",
       "      <th></th>\n",
       "      <th>accountNumber</th>\n",
       "      <th>customerId</th>\n",
       "      <th>creditLimit</th>\n",
       "      <th>availableMoney</th>\n",
       "      <th>transactionDateTime</th>\n",
       "      <th>transactionAmount</th>\n",
       "      <th>merchantName</th>\n",
       "      <th>acqCountry</th>\n",
       "      <th>merchantCountryCode</th>\n",
       "      <th>posEntryMode</th>\n",
       "      <th>...</th>\n",
       "      <th>echoBuffer</th>\n",
       "      <th>currentBalance</th>\n",
       "      <th>merchantCity</th>\n",
       "      <th>merchantState</th>\n",
       "      <th>merchantZip</th>\n",
       "      <th>cardPresent</th>\n",
       "      <th>posOnPremises</th>\n",
       "      <th>recurringAuthInd</th>\n",
       "      <th>expirationDateKeyInMatch</th>\n",
       "      <th>isFraud</th>\n",
       "    </tr>\n",
       "  </thead>\n",
       "  <tbody>\n",
       "    <tr>\n",
       "      <th>0</th>\n",
       "      <td>737265056</td>\n",
       "      <td>737265056</td>\n",
       "      <td>5000.0</td>\n",
       "      <td>5000.00</td>\n",
       "      <td>2016-08-13T14:27:32</td>\n",
       "      <td>98.55</td>\n",
       "      <td>Uber</td>\n",
       "      <td>US</td>\n",
       "      <td>US</td>\n",
       "      <td>2.0</td>\n",
       "      <td>...</td>\n",
       "      <td>NaN</td>\n",
       "      <td>0.00</td>\n",
       "      <td>NaN</td>\n",
       "      <td>NaN</td>\n",
       "      <td>NaN</td>\n",
       "      <td>False</td>\n",
       "      <td>NaN</td>\n",
       "      <td>NaN</td>\n",
       "      <td>False</td>\n",
       "      <td>False</td>\n",
       "    </tr>\n",
       "    <tr>\n",
       "      <th>1</th>\n",
       "      <td>737265056</td>\n",
       "      <td>737265056</td>\n",
       "      <td>5000.0</td>\n",
       "      <td>5000.00</td>\n",
       "      <td>2016-10-11T05:05:54</td>\n",
       "      <td>74.51</td>\n",
       "      <td>AMC #191138</td>\n",
       "      <td>US</td>\n",
       "      <td>US</td>\n",
       "      <td>9.0</td>\n",
       "      <td>...</td>\n",
       "      <td>NaN</td>\n",
       "      <td>0.00</td>\n",
       "      <td>NaN</td>\n",
       "      <td>NaN</td>\n",
       "      <td>NaN</td>\n",
       "      <td>True</td>\n",
       "      <td>NaN</td>\n",
       "      <td>NaN</td>\n",
       "      <td>False</td>\n",
       "      <td>False</td>\n",
       "    </tr>\n",
       "    <tr>\n",
       "      <th>2</th>\n",
       "      <td>737265056</td>\n",
       "      <td>737265056</td>\n",
       "      <td>5000.0</td>\n",
       "      <td>5000.00</td>\n",
       "      <td>2016-11-08T09:18:39</td>\n",
       "      <td>7.47</td>\n",
       "      <td>Play Store</td>\n",
       "      <td>US</td>\n",
       "      <td>US</td>\n",
       "      <td>9.0</td>\n",
       "      <td>...</td>\n",
       "      <td>NaN</td>\n",
       "      <td>0.00</td>\n",
       "      <td>NaN</td>\n",
       "      <td>NaN</td>\n",
       "      <td>NaN</td>\n",
       "      <td>False</td>\n",
       "      <td>NaN</td>\n",
       "      <td>NaN</td>\n",
       "      <td>False</td>\n",
       "      <td>False</td>\n",
       "    </tr>\n",
       "    <tr>\n",
       "      <th>3</th>\n",
       "      <td>737265056</td>\n",
       "      <td>737265056</td>\n",
       "      <td>5000.0</td>\n",
       "      <td>5000.00</td>\n",
       "      <td>2016-12-10T02:14:50</td>\n",
       "      <td>7.47</td>\n",
       "      <td>Play Store</td>\n",
       "      <td>US</td>\n",
       "      <td>US</td>\n",
       "      <td>9.0</td>\n",
       "      <td>...</td>\n",
       "      <td>NaN</td>\n",
       "      <td>0.00</td>\n",
       "      <td>NaN</td>\n",
       "      <td>NaN</td>\n",
       "      <td>NaN</td>\n",
       "      <td>False</td>\n",
       "      <td>NaN</td>\n",
       "      <td>NaN</td>\n",
       "      <td>False</td>\n",
       "      <td>False</td>\n",
       "    </tr>\n",
       "    <tr>\n",
       "      <th>4</th>\n",
       "      <td>830329091</td>\n",
       "      <td>830329091</td>\n",
       "      <td>5000.0</td>\n",
       "      <td>5000.00</td>\n",
       "      <td>2016-03-24T21:04:46</td>\n",
       "      <td>71.18</td>\n",
       "      <td>Tim Hortons #947751</td>\n",
       "      <td>US</td>\n",
       "      <td>US</td>\n",
       "      <td>2.0</td>\n",
       "      <td>...</td>\n",
       "      <td>NaN</td>\n",
       "      <td>0.00</td>\n",
       "      <td>NaN</td>\n",
       "      <td>NaN</td>\n",
       "      <td>NaN</td>\n",
       "      <td>True</td>\n",
       "      <td>NaN</td>\n",
       "      <td>NaN</td>\n",
       "      <td>False</td>\n",
       "      <td>False</td>\n",
       "    </tr>\n",
       "    <tr>\n",
       "      <th>...</th>\n",
       "      <td>...</td>\n",
       "      <td>...</td>\n",
       "      <td>...</td>\n",
       "      <td>...</td>\n",
       "      <td>...</td>\n",
       "      <td>...</td>\n",
       "      <td>...</td>\n",
       "      <td>...</td>\n",
       "      <td>...</td>\n",
       "      <td>...</td>\n",
       "      <td>...</td>\n",
       "      <td>...</td>\n",
       "      <td>...</td>\n",
       "      <td>...</td>\n",
       "      <td>...</td>\n",
       "      <td>...</td>\n",
       "      <td>...</td>\n",
       "      <td>...</td>\n",
       "      <td>...</td>\n",
       "      <td>...</td>\n",
       "      <td>...</td>\n",
       "    </tr>\n",
       "    <tr>\n",
       "      <th>786358</th>\n",
       "      <td>732852505</td>\n",
       "      <td>732852505</td>\n",
       "      <td>50000.0</td>\n",
       "      <td>48904.96</td>\n",
       "      <td>2016-12-22T18:44:12</td>\n",
       "      <td>119.92</td>\n",
       "      <td>Lyft</td>\n",
       "      <td>US</td>\n",
       "      <td>US</td>\n",
       "      <td>90.0</td>\n",
       "      <td>...</td>\n",
       "      <td>NaN</td>\n",
       "      <td>1095.04</td>\n",
       "      <td>NaN</td>\n",
       "      <td>NaN</td>\n",
       "      <td>NaN</td>\n",
       "      <td>False</td>\n",
       "      <td>NaN</td>\n",
       "      <td>NaN</td>\n",
       "      <td>False</td>\n",
       "      <td>False</td>\n",
       "    </tr>\n",
       "    <tr>\n",
       "      <th>786359</th>\n",
       "      <td>732852505</td>\n",
       "      <td>732852505</td>\n",
       "      <td>50000.0</td>\n",
       "      <td>48785.04</td>\n",
       "      <td>2016-12-25T16:20:34</td>\n",
       "      <td>18.89</td>\n",
       "      <td>hulu.com</td>\n",
       "      <td>US</td>\n",
       "      <td>US</td>\n",
       "      <td>9.0</td>\n",
       "      <td>...</td>\n",
       "      <td>NaN</td>\n",
       "      <td>1214.96</td>\n",
       "      <td>NaN</td>\n",
       "      <td>NaN</td>\n",
       "      <td>NaN</td>\n",
       "      <td>False</td>\n",
       "      <td>NaN</td>\n",
       "      <td>NaN</td>\n",
       "      <td>False</td>\n",
       "      <td>False</td>\n",
       "    </tr>\n",
       "    <tr>\n",
       "      <th>786360</th>\n",
       "      <td>732852505</td>\n",
       "      <td>732852505</td>\n",
       "      <td>50000.0</td>\n",
       "      <td>48766.15</td>\n",
       "      <td>2016-12-27T15:46:24</td>\n",
       "      <td>49.43</td>\n",
       "      <td>Lyft</td>\n",
       "      <td>US</td>\n",
       "      <td>US</td>\n",
       "      <td>2.0</td>\n",
       "      <td>...</td>\n",
       "      <td>NaN</td>\n",
       "      <td>1233.85</td>\n",
       "      <td>NaN</td>\n",
       "      <td>NaN</td>\n",
       "      <td>NaN</td>\n",
       "      <td>False</td>\n",
       "      <td>NaN</td>\n",
       "      <td>NaN</td>\n",
       "      <td>False</td>\n",
       "      <td>False</td>\n",
       "    </tr>\n",
       "    <tr>\n",
       "      <th>786361</th>\n",
       "      <td>732852505</td>\n",
       "      <td>732852505</td>\n",
       "      <td>50000.0</td>\n",
       "      <td>48716.72</td>\n",
       "      <td>2016-12-29T00:30:55</td>\n",
       "      <td>49.89</td>\n",
       "      <td>walmart.com</td>\n",
       "      <td>US</td>\n",
       "      <td>US</td>\n",
       "      <td>9.0</td>\n",
       "      <td>...</td>\n",
       "      <td>NaN</td>\n",
       "      <td>1283.28</td>\n",
       "      <td>NaN</td>\n",
       "      <td>NaN</td>\n",
       "      <td>NaN</td>\n",
       "      <td>False</td>\n",
       "      <td>NaN</td>\n",
       "      <td>NaN</td>\n",
       "      <td>False</td>\n",
       "      <td>False</td>\n",
       "    </tr>\n",
       "    <tr>\n",
       "      <th>786362</th>\n",
       "      <td>732852505</td>\n",
       "      <td>732852505</td>\n",
       "      <td>50000.0</td>\n",
       "      <td>48666.83</td>\n",
       "      <td>2016-12-30T20:10:29</td>\n",
       "      <td>72.18</td>\n",
       "      <td>Uber</td>\n",
       "      <td>US</td>\n",
       "      <td>US</td>\n",
       "      <td>5.0</td>\n",
       "      <td>...</td>\n",
       "      <td>NaN</td>\n",
       "      <td>1333.17</td>\n",
       "      <td>NaN</td>\n",
       "      <td>NaN</td>\n",
       "      <td>NaN</td>\n",
       "      <td>False</td>\n",
       "      <td>NaN</td>\n",
       "      <td>NaN</td>\n",
       "      <td>False</td>\n",
       "      <td>False</td>\n",
       "    </tr>\n",
       "  </tbody>\n",
       "</table>\n",
       "<p>786363 rows × 29 columns</p>\n",
       "</div>"
      ],
      "text/plain": [
       "        accountNumber  customerId  creditLimit  availableMoney  \\\n",
       "0           737265056   737265056       5000.0         5000.00   \n",
       "1           737265056   737265056       5000.0         5000.00   \n",
       "2           737265056   737265056       5000.0         5000.00   \n",
       "3           737265056   737265056       5000.0         5000.00   \n",
       "4           830329091   830329091       5000.0         5000.00   \n",
       "...               ...         ...          ...             ...   \n",
       "786358      732852505   732852505      50000.0        48904.96   \n",
       "786359      732852505   732852505      50000.0        48785.04   \n",
       "786360      732852505   732852505      50000.0        48766.15   \n",
       "786361      732852505   732852505      50000.0        48716.72   \n",
       "786362      732852505   732852505      50000.0        48666.83   \n",
       "\n",
       "        transactionDateTime  transactionAmount         merchantName  \\\n",
       "0       2016-08-13T14:27:32              98.55                 Uber   \n",
       "1       2016-10-11T05:05:54              74.51          AMC #191138   \n",
       "2       2016-11-08T09:18:39               7.47           Play Store   \n",
       "3       2016-12-10T02:14:50               7.47           Play Store   \n",
       "4       2016-03-24T21:04:46              71.18  Tim Hortons #947751   \n",
       "...                     ...                ...                  ...   \n",
       "786358  2016-12-22T18:44:12             119.92                 Lyft   \n",
       "786359  2016-12-25T16:20:34              18.89             hulu.com   \n",
       "786360  2016-12-27T15:46:24              49.43                 Lyft   \n",
       "786361  2016-12-29T00:30:55              49.89          walmart.com   \n",
       "786362  2016-12-30T20:10:29              72.18                 Uber   \n",
       "\n",
       "       acqCountry merchantCountryCode  posEntryMode  ...  echoBuffer  \\\n",
       "0              US                  US           2.0  ...         NaN   \n",
       "1              US                  US           9.0  ...         NaN   \n",
       "2              US                  US           9.0  ...         NaN   \n",
       "3              US                  US           9.0  ...         NaN   \n",
       "4              US                  US           2.0  ...         NaN   \n",
       "...           ...                 ...           ...  ...         ...   \n",
       "786358         US                  US          90.0  ...         NaN   \n",
       "786359         US                  US           9.0  ...         NaN   \n",
       "786360         US                  US           2.0  ...         NaN   \n",
       "786361         US                  US           9.0  ...         NaN   \n",
       "786362         US                  US           5.0  ...         NaN   \n",
       "\n",
       "       currentBalance merchantCity merchantState merchantZip  cardPresent  \\\n",
       "0                0.00          NaN           NaN         NaN        False   \n",
       "1                0.00          NaN           NaN         NaN         True   \n",
       "2                0.00          NaN           NaN         NaN        False   \n",
       "3                0.00          NaN           NaN         NaN        False   \n",
       "4                0.00          NaN           NaN         NaN         True   \n",
       "...               ...          ...           ...         ...          ...   \n",
       "786358        1095.04          NaN           NaN         NaN        False   \n",
       "786359        1214.96          NaN           NaN         NaN        False   \n",
       "786360        1233.85          NaN           NaN         NaN        False   \n",
       "786361        1283.28          NaN           NaN         NaN        False   \n",
       "786362        1333.17          NaN           NaN         NaN        False   \n",
       "\n",
       "        posOnPremises  recurringAuthInd expirationDateKeyInMatch  isFraud  \n",
       "0                 NaN               NaN                    False    False  \n",
       "1                 NaN               NaN                    False    False  \n",
       "2                 NaN               NaN                    False    False  \n",
       "3                 NaN               NaN                    False    False  \n",
       "4                 NaN               NaN                    False    False  \n",
       "...               ...               ...                      ...      ...  \n",
       "786358            NaN               NaN                    False    False  \n",
       "786359            NaN               NaN                    False    False  \n",
       "786360            NaN               NaN                    False    False  \n",
       "786361            NaN               NaN                    False    False  \n",
       "786362            NaN               NaN                    False    False  \n",
       "\n",
       "[786363 rows x 29 columns]"
      ]
     },
     "execution_count": 3,
     "metadata": {},
     "output_type": "execute_result"
    }
   ],
   "source": [
    "file = \"data/transaction.csv\"\n",
    "df = read_from_csv(file)\n",
    "df"
   ]
  },
  {
   "cell_type": "markdown",
   "metadata": {
    "id": "E_iFlKiqfac1"
   },
   "source": [
    "### Transformation"
   ]
  },
  {
   "cell_type": "markdown",
   "metadata": {
    "id": "N2VjBPBvfdQV"
   },
   "source": [
    "#### Transform Date variable"
   ]
  },
  {
   "cell_type": "code",
   "execution_count": 4,
   "metadata": {
    "id": "NyGUyi3TfXzp"
   },
   "outputs": [],
   "source": [
    "he = DateHourEncoder(\"%Y-%m-%dT%H:%M:%S\")\n",
    "me = DateMonthEncoder(\"%Y-%m-%dT%H:%M:%S\")\n",
    "we = DateWeekEncoder(\"%Y-%m-%dT%H:%M:%S\")\n",
    "ye = DateYearEncoder(\"%Y-%m-%dT%H:%M:%S\")\n",
    "\n",
    "df[\"transactionDateTime_hour\"] = he.transform(df[\"transactionDateTime\"])\n",
    "df[\"transactionDateTime_weekday\"] = we.transform(df[\"transactionDateTime\"])\n",
    "df[\"transactionDateTime_month\"] = me.transform(df[\"transactionDateTime\"])\n",
    "# df[\"transactionDateTime_year\"] = ye.transform(df[\"transactionDateTime\"])\n",
    "\n",
    "# df[\"accountOpenDate_year\"] = DateYearEncoder(\"%Y-%m-%d\").transform(df[\"accountOpenDate\"])\n",
    "# df[\"accountOpenDate_weekday\"] = DateWeekEncoder(\"%Y-%m-%d\").transform(df[\"accountOpenDate\"])\n",
    "# df[\"accountOpenDate_month\"] = DateMonthEncoder(\"%Y-%m-%d\").transform(df[\"accountOpenDate\"])\n",
    "\n",
    "# df[\"dateOfLastAddressChange_year\"] = DateYearEncoder(\"%Y-%m-%d\").transform(df[\"dateOfLastAddressChange\"])\n",
    "# df[\"dateOfLastAddressChange_weekday\"] = DateWeekEncoder(\"%Y-%m-%d\").transform(df[\"dateOfLastAddressChange\"])\n",
    "# df[\"dateOfLastAddressChange_month\"] = DateMonthEncoder(\"%Y-%m-%d\").transform(df[\"dateOfLastAddressChange\"])\n",
    "\n",
    "# df[\"currentExpDate_year\"] = DateYearEncoder(\"%m/%Y\").transform(df[\"currentExpDate\"])\n",
    "# df[\"currentExpDate_month\"] = DateMonthEncoder(\"%m/%Y\").transform(df[\"currentExpDate\"])"
   ]
  },
  {
   "cell_type": "markdown",
   "metadata": {
    "id": "YHFZVY98fjz7"
   },
   "source": [
    "#### Transform CVV"
   ]
  },
  {
   "cell_type": "code",
   "execution_count": 5,
   "metadata": {
    "id": "RFN8FjIlfh0_"
   },
   "outputs": [],
   "source": [
    "def num_digits_mismatching_cvv(cardCVV,enteredCVV):\n",
    "    num_mismatch=0\n",
    "    cardCVV=str(cardCVV)\n",
    "    enteredCVV=str(enteredCVV)\n",
    "    if len(cardCVV)==len(enteredCVV):\n",
    "        for i in range(len(cardCVV)):\n",
    "            if cardCVV[i]!=enteredCVV[i]:\n",
    "                num_mismatch+=1\n",
    "    return num_mismatch\n",
    "df['matchingCVV'] = df.apply(lambda x: num_digits_mismatching_cvv(x.cardCVV, x.enteredCVV), axis=1)"
   ]
  },
  {
   "cell_type": "code",
   "execution_count": 6,
   "metadata": {
    "colab": {
     "base_uri": "https://localhost:8080/",
     "height": 461
    },
    "executionInfo": {
     "elapsed": 187,
     "status": "ok",
     "timestamp": 1638153153090,
     "user": {
      "displayName": "茅晨辉",
      "photoUrl": "https://lh3.googleusercontent.com/a/default-user=s64",
      "userId": "11126424014326517849"
     },
     "user_tz": 300
    },
    "id": "4EXKSQWcfnuQ",
    "outputId": "93e641a4-ec5b-4a7a-bc5f-73cd4051a440"
   },
   "outputs": [
    {
     "data": {
      "text/html": [
       "<div>\n",
       "<style scoped>\n",
       "    .dataframe tbody tr th:only-of-type {\n",
       "        vertical-align: middle;\n",
       "    }\n",
       "\n",
       "    .dataframe tbody tr th {\n",
       "        vertical-align: top;\n",
       "    }\n",
       "\n",
       "    .dataframe thead th {\n",
       "        text-align: right;\n",
       "    }\n",
       "</style>\n",
       "<table border=\"1\" class=\"dataframe\">\n",
       "  <thead>\n",
       "    <tr style=\"text-align: right;\">\n",
       "      <th></th>\n",
       "      <th>accountNumber</th>\n",
       "      <th>customerId</th>\n",
       "      <th>creditLimit</th>\n",
       "      <th>availableMoney</th>\n",
       "      <th>transactionDateTime</th>\n",
       "      <th>transactionAmount</th>\n",
       "      <th>merchantName</th>\n",
       "      <th>acqCountry</th>\n",
       "      <th>merchantCountryCode</th>\n",
       "      <th>posEntryMode</th>\n",
       "      <th>...</th>\n",
       "      <th>merchantZip</th>\n",
       "      <th>cardPresent</th>\n",
       "      <th>posOnPremises</th>\n",
       "      <th>recurringAuthInd</th>\n",
       "      <th>expirationDateKeyInMatch</th>\n",
       "      <th>isFraud</th>\n",
       "      <th>transactionDateTime_hour</th>\n",
       "      <th>transactionDateTime_weekday</th>\n",
       "      <th>transactionDateTime_month</th>\n",
       "      <th>matchingCVV</th>\n",
       "    </tr>\n",
       "  </thead>\n",
       "  <tbody>\n",
       "    <tr>\n",
       "      <th>0</th>\n",
       "      <td>737265056</td>\n",
       "      <td>737265056</td>\n",
       "      <td>5000.0</td>\n",
       "      <td>5000.00</td>\n",
       "      <td>2016-08-13T14:27:32</td>\n",
       "      <td>98.55</td>\n",
       "      <td>Uber</td>\n",
       "      <td>US</td>\n",
       "      <td>US</td>\n",
       "      <td>2.0</td>\n",
       "      <td>...</td>\n",
       "      <td>NaN</td>\n",
       "      <td>False</td>\n",
       "      <td>NaN</td>\n",
       "      <td>NaN</td>\n",
       "      <td>False</td>\n",
       "      <td>False</td>\n",
       "      <td>14</td>\n",
       "      <td>5</td>\n",
       "      <td>8</td>\n",
       "      <td>True</td>\n",
       "    </tr>\n",
       "    <tr>\n",
       "      <th>1</th>\n",
       "      <td>737265056</td>\n",
       "      <td>737265056</td>\n",
       "      <td>5000.0</td>\n",
       "      <td>5000.00</td>\n",
       "      <td>2016-10-11T05:05:54</td>\n",
       "      <td>74.51</td>\n",
       "      <td>AMC #191138</td>\n",
       "      <td>US</td>\n",
       "      <td>US</td>\n",
       "      <td>9.0</td>\n",
       "      <td>...</td>\n",
       "      <td>NaN</td>\n",
       "      <td>True</td>\n",
       "      <td>NaN</td>\n",
       "      <td>NaN</td>\n",
       "      <td>False</td>\n",
       "      <td>False</td>\n",
       "      <td>5</td>\n",
       "      <td>1</td>\n",
       "      <td>10</td>\n",
       "      <td>True</td>\n",
       "    </tr>\n",
       "    <tr>\n",
       "      <th>2</th>\n",
       "      <td>737265056</td>\n",
       "      <td>737265056</td>\n",
       "      <td>5000.0</td>\n",
       "      <td>5000.00</td>\n",
       "      <td>2016-11-08T09:18:39</td>\n",
       "      <td>7.47</td>\n",
       "      <td>Play Store</td>\n",
       "      <td>US</td>\n",
       "      <td>US</td>\n",
       "      <td>9.0</td>\n",
       "      <td>...</td>\n",
       "      <td>NaN</td>\n",
       "      <td>False</td>\n",
       "      <td>NaN</td>\n",
       "      <td>NaN</td>\n",
       "      <td>False</td>\n",
       "      <td>False</td>\n",
       "      <td>9</td>\n",
       "      <td>1</td>\n",
       "      <td>11</td>\n",
       "      <td>True</td>\n",
       "    </tr>\n",
       "    <tr>\n",
       "      <th>3</th>\n",
       "      <td>737265056</td>\n",
       "      <td>737265056</td>\n",
       "      <td>5000.0</td>\n",
       "      <td>5000.00</td>\n",
       "      <td>2016-12-10T02:14:50</td>\n",
       "      <td>7.47</td>\n",
       "      <td>Play Store</td>\n",
       "      <td>US</td>\n",
       "      <td>US</td>\n",
       "      <td>9.0</td>\n",
       "      <td>...</td>\n",
       "      <td>NaN</td>\n",
       "      <td>False</td>\n",
       "      <td>NaN</td>\n",
       "      <td>NaN</td>\n",
       "      <td>False</td>\n",
       "      <td>False</td>\n",
       "      <td>2</td>\n",
       "      <td>5</td>\n",
       "      <td>12</td>\n",
       "      <td>True</td>\n",
       "    </tr>\n",
       "    <tr>\n",
       "      <th>4</th>\n",
       "      <td>830329091</td>\n",
       "      <td>830329091</td>\n",
       "      <td>5000.0</td>\n",
       "      <td>5000.00</td>\n",
       "      <td>2016-03-24T21:04:46</td>\n",
       "      <td>71.18</td>\n",
       "      <td>Tim Hortons #947751</td>\n",
       "      <td>US</td>\n",
       "      <td>US</td>\n",
       "      <td>2.0</td>\n",
       "      <td>...</td>\n",
       "      <td>NaN</td>\n",
       "      <td>True</td>\n",
       "      <td>NaN</td>\n",
       "      <td>NaN</td>\n",
       "      <td>False</td>\n",
       "      <td>False</td>\n",
       "      <td>21</td>\n",
       "      <td>3</td>\n",
       "      <td>3</td>\n",
       "      <td>True</td>\n",
       "    </tr>\n",
       "    <tr>\n",
       "      <th>...</th>\n",
       "      <td>...</td>\n",
       "      <td>...</td>\n",
       "      <td>...</td>\n",
       "      <td>...</td>\n",
       "      <td>...</td>\n",
       "      <td>...</td>\n",
       "      <td>...</td>\n",
       "      <td>...</td>\n",
       "      <td>...</td>\n",
       "      <td>...</td>\n",
       "      <td>...</td>\n",
       "      <td>...</td>\n",
       "      <td>...</td>\n",
       "      <td>...</td>\n",
       "      <td>...</td>\n",
       "      <td>...</td>\n",
       "      <td>...</td>\n",
       "      <td>...</td>\n",
       "      <td>...</td>\n",
       "      <td>...</td>\n",
       "      <td>...</td>\n",
       "    </tr>\n",
       "    <tr>\n",
       "      <th>786358</th>\n",
       "      <td>732852505</td>\n",
       "      <td>732852505</td>\n",
       "      <td>50000.0</td>\n",
       "      <td>48904.96</td>\n",
       "      <td>2016-12-22T18:44:12</td>\n",
       "      <td>119.92</td>\n",
       "      <td>Lyft</td>\n",
       "      <td>US</td>\n",
       "      <td>US</td>\n",
       "      <td>90.0</td>\n",
       "      <td>...</td>\n",
       "      <td>NaN</td>\n",
       "      <td>False</td>\n",
       "      <td>NaN</td>\n",
       "      <td>NaN</td>\n",
       "      <td>False</td>\n",
       "      <td>False</td>\n",
       "      <td>18</td>\n",
       "      <td>3</td>\n",
       "      <td>12</td>\n",
       "      <td>True</td>\n",
       "    </tr>\n",
       "    <tr>\n",
       "      <th>786359</th>\n",
       "      <td>732852505</td>\n",
       "      <td>732852505</td>\n",
       "      <td>50000.0</td>\n",
       "      <td>48785.04</td>\n",
       "      <td>2016-12-25T16:20:34</td>\n",
       "      <td>18.89</td>\n",
       "      <td>hulu.com</td>\n",
       "      <td>US</td>\n",
       "      <td>US</td>\n",
       "      <td>9.0</td>\n",
       "      <td>...</td>\n",
       "      <td>NaN</td>\n",
       "      <td>False</td>\n",
       "      <td>NaN</td>\n",
       "      <td>NaN</td>\n",
       "      <td>False</td>\n",
       "      <td>False</td>\n",
       "      <td>16</td>\n",
       "      <td>6</td>\n",
       "      <td>12</td>\n",
       "      <td>True</td>\n",
       "    </tr>\n",
       "    <tr>\n",
       "      <th>786360</th>\n",
       "      <td>732852505</td>\n",
       "      <td>732852505</td>\n",
       "      <td>50000.0</td>\n",
       "      <td>48766.15</td>\n",
       "      <td>2016-12-27T15:46:24</td>\n",
       "      <td>49.43</td>\n",
       "      <td>Lyft</td>\n",
       "      <td>US</td>\n",
       "      <td>US</td>\n",
       "      <td>2.0</td>\n",
       "      <td>...</td>\n",
       "      <td>NaN</td>\n",
       "      <td>False</td>\n",
       "      <td>NaN</td>\n",
       "      <td>NaN</td>\n",
       "      <td>False</td>\n",
       "      <td>False</td>\n",
       "      <td>15</td>\n",
       "      <td>1</td>\n",
       "      <td>12</td>\n",
       "      <td>True</td>\n",
       "    </tr>\n",
       "    <tr>\n",
       "      <th>786361</th>\n",
       "      <td>732852505</td>\n",
       "      <td>732852505</td>\n",
       "      <td>50000.0</td>\n",
       "      <td>48716.72</td>\n",
       "      <td>2016-12-29T00:30:55</td>\n",
       "      <td>49.89</td>\n",
       "      <td>walmart.com</td>\n",
       "      <td>US</td>\n",
       "      <td>US</td>\n",
       "      <td>9.0</td>\n",
       "      <td>...</td>\n",
       "      <td>NaN</td>\n",
       "      <td>False</td>\n",
       "      <td>NaN</td>\n",
       "      <td>NaN</td>\n",
       "      <td>False</td>\n",
       "      <td>False</td>\n",
       "      <td>0</td>\n",
       "      <td>3</td>\n",
       "      <td>12</td>\n",
       "      <td>True</td>\n",
       "    </tr>\n",
       "    <tr>\n",
       "      <th>786362</th>\n",
       "      <td>732852505</td>\n",
       "      <td>732852505</td>\n",
       "      <td>50000.0</td>\n",
       "      <td>48666.83</td>\n",
       "      <td>2016-12-30T20:10:29</td>\n",
       "      <td>72.18</td>\n",
       "      <td>Uber</td>\n",
       "      <td>US</td>\n",
       "      <td>US</td>\n",
       "      <td>5.0</td>\n",
       "      <td>...</td>\n",
       "      <td>NaN</td>\n",
       "      <td>False</td>\n",
       "      <td>NaN</td>\n",
       "      <td>NaN</td>\n",
       "      <td>False</td>\n",
       "      <td>False</td>\n",
       "      <td>20</td>\n",
       "      <td>4</td>\n",
       "      <td>12</td>\n",
       "      <td>True</td>\n",
       "    </tr>\n",
       "  </tbody>\n",
       "</table>\n",
       "<p>786363 rows × 33 columns</p>\n",
       "</div>"
      ],
      "text/plain": [
       "        accountNumber  customerId  creditLimit  availableMoney  \\\n",
       "0           737265056   737265056       5000.0         5000.00   \n",
       "1           737265056   737265056       5000.0         5000.00   \n",
       "2           737265056   737265056       5000.0         5000.00   \n",
       "3           737265056   737265056       5000.0         5000.00   \n",
       "4           830329091   830329091       5000.0         5000.00   \n",
       "...               ...         ...          ...             ...   \n",
       "786358      732852505   732852505      50000.0        48904.96   \n",
       "786359      732852505   732852505      50000.0        48785.04   \n",
       "786360      732852505   732852505      50000.0        48766.15   \n",
       "786361      732852505   732852505      50000.0        48716.72   \n",
       "786362      732852505   732852505      50000.0        48666.83   \n",
       "\n",
       "        transactionDateTime  transactionAmount         merchantName  \\\n",
       "0       2016-08-13T14:27:32              98.55                 Uber   \n",
       "1       2016-10-11T05:05:54              74.51          AMC #191138   \n",
       "2       2016-11-08T09:18:39               7.47           Play Store   \n",
       "3       2016-12-10T02:14:50               7.47           Play Store   \n",
       "4       2016-03-24T21:04:46              71.18  Tim Hortons #947751   \n",
       "...                     ...                ...                  ...   \n",
       "786358  2016-12-22T18:44:12             119.92                 Lyft   \n",
       "786359  2016-12-25T16:20:34              18.89             hulu.com   \n",
       "786360  2016-12-27T15:46:24              49.43                 Lyft   \n",
       "786361  2016-12-29T00:30:55              49.89          walmart.com   \n",
       "786362  2016-12-30T20:10:29              72.18                 Uber   \n",
       "\n",
       "       acqCountry merchantCountryCode  posEntryMode  ...  merchantZip  \\\n",
       "0              US                  US           2.0  ...          NaN   \n",
       "1              US                  US           9.0  ...          NaN   \n",
       "2              US                  US           9.0  ...          NaN   \n",
       "3              US                  US           9.0  ...          NaN   \n",
       "4              US                  US           2.0  ...          NaN   \n",
       "...           ...                 ...           ...  ...          ...   \n",
       "786358         US                  US          90.0  ...          NaN   \n",
       "786359         US                  US           9.0  ...          NaN   \n",
       "786360         US                  US           2.0  ...          NaN   \n",
       "786361         US                  US           9.0  ...          NaN   \n",
       "786362         US                  US           5.0  ...          NaN   \n",
       "\n",
       "       cardPresent posOnPremises recurringAuthInd expirationDateKeyInMatch  \\\n",
       "0            False           NaN              NaN                    False   \n",
       "1             True           NaN              NaN                    False   \n",
       "2            False           NaN              NaN                    False   \n",
       "3            False           NaN              NaN                    False   \n",
       "4             True           NaN              NaN                    False   \n",
       "...            ...           ...              ...                      ...   \n",
       "786358       False           NaN              NaN                    False   \n",
       "786359       False           NaN              NaN                    False   \n",
       "786360       False           NaN              NaN                    False   \n",
       "786361       False           NaN              NaN                    False   \n",
       "786362       False           NaN              NaN                    False   \n",
       "\n",
       "        isFraud  transactionDateTime_hour  transactionDateTime_weekday  \\\n",
       "0         False                        14                            5   \n",
       "1         False                         5                            1   \n",
       "2         False                         9                            1   \n",
       "3         False                         2                            5   \n",
       "4         False                        21                            3   \n",
       "...         ...                       ...                          ...   \n",
       "786358    False                        18                            3   \n",
       "786359    False                        16                            6   \n",
       "786360    False                        15                            1   \n",
       "786361    False                         0                            3   \n",
       "786362    False                        20                            4   \n",
       "\n",
       "       transactionDateTime_month  matchingCVV  \n",
       "0                              8         True  \n",
       "1                             10         True  \n",
       "2                             11         True  \n",
       "3                             12         True  \n",
       "4                              3         True  \n",
       "...                          ...          ...  \n",
       "786358                        12         True  \n",
       "786359                        12         True  \n",
       "786360                        12         True  \n",
       "786361                        12         True  \n",
       "786362                        12         True  \n",
       "\n",
       "[786363 rows x 33 columns]"
      ]
     },
     "execution_count": 6,
     "metadata": {},
     "output_type": "execute_result"
    }
   ],
   "source": [
    "df"
   ]
  },
  {
   "cell_type": "markdown",
   "metadata": {
    "id": "tztxKSNhftSt"
   },
   "source": [
    "### Remove some unwanted Variables"
   ]
  },
  {
   "cell_type": "code",
   "execution_count": 7,
   "metadata": {
    "id": "4WL4IoubfrYi"
   },
   "outputs": [],
   "source": [
    "df = df.drop([\"accountNumber\", \n",
    "              \"accountOpenDate\", \n",
    "              \"dateOfLastAddressChange\", \n",
    "              \"currentExpDate\", \n",
    "              \"transactionDateTime\"], axis=1)"
   ]
  },
  {
   "cell_type": "code",
   "execution_count": 8,
   "metadata": {
    "colab": {
     "base_uri": "https://localhost:8080/",
     "height": 461
    },
    "executionInfo": {
     "elapsed": 133,
     "status": "ok",
     "timestamp": 1638153160317,
     "user": {
      "displayName": "茅晨辉",
      "photoUrl": "https://lh3.googleusercontent.com/a/default-user=s64",
      "userId": "11126424014326517849"
     },
     "user_tz": 300
    },
    "id": "AMyh3xhdf3YL",
    "outputId": "6aa81f10-aadc-406f-df95-1ad65d6fe000"
   },
   "outputs": [
    {
     "data": {
      "text/html": [
       "<div>\n",
       "<style scoped>\n",
       "    .dataframe tbody tr th:only-of-type {\n",
       "        vertical-align: middle;\n",
       "    }\n",
       "\n",
       "    .dataframe tbody tr th {\n",
       "        vertical-align: top;\n",
       "    }\n",
       "\n",
       "    .dataframe thead th {\n",
       "        text-align: right;\n",
       "    }\n",
       "</style>\n",
       "<table border=\"1\" class=\"dataframe\">\n",
       "  <thead>\n",
       "    <tr style=\"text-align: right;\">\n",
       "      <th></th>\n",
       "      <th>customerId</th>\n",
       "      <th>creditLimit</th>\n",
       "      <th>availableMoney</th>\n",
       "      <th>transactionAmount</th>\n",
       "      <th>merchantName</th>\n",
       "      <th>acqCountry</th>\n",
       "      <th>merchantCountryCode</th>\n",
       "      <th>posEntryMode</th>\n",
       "      <th>posConditionCode</th>\n",
       "      <th>merchantCategoryCode</th>\n",
       "      <th>...</th>\n",
       "      <th>merchantZip</th>\n",
       "      <th>cardPresent</th>\n",
       "      <th>posOnPremises</th>\n",
       "      <th>recurringAuthInd</th>\n",
       "      <th>expirationDateKeyInMatch</th>\n",
       "      <th>isFraud</th>\n",
       "      <th>transactionDateTime_hour</th>\n",
       "      <th>transactionDateTime_weekday</th>\n",
       "      <th>transactionDateTime_month</th>\n",
       "      <th>matchingCVV</th>\n",
       "    </tr>\n",
       "  </thead>\n",
       "  <tbody>\n",
       "    <tr>\n",
       "      <th>0</th>\n",
       "      <td>737265056</td>\n",
       "      <td>5000.0</td>\n",
       "      <td>5000.00</td>\n",
       "      <td>98.55</td>\n",
       "      <td>Uber</td>\n",
       "      <td>US</td>\n",
       "      <td>US</td>\n",
       "      <td>2.0</td>\n",
       "      <td>1.0</td>\n",
       "      <td>rideshare</td>\n",
       "      <td>...</td>\n",
       "      <td>NaN</td>\n",
       "      <td>False</td>\n",
       "      <td>NaN</td>\n",
       "      <td>NaN</td>\n",
       "      <td>False</td>\n",
       "      <td>False</td>\n",
       "      <td>14</td>\n",
       "      <td>5</td>\n",
       "      <td>8</td>\n",
       "      <td>True</td>\n",
       "    </tr>\n",
       "    <tr>\n",
       "      <th>1</th>\n",
       "      <td>737265056</td>\n",
       "      <td>5000.0</td>\n",
       "      <td>5000.00</td>\n",
       "      <td>74.51</td>\n",
       "      <td>AMC #191138</td>\n",
       "      <td>US</td>\n",
       "      <td>US</td>\n",
       "      <td>9.0</td>\n",
       "      <td>1.0</td>\n",
       "      <td>entertainment</td>\n",
       "      <td>...</td>\n",
       "      <td>NaN</td>\n",
       "      <td>True</td>\n",
       "      <td>NaN</td>\n",
       "      <td>NaN</td>\n",
       "      <td>False</td>\n",
       "      <td>False</td>\n",
       "      <td>5</td>\n",
       "      <td>1</td>\n",
       "      <td>10</td>\n",
       "      <td>True</td>\n",
       "    </tr>\n",
       "    <tr>\n",
       "      <th>2</th>\n",
       "      <td>737265056</td>\n",
       "      <td>5000.0</td>\n",
       "      <td>5000.00</td>\n",
       "      <td>7.47</td>\n",
       "      <td>Play Store</td>\n",
       "      <td>US</td>\n",
       "      <td>US</td>\n",
       "      <td>9.0</td>\n",
       "      <td>1.0</td>\n",
       "      <td>mobileapps</td>\n",
       "      <td>...</td>\n",
       "      <td>NaN</td>\n",
       "      <td>False</td>\n",
       "      <td>NaN</td>\n",
       "      <td>NaN</td>\n",
       "      <td>False</td>\n",
       "      <td>False</td>\n",
       "      <td>9</td>\n",
       "      <td>1</td>\n",
       "      <td>11</td>\n",
       "      <td>True</td>\n",
       "    </tr>\n",
       "    <tr>\n",
       "      <th>3</th>\n",
       "      <td>737265056</td>\n",
       "      <td>5000.0</td>\n",
       "      <td>5000.00</td>\n",
       "      <td>7.47</td>\n",
       "      <td>Play Store</td>\n",
       "      <td>US</td>\n",
       "      <td>US</td>\n",
       "      <td>9.0</td>\n",
       "      <td>1.0</td>\n",
       "      <td>mobileapps</td>\n",
       "      <td>...</td>\n",
       "      <td>NaN</td>\n",
       "      <td>False</td>\n",
       "      <td>NaN</td>\n",
       "      <td>NaN</td>\n",
       "      <td>False</td>\n",
       "      <td>False</td>\n",
       "      <td>2</td>\n",
       "      <td>5</td>\n",
       "      <td>12</td>\n",
       "      <td>True</td>\n",
       "    </tr>\n",
       "    <tr>\n",
       "      <th>4</th>\n",
       "      <td>830329091</td>\n",
       "      <td>5000.0</td>\n",
       "      <td>5000.00</td>\n",
       "      <td>71.18</td>\n",
       "      <td>Tim Hortons #947751</td>\n",
       "      <td>US</td>\n",
       "      <td>US</td>\n",
       "      <td>2.0</td>\n",
       "      <td>1.0</td>\n",
       "      <td>fastfood</td>\n",
       "      <td>...</td>\n",
       "      <td>NaN</td>\n",
       "      <td>True</td>\n",
       "      <td>NaN</td>\n",
       "      <td>NaN</td>\n",
       "      <td>False</td>\n",
       "      <td>False</td>\n",
       "      <td>21</td>\n",
       "      <td>3</td>\n",
       "      <td>3</td>\n",
       "      <td>True</td>\n",
       "    </tr>\n",
       "    <tr>\n",
       "      <th>...</th>\n",
       "      <td>...</td>\n",
       "      <td>...</td>\n",
       "      <td>...</td>\n",
       "      <td>...</td>\n",
       "      <td>...</td>\n",
       "      <td>...</td>\n",
       "      <td>...</td>\n",
       "      <td>...</td>\n",
       "      <td>...</td>\n",
       "      <td>...</td>\n",
       "      <td>...</td>\n",
       "      <td>...</td>\n",
       "      <td>...</td>\n",
       "      <td>...</td>\n",
       "      <td>...</td>\n",
       "      <td>...</td>\n",
       "      <td>...</td>\n",
       "      <td>...</td>\n",
       "      <td>...</td>\n",
       "      <td>...</td>\n",
       "      <td>...</td>\n",
       "    </tr>\n",
       "    <tr>\n",
       "      <th>786358</th>\n",
       "      <td>732852505</td>\n",
       "      <td>50000.0</td>\n",
       "      <td>48904.96</td>\n",
       "      <td>119.92</td>\n",
       "      <td>Lyft</td>\n",
       "      <td>US</td>\n",
       "      <td>US</td>\n",
       "      <td>90.0</td>\n",
       "      <td>1.0</td>\n",
       "      <td>rideshare</td>\n",
       "      <td>...</td>\n",
       "      <td>NaN</td>\n",
       "      <td>False</td>\n",
       "      <td>NaN</td>\n",
       "      <td>NaN</td>\n",
       "      <td>False</td>\n",
       "      <td>False</td>\n",
       "      <td>18</td>\n",
       "      <td>3</td>\n",
       "      <td>12</td>\n",
       "      <td>True</td>\n",
       "    </tr>\n",
       "    <tr>\n",
       "      <th>786359</th>\n",
       "      <td>732852505</td>\n",
       "      <td>50000.0</td>\n",
       "      <td>48785.04</td>\n",
       "      <td>18.89</td>\n",
       "      <td>hulu.com</td>\n",
       "      <td>US</td>\n",
       "      <td>US</td>\n",
       "      <td>9.0</td>\n",
       "      <td>1.0</td>\n",
       "      <td>online_subscriptions</td>\n",
       "      <td>...</td>\n",
       "      <td>NaN</td>\n",
       "      <td>False</td>\n",
       "      <td>NaN</td>\n",
       "      <td>NaN</td>\n",
       "      <td>False</td>\n",
       "      <td>False</td>\n",
       "      <td>16</td>\n",
       "      <td>6</td>\n",
       "      <td>12</td>\n",
       "      <td>True</td>\n",
       "    </tr>\n",
       "    <tr>\n",
       "      <th>786360</th>\n",
       "      <td>732852505</td>\n",
       "      <td>50000.0</td>\n",
       "      <td>48766.15</td>\n",
       "      <td>49.43</td>\n",
       "      <td>Lyft</td>\n",
       "      <td>US</td>\n",
       "      <td>US</td>\n",
       "      <td>2.0</td>\n",
       "      <td>1.0</td>\n",
       "      <td>rideshare</td>\n",
       "      <td>...</td>\n",
       "      <td>NaN</td>\n",
       "      <td>False</td>\n",
       "      <td>NaN</td>\n",
       "      <td>NaN</td>\n",
       "      <td>False</td>\n",
       "      <td>False</td>\n",
       "      <td>15</td>\n",
       "      <td>1</td>\n",
       "      <td>12</td>\n",
       "      <td>True</td>\n",
       "    </tr>\n",
       "    <tr>\n",
       "      <th>786361</th>\n",
       "      <td>732852505</td>\n",
       "      <td>50000.0</td>\n",
       "      <td>48716.72</td>\n",
       "      <td>49.89</td>\n",
       "      <td>walmart.com</td>\n",
       "      <td>US</td>\n",
       "      <td>US</td>\n",
       "      <td>9.0</td>\n",
       "      <td>99.0</td>\n",
       "      <td>online_retail</td>\n",
       "      <td>...</td>\n",
       "      <td>NaN</td>\n",
       "      <td>False</td>\n",
       "      <td>NaN</td>\n",
       "      <td>NaN</td>\n",
       "      <td>False</td>\n",
       "      <td>False</td>\n",
       "      <td>0</td>\n",
       "      <td>3</td>\n",
       "      <td>12</td>\n",
       "      <td>True</td>\n",
       "    </tr>\n",
       "    <tr>\n",
       "      <th>786362</th>\n",
       "      <td>732852505</td>\n",
       "      <td>50000.0</td>\n",
       "      <td>48666.83</td>\n",
       "      <td>72.18</td>\n",
       "      <td>Uber</td>\n",
       "      <td>US</td>\n",
       "      <td>US</td>\n",
       "      <td>5.0</td>\n",
       "      <td>1.0</td>\n",
       "      <td>rideshare</td>\n",
       "      <td>...</td>\n",
       "      <td>NaN</td>\n",
       "      <td>False</td>\n",
       "      <td>NaN</td>\n",
       "      <td>NaN</td>\n",
       "      <td>False</td>\n",
       "      <td>False</td>\n",
       "      <td>20</td>\n",
       "      <td>4</td>\n",
       "      <td>12</td>\n",
       "      <td>True</td>\n",
       "    </tr>\n",
       "  </tbody>\n",
       "</table>\n",
       "<p>786363 rows × 28 columns</p>\n",
       "</div>"
      ],
      "text/plain": [
       "        customerId  creditLimit  availableMoney  transactionAmount  \\\n",
       "0        737265056       5000.0         5000.00              98.55   \n",
       "1        737265056       5000.0         5000.00              74.51   \n",
       "2        737265056       5000.0         5000.00               7.47   \n",
       "3        737265056       5000.0         5000.00               7.47   \n",
       "4        830329091       5000.0         5000.00              71.18   \n",
       "...            ...          ...             ...                ...   \n",
       "786358   732852505      50000.0        48904.96             119.92   \n",
       "786359   732852505      50000.0        48785.04              18.89   \n",
       "786360   732852505      50000.0        48766.15              49.43   \n",
       "786361   732852505      50000.0        48716.72              49.89   \n",
       "786362   732852505      50000.0        48666.83              72.18   \n",
       "\n",
       "               merchantName acqCountry merchantCountryCode  posEntryMode  \\\n",
       "0                      Uber         US                  US           2.0   \n",
       "1               AMC #191138         US                  US           9.0   \n",
       "2                Play Store         US                  US           9.0   \n",
       "3                Play Store         US                  US           9.0   \n",
       "4       Tim Hortons #947751         US                  US           2.0   \n",
       "...                     ...        ...                 ...           ...   \n",
       "786358                 Lyft         US                  US          90.0   \n",
       "786359             hulu.com         US                  US           9.0   \n",
       "786360                 Lyft         US                  US           2.0   \n",
       "786361          walmart.com         US                  US           9.0   \n",
       "786362                 Uber         US                  US           5.0   \n",
       "\n",
       "        posConditionCode  merchantCategoryCode  ...  merchantZip  cardPresent  \\\n",
       "0                    1.0             rideshare  ...          NaN        False   \n",
       "1                    1.0         entertainment  ...          NaN         True   \n",
       "2                    1.0            mobileapps  ...          NaN        False   \n",
       "3                    1.0            mobileapps  ...          NaN        False   \n",
       "4                    1.0              fastfood  ...          NaN         True   \n",
       "...                  ...                   ...  ...          ...          ...   \n",
       "786358               1.0             rideshare  ...          NaN        False   \n",
       "786359               1.0  online_subscriptions  ...          NaN        False   \n",
       "786360               1.0             rideshare  ...          NaN        False   \n",
       "786361              99.0         online_retail  ...          NaN        False   \n",
       "786362               1.0             rideshare  ...          NaN        False   \n",
       "\n",
       "        posOnPremises recurringAuthInd  expirationDateKeyInMatch  isFraud  \\\n",
       "0                 NaN              NaN                     False    False   \n",
       "1                 NaN              NaN                     False    False   \n",
       "2                 NaN              NaN                     False    False   \n",
       "3                 NaN              NaN                     False    False   \n",
       "4                 NaN              NaN                     False    False   \n",
       "...               ...              ...                       ...      ...   \n",
       "786358            NaN              NaN                     False    False   \n",
       "786359            NaN              NaN                     False    False   \n",
       "786360            NaN              NaN                     False    False   \n",
       "786361            NaN              NaN                     False    False   \n",
       "786362            NaN              NaN                     False    False   \n",
       "\n",
       "        transactionDateTime_hour  transactionDateTime_weekday  \\\n",
       "0                             14                            5   \n",
       "1                              5                            1   \n",
       "2                              9                            1   \n",
       "3                              2                            5   \n",
       "4                             21                            3   \n",
       "...                          ...                          ...   \n",
       "786358                        18                            3   \n",
       "786359                        16                            6   \n",
       "786360                        15                            1   \n",
       "786361                         0                            3   \n",
       "786362                        20                            4   \n",
       "\n",
       "        transactionDateTime_month  matchingCVV  \n",
       "0                               8         True  \n",
       "1                              10         True  \n",
       "2                              11         True  \n",
       "3                              12         True  \n",
       "4                               3         True  \n",
       "...                           ...          ...  \n",
       "786358                         12         True  \n",
       "786359                         12         True  \n",
       "786360                         12         True  \n",
       "786361                         12         True  \n",
       "786362                         12         True  \n",
       "\n",
       "[786363 rows x 28 columns]"
      ]
     },
     "execution_count": 8,
     "metadata": {},
     "output_type": "execute_result"
    }
   ],
   "source": [
    "df"
   ]
  },
  {
   "cell_type": "markdown",
   "metadata": {
    "id": "WZwPHam8f56k"
   },
   "source": [
    "### Change some data type\n",
    "We notice that some data type is int64 or float but actually a categorical data, so we need to change those data into categorical data"
   ]
  },
  {
   "cell_type": "code",
   "execution_count": 11,
   "metadata": {
    "id": "SjcKbl5Yf4v4"
   },
   "outputs": [],
   "source": [
    "# objects = [\"customerId\",\n",
    "#            \"transactionDateTime_hour\", \n",
    "#            \"transactionDateTime_weekday\", \n",
    "#            \"transactionDateTime_weekday\", \n",
    "#            \"transactionDateTime_month\", \n",
    "#            \"transactionDateTime_year\", \n",
    "#            \"accountOpenDate_year\", \n",
    "#            \"accountOpenDate_weekday\", \n",
    "#            \"accountOpenDate_month\", \n",
    "#            \"dateOfLastAddressChange_year\", \n",
    "#            \"dateOfLastAddressChange_weekday\", \n",
    "#            \"dateOfLastAddressChange_month\", \n",
    "#            \"currentExpDate_year\", \n",
    "#            \"currentExpDate_month\"]\n",
    "objects = [\"customerId\",\n",
    "           \"creditLimit\",\n",
    "          #  \"availableMoney\",\n",
    "           \"posEntryMode\",\n",
    "           \"posConditionCode\",\n",
    "           \"cardCVV\", \n",
    "           \"enteredCVV\", \n",
    "           \"cardLast4Digits\",\n",
    "           \"transactionDateTime_hour\", \n",
    "           \"transactionDateTime_weekday\",\n",
    "           \"transactionDateTime_month\",\n",
    "           \"matchingCVV\"]\n",
    "          #  \"accountOpenDate_year\",\n",
    "          #  \"accountOpenDate_weekday\", \n",
    "          #  \"accountOpenDate_month\", \n",
    "          #  \"dateOfLastAddressChange_year\", \n",
    "          #  \"dateOfLastAddressChange_weekday\", \n",
    "          #  \"dateOfLastAddressChange_month\", \n",
    "          #  \"currentExpDate_year\", \n",
    "          #  \"currentExpDate_month\"]\n",
    "df[objects] = df[objects].astype(str)"
   ]
  },
  {
   "cell_type": "code",
   "execution_count": 12,
   "metadata": {
    "colab": {
     "base_uri": "https://localhost:8080/"
    },
    "executionInfo": {
     "elapsed": 855,
     "status": "ok",
     "timestamp": 1638153163885,
     "user": {
      "displayName": "茅晨辉",
      "photoUrl": "https://lh3.googleusercontent.com/a/default-user=s64",
      "userId": "11126424014326517849"
     },
     "user_tz": 300
    },
    "id": "BDQu2RCKgHti",
    "outputId": "167fc18f-18a9-4daf-8799-3d84c4da871f"
   },
   "outputs": [
    {
     "name": "stdout",
     "output_type": "stream",
     "text": [
      "<class 'pandas.core.frame.DataFrame'>\n",
      "Int64Index: 786363 entries, 0 to 786362\n",
      "Data columns (total 28 columns):\n",
      " #   Column                       Non-Null Count   Dtype  \n",
      "---  ------                       --------------   -----  \n",
      " 0   customerId                   786363 non-null  object \n",
      " 1   creditLimit                  786363 non-null  float64\n",
      " 2   availableMoney               786363 non-null  float64\n",
      " 3   transactionAmount            786363 non-null  float64\n",
      " 4   merchantName                 786363 non-null  object \n",
      " 5   acqCountry                   781801 non-null  object \n",
      " 6   merchantCountryCode          785639 non-null  object \n",
      " 7   posEntryMode                 782309 non-null  object \n",
      " 8   posConditionCode             785954 non-null  object \n",
      " 9   merchantCategoryCode         786363 non-null  object \n",
      " 10  cardCVV                      786363 non-null  object \n",
      " 11  enteredCVV                   786363 non-null  object \n",
      " 12  cardLast4Digits              786363 non-null  object \n",
      " 13  transactionType              785665 non-null  object \n",
      " 14  echoBuffer                   0 non-null       float64\n",
      " 15  currentBalance               786363 non-null  float64\n",
      " 16  merchantCity                 0 non-null       float64\n",
      " 17  merchantState                0 non-null       float64\n",
      " 18  merchantZip                  0 non-null       float64\n",
      " 19  cardPresent                  786363 non-null  bool   \n",
      " 20  posOnPremises                0 non-null       float64\n",
      " 21  recurringAuthInd             0 non-null       float64\n",
      " 22  expirationDateKeyInMatch     786363 non-null  bool   \n",
      " 23  isFraud                      786363 non-null  bool   \n",
      " 24  transactionDateTime_hour     786363 non-null  object \n",
      " 25  transactionDateTime_weekday  786363 non-null  object \n",
      " 26  transactionDateTime_month    786363 non-null  object \n",
      " 27  matchingCVV                  786363 non-null  bool   \n",
      "dtypes: bool(4), float64(10), object(14)\n",
      "memory usage: 153.0+ MB\n"
     ]
    }
   ],
   "source": [
    "df.info()"
   ]
  },
  {
   "cell_type": "markdown",
   "metadata": {
    "id": "kHmwQYGBgYFv"
   },
   "source": [
    "### Randomly sample from the Dataset (optional)\n",
    "Dataset are extremely huge in this cases, so, we can choose to sample part of the data from the dataset"
   ]
  },
  {
   "cell_type": "code",
   "execution_count": null,
   "metadata": {
    "id": "aiCcIU6ZgRX4"
   },
   "outputs": [],
   "source": [
    "df = df.sample(n=200000, random_state=23)"
   ]
  },
  {
   "cell_type": "markdown",
   "metadata": {
    "id": "96J8eNPpgrPZ"
   },
   "source": [
    "### Preprocess the data\n",
    "Including Handle the missing data, Scale the numerical data, Encode the categorical data into Onehot encoding and ordinal encoding"
   ]
  },
  {
   "cell_type": "code",
   "execution_count": null,
   "metadata": {
    "colab": {
     "base_uri": "https://localhost:8080/"
    },
    "executionInfo": {
     "elapsed": 6493,
     "status": "ok",
     "timestamp": 1638153184220,
     "user": {
      "displayName": "茅晨辉",
      "photoUrl": "https://lh3.googleusercontent.com/a/default-user=s64",
      "userId": "11126424014326517849"
     },
     "user_tz": 300
    },
    "id": "guMppR4BgZc8",
    "outputId": "4bab3a13-f4db-4017-c842-edf3aafc1440"
   },
   "outputs": [
    {
     "name": "stdout",
     "output_type": "stream",
     "text": [
      "num_f: ['transactionAmount', 'availableMoney', 'currentBalance', 'creditLimit'], cate_f: ['merchantCategoryCode', 'posEntryMode', 'merchantCountryCode', 'transactionDateTime_hour', 'acqCountry', 'transactionDateTime_month', 'matchingCVV', 'expirationDateKeyInMatch', 'cardPresent', 'transactionType', 'posConditionCode', 'transactionDateTime_weekday'], ordinal_features: None, target_features: ['customerId', 'merchantName', 'cardCVV', 'enteredCVV', 'cardLast4Digits']\n"
     ]
    }
   ],
   "source": [
    "# Missing Handler\n",
    "handler = MissingHandler(df, impute=False, target=\"isFraud\")\n",
    "X, y = handler.get_features(), handler.get_labels()\n",
    "\n",
    "\n",
    "# Train validation Test split\n",
    "dev_x, test_x, dev_y, test_y = train_test_split(X, y, test_size=0.2, random_state=23, stratify=y)\n",
    "train_x, val_x, train_y, val_y = train_test_split(dev_x, dev_y, test_size=0.25, random_state=23, stratify=dev_y)\n",
    "\n",
    "o_features = ['customerId', \n",
    "              'acqCountry', \n",
    "              'merchantCountryCode', \n",
    "              'posEntryMode', \n",
    "              'posConditionCode', \n",
    "              'merchantCategoryCode', \n",
    "              'transactionType', \n",
    "              'cardPresent', \n",
    "              'expirationDateKeyInMatch', \n",
    "              'transactionDateTime_hour', \n",
    "              'transactionDateTime_weekday', \n",
    "              'transactionDateTime_month', \n",
    "              'matchingCVV']\n",
    "\n",
    "t_features = ['customerId', 'merchantName', 'cardCVV', 'enteredCVV', 'cardLast4Digits']\n",
    "\n",
    "# default encoding is to encode all categorical data with ONEHOT encoding\n",
    "# You can choose whether to implement oridinal encoding or Target encoding by specifying corresponding features' name\n",
    "# e.g. p = Preprocess(X, y, handler, oridinal_features=o_features)\n",
    "p = Preprocess(X, y, handler, target_features=t_features)\n",
    "p.__fit__()\n",
    "\n",
    "\n",
    "train_x, train_y = p.preprocessor.transform(train_x), p.tar_handler.transform(train_y)\n",
    "val_x, val_y = p.preprocessor.transform(val_x), p.tar_handler.transform(val_y)\n",
    "test_x, test_y = p.preprocessor.transform(test_x), p.tar_handler.transform(test_y)"
   ]
  },
  {
   "cell_type": "code",
   "execution_count": null,
   "metadata": {
    "colab": {
     "base_uri": "https://localhost:8080/"
    },
    "executionInfo": {
     "elapsed": 128,
     "status": "ok",
     "timestamp": 1638153231038,
     "user": {
      "displayName": "茅晨辉",
      "photoUrl": "https://lh3.googleusercontent.com/a/default-user=s64",
      "userId": "11126424014326517849"
     },
     "user_tz": 300
    },
    "id": "JT2SRjoJhaTm",
    "outputId": "d32bb5d2-63bc-408e-f260-dc91faf72729"
   },
   "outputs": [
    {
     "data": {
      "text/plain": [
       "(118479, 96)"
      ]
     },
     "execution_count": 29,
     "metadata": {},
     "output_type": "execute_result"
    }
   ],
   "source": [
    "train_x.shape"
   ]
  },
  {
   "cell_type": "markdown",
   "metadata": {
    "id": "NOkKejtHiq5S"
   },
   "source": [
    "### Dealing with Imbalanced (optional)\n",
    "In this scenario, the data are highly imbalanced, so we may want to use some sampling mechanisms (including under sampling, over sampling) to handle the imbalanced data"
   ]
  },
  {
   "cell_type": "code",
   "execution_count": null,
   "metadata": {
    "id": "jzKxKBDvipmH"
   },
   "outputs": [],
   "source": [
    "from dataset.Sampling import Sampling, SampleMechanism\n",
    "\n",
    "# You can apply different sampling strategies by changing the mechanism\n",
    "# So far supporting under sampling -  SampleMechanism.under (default)\n",
    "# Over sampling - SampleMechanism.over\n",
    "# SMOTE sampling - SampleMechanism.SMOTE\n",
    "Sampler1 = Sampling(train_x, train_y, mechanism=SampleMechanism.under)\n",
    "train_x_resample, train_y_resample = Sampler1.get_features(), Sampler1.get_labels()\n",
    "Sampler2 = Sampling(val_x, val_y)\n",
    "val_x_resample, val_y_resample = Sampler2.get_features(), Sampler2.get_labels()\n",
    "Sampler3 = Sampling(test_x, test_y)\n",
    "test_x_resample, test_y_resample = Sampler3.get_features(), Sampler3.get_labels()"
   ]
  },
  {
   "cell_type": "code",
   "execution_count": null,
   "metadata": {
    "colab": {
     "base_uri": "https://localhost:8080/"
    },
    "executionInfo": {
     "elapsed": 154,
     "status": "ok",
     "timestamp": 1638153490014,
     "user": {
      "displayName": "茅晨辉",
      "photoUrl": "https://lh3.googleusercontent.com/a/default-user=s64",
      "userId": "11126424014326517849"
     },
     "user_tz": 300
    },
    "id": "FdhNr2sfjIbm",
    "outputId": "eff999ad-1b13-42d8-848e-9aee676677d2"
   },
   "outputs": [
    {
     "name": "stdout",
     "output_type": "stream",
     "text": [
      "resample train size: (3594, 96), \n",
      "resample validation size: (1198, 96), \n",
      "resample test size: (1198, 96)\n"
     ]
    }
   ],
   "source": [
    "print(f\"resample train size: {train_x_resample.shape}, \\nresample validation size: {val_x_resample.shape}, \\nresample test size: {test_x_resample.shape}\")"
   ]
  },
  {
   "cell_type": "code",
   "execution_count": null,
   "metadata": {
    "id": "q9Lq043-jXKq"
   },
   "outputs": [],
   "source": [
    "import numpy as np\n",
    "from collections import Counter"
   ]
  },
  {
   "cell_type": "code",
   "execution_count": null,
   "metadata": {
    "colab": {
     "base_uri": "https://localhost:8080/"
    },
    "executionInfo": {
     "elapsed": 187,
     "status": "ok",
     "timestamp": 1638153540307,
     "user": {
      "displayName": "茅晨辉",
      "photoUrl": "https://lh3.googleusercontent.com/a/default-user=s64",
      "userId": "11126424014326517849"
     },
     "user_tz": 300
    },
    "id": "16b7zkkajZst",
    "outputId": "964875f5-753d-4aa2-8b84-a18339334c88"
   },
   "outputs": [
    {
     "name": "stdout",
     "output_type": "stream",
     "text": [
      "resample train size, positive vs negative: Counter({0: 1797, 1: 1797})\n",
      "resample validation size, positive vs negative: Counter({0: 599, 1: 599})\n",
      "resample test size: Counter({0: 599, 1: 599})\n"
     ]
    }
   ],
   "source": [
    "print(f\"resample train size, positive vs negative: {Counter(train_y_resample)}\\nresample validation size, positive vs negative: {Counter(val_y_resample)}\\nresample test size: {Counter(val_y_resample)}\")"
   ]
  },
  {
   "cell_type": "markdown",
   "metadata": {
    "id": "nBjX0xGVj4ar"
   },
   "source": [
    "### Model"
   ]
  },
  {
   "cell_type": "code",
   "execution_count": null,
   "metadata": {
    "id": "9A4GMm5mkJQE"
   },
   "outputs": [],
   "source": [
    "from sklearn.ensemble import RandomForestClassifier\n",
    "from sklearn.metrics import accuracy_score, precision_score, recall_score, f1_score, roc_auc_score, confusion_matrix\n",
    "from sklearn.metrics import precision_recall_curve, PrecisionRecallDisplay\n",
    "import matplotlib.pyplot as plt"
   ]
  },
  {
   "cell_type": "markdown",
   "metadata": {
    "id": "M7d1uOufj-ZK"
   },
   "source": [
    "### Confusion Matrix"
   ]
  },
  {
   "cell_type": "code",
   "execution_count": null,
   "metadata": {
    "id": "IZQhLIvoj5Ya"
   },
   "outputs": [],
   "source": [
    "import seaborn as sns\n",
    "def plot_confusion(y_pred, y_true):\n",
    "    conf = confusion_matrix(y_true, y_pred)\n",
    "    acc = accuracy_score(y_true, y_pred)\n",
    "    print()\n",
    "    print(f'Accuracy: {acc}')\n",
    "    sns.heatmap(conf,\n",
    "                cmap='Blues',\n",
    "                cbar=False,\n",
    "                annot=True,\n",
    "                fmt='g',\n",
    "                xticklabels=['False', 'True'],\n",
    "                yticklabels=['False', 'True'],\n",
    "                annot_kws={\"size\": 20}\n",
    "                )\n",
    "    plt.xlabel(\"Predicted Label\")\n",
    "    plt.ylabel(\"True Label\")\n",
    "    plt.show()"
   ]
  },
  {
   "cell_type": "code",
   "execution_count": null,
   "metadata": {
    "colab": {
     "base_uri": "https://localhost:8080/"
    },
    "executionInfo": {
     "elapsed": 90588,
     "status": "ok",
     "timestamp": 1638154277445,
     "user": {
      "displayName": "茅晨辉",
      "photoUrl": "https://lh3.googleusercontent.com/a/default-user=s64",
      "userId": "11126424014326517849"
     },
     "user_tz": 300
    },
    "id": "KhXU83-fkARZ",
    "outputId": "fbaae132-d055-44cb-c8e0-bbcfe4547787"
   },
   "outputs": [
    {
     "name": "stdout",
     "output_type": "stream",
     "text": [
      "CPU times: user 1min 37s, sys: 61.5 ms, total: 1min 37s\n",
      "Wall time: 1min 37s\n"
     ]
    }
   ],
   "source": [
    "%%time\n",
    "rf_clf = RandomForestClassifier().fit(train_x, train_y)"
   ]
  },
  {
   "cell_type": "markdown",
   "metadata": {
    "id": "hyj2Huj8kZY-"
   },
   "source": [
    "### Evaluation"
   ]
  },
  {
   "cell_type": "code",
   "execution_count": 66,
   "metadata": {
    "colab": {
     "base_uri": "https://localhost:8080/"
    },
    "executionInfo": {
     "elapsed": 3991,
     "status": "ok",
     "timestamp": 1638158647573,
     "user": {
      "displayName": "茅晨辉",
      "photoUrl": "https://lh3.googleusercontent.com/a/default-user=s64",
      "userId": "11126424014326517849"
     },
     "user_tz": 300
    },
    "id": "BekvbhjhkQtL",
    "outputId": "14ab37ff-be4e-4d28-dc8e-12cceb1dd94b"
   },
   "outputs": [
    {
     "name": "stdout",
     "output_type": "stream",
     "text": [
      "RandomForest test acc is :  0.9855417415744563\n",
      "RandomForest test precision is :  1.0\n",
      "RandomForest test recall is :  0.04674457429048414\n",
      "RandomForest test f1 is :  0.08931419457735247\n",
      "RandomForest test auc is :  0.1399450439029826\n"
     ]
    }
   ],
   "source": [
    "print('RandomForest test acc is : ', accuracy_score(test_y, rf_clf.predict(test_x)))\n",
    "print('RandomForest test precision is : ', precision_score(test_y, rf_clf.predict(test_x), pos_label=1))\n",
    "print('RandomForest test recall is : ', recall_score(test_y, rf_clf.predict(test_x), pos_label=1))\n",
    "print('RandomForest test f1 is : ', f1_score(test_y, rf_clf.predict(test_x), pos_label=1))\n",
    "print('RandomForest test auc is : ', roc_auc_score(test_y, np.max(rf_clf.predict_proba(test_x),1)))"
   ]
  },
  {
   "cell_type": "code",
   "execution_count": null,
   "metadata": {
    "id": "_J_qyvZYkih-"
   },
   "outputs": [],
   "source": [
    "# Precesion-Recall curve & ROC curve \n",
    "from sklearn.metrics import roc_curve\n",
    "\n",
    "y_score = np.max(rf_clf.predict_proba(test_x),1)\n",
    "\n",
    "rf_prec, rf_recall, _ = precision_recall_curve(test_y, y_score)\n",
    "\n",
    "rf_fpr, rf_tpr, _ = roc_curve(test_y, y_score, pos_label=rf_clf.classes_[1])"
   ]
  },
  {
   "cell_type": "code",
   "execution_count": null,
   "metadata": {
    "colab": {
     "base_uri": "https://localhost:8080/",
     "height": 427
    },
    "executionInfo": {
     "elapsed": 369,
     "status": "ok",
     "timestamp": 1638154439233,
     "user": {
      "displayName": "茅晨辉",
      "photoUrl": "https://lh3.googleusercontent.com/a/default-user=s64",
      "userId": "11126424014326517849"
     },
     "user_tz": 300
    },
    "id": "QpuJoeUakkg7",
    "outputId": "761920ca-9db5-4dae-97f0-5e0c5f0463cd"
   },
   "outputs": [
    {
     "data": {
      "image/png": "[encoded data removed]",
      "text/plain": [
       "<Figure size 960x480 with 1 Axes>"
      ]
     },
     "metadata": {
      "needs_background": "light"
     },
     "output_type": "display_data"
    }
   ],
   "source": [
    "fig = plt.figure(figsize=(12,6), dpi=80)\n",
    "ax = fig.add_subplot(1,1,1)\n",
    "ax.plot(rf_fpr, rf_tpr)\n",
    "ax.set_xlabel(\"False positive\")\n",
    "ax.set_ylabel(\"True positive\")\n",
    "plt.show()"
   ]
  },
  {
   "cell_type": "code",
   "execution_count": null,
   "metadata": {
    "id": "cAZjFcf5nMIu"
   },
   "outputs": [],
   "source": []
  }
 ],
 "metadata": {
  "colab": {
   "authorship_tag": "ABX9TyN0C+UDAWVOc/JDaxPhYD/H",
   "collapsed_sections": [],
   "name": "Preprocess.ipynb",
   "provenance": []
  },
  "kernelspec": {
   "display_name": "Python 3 (ipykernel)",
   "language": "python",
   "name": "python3"
  },
  "language_info": {
   "codemirror_mode": {
    "name": "ipython",
    "version": 3
   },
   "file_extension": ".py",
   "mimetype": "text/x-python",
   "name": "python",
   "nbconvert_exporter": "python",
   "pygments_lexer": "ipython3",
   "version": "3.9.6"
  }
 },
 "nbformat": 4,
 "nbformat_minor": 1
}

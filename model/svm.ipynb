{
 "cells": [
  {
   "cell_type": "markdown",
   "metadata": {
    "id": "EDaiqzbqe2Vs"
   },
   "source": [
    "### Optional (If using Colab)"
   ]
  },
  {
   "cell_type": "code",
   "execution_count": 1,
   "metadata": {
    "colab": {
     "base_uri": "https://localhost:8080/"
    },
    "id": "32JeP6pm5ZW7",
    "outputId": "23d4af23-8005-4315-9e19-51cf1c9c545d"
   },
   "outputs": [
    {
     "name": "stdout",
     "output_type": "stream",
     "text": [
      "/content\n"
     ]
    }
   ],
   "source": [
    "import os\n",
    "print(os.getcwd())"
   ]
  },
  {
   "cell_type": "code",
   "execution_count": 2,
   "metadata": {
    "colab": {
     "base_uri": "https://localhost:8080/"
    },
    "id": "Np2glM0-NAVh",
    "outputId": "7f5a20d2-8bf1-4c5e-d850-8c47431c287c"
   },
   "outputs": [
    {
     "data": {
      "text/plain": [
       "16"
      ]
     },
     "execution_count": 2,
     "metadata": {},
     "output_type": "execute_result"
    }
   ],
   "source": [
    "import multiprocess\n",
    "\n",
    "cpu = multiprocess.cpu_count()\n",
    "cpu"
   ]
  },
  {
   "cell_type": "code",
   "execution_count": 3,
   "metadata": {
    "colab": {
     "base_uri": "https://localhost:8080/"
    },
    "id": "K73J083Te1IJ",
    "outputId": "0eff614d-0123-4c47-ac4a-a2908da84e27"
   },
   "outputs": [
    {
     "data": {
      "text/plain": [
       "['',\n",
       " '/content',\n",
       " '/env/python',\n",
       " '/usr/lib/python37.zip',\n",
       " '/usr/lib/python3.7',\n",
       " '/usr/lib/python3.7/lib-dynload',\n",
       " '/usr/local/lib/python3.7/dist-packages',\n",
       " '/usr/lib/python3/dist-packages',\n",
       " '/usr/local/lib/python3.7/dist-packages/IPython/extensions',\n",
       " '/root/.ipython',\n",
       " '/content/COMS4995_Project/']"
      ]
     },
     "execution_count": 3,
     "metadata": {},
     "output_type": "execute_result"
    }
   ],
   "source": [
    "import sys\n",
    "sys.path.append(\"/content/COMS4995_Project/\")\n",
    "sys.path"
   ]
  },
  {
   "cell_type": "code",
   "execution_count": 4,
   "metadata": {
    "colab": {
     "base_uri": "https://localhost:8080/"
    },
    "id": "cWp5mgN0fJMz",
    "outputId": "9029c129-47bd-40bd-9a8a-efe35e8f2970"
   },
   "outputs": [
    {
     "name": "stderr",
     "output_type": "stream",
     "text": [
      "/usr/local/lib/python3.7/dist-packages/statsmodels/tools/_testing.py:19: FutureWarning: pandas.util.testing is deprecated. Use the functions in the public API at pandas.testing instead.\n",
      "  import pandas.util.testing as tm\n"
     ]
    }
   ],
   "source": [
    "from dataset.Preprocess import Preprocess, MissingHandler\n",
    "from dataset.Encoder import DateHourEncoder, DateWeekEncoder, DateMonthEncoder, DateYearEncoder\n",
    "from utils.read_file import read_from_csv\n",
    "from sklearn.model_selection import train_test_split"
   ]
  },
  {
   "cell_type": "markdown",
   "metadata": {
    "id": "C00FjO23fOVp"
   },
   "source": [
    "### Read data"
   ]
  },
  {
   "cell_type": "code",
   "execution_count": null,
   "metadata": {
    "id": "rUju8BfUVvpE"
   },
   "outputs": [],
   "source": [
    "# !wget -q https://media.githubusercontent.com/media/Morris135212/DataSet/main/transaction/transaction.csv"
   ]
  },
  {
   "cell_type": "code",
   "execution_count": 5,
   "metadata": {
    "colab": {
     "base_uri": "https://localhost:8080/"
    },
    "id": "EB7oJ568MtcV",
    "outputId": "0905a030-195c-481b-defd-f9ad101bd9b1"
   },
   "outputs": [
    {
     "name": "stdout",
     "output_type": "stream",
     "text": [
      "train_v_resample size: (14360, 63)\n",
      "train_y_resample size: (14360,)\n"
     ]
    }
   ],
   "source": [
    "# load embedding\n",
    "import pickle\n",
    "\n",
    "train_v_resample, train_y_resample = pickle.load(open(\"train_v_resample.pkl\", \"rb\"))\n",
    "print(f\"train_v_resample size: {train_v_resample.shape}\")\n",
    "print(f\"train_y_resample size: {train_y_resample.shape}\")"
   ]
  },
  {
   "cell_type": "code",
   "execution_count": 6,
   "metadata": {
    "colab": {
     "base_uri": "https://localhost:8080/"
    },
    "id": "lpgJgD_9NR6S",
    "outputId": "e4cc229e-c244-4b7c-ee01-e827f90b4bbb"
   },
   "outputs": [
    {
     "name": "stdout",
     "output_type": "stream",
     "text": [
      "val_v_resample size: (4786, 63)\n",
      "val_y_resample size: (4786,)\n"
     ]
    }
   ],
   "source": [
    "val_v_resample, val_y_resample = pickle.load(open(\"val_v_resample.pkl\", \"rb\"))\n",
    "print(f\"val_v_resample size: {val_v_resample.shape}\")\n",
    "print(f\"val_y_resample size: {val_y_resample.shape}\")"
   ]
  },
  {
   "cell_type": "code",
   "execution_count": 7,
   "metadata": {
    "colab": {
     "base_uri": "https://localhost:8080/"
    },
    "id": "bMOxhWXxNzpo",
    "outputId": "c24ed792-9767-4633-8872-744785561ca8"
   },
   "outputs": [
    {
     "name": "stdout",
     "output_type": "stream",
     "text": [
      "test_v_resample size: (4786, 63)\n",
      "test_y_resample size: (4786,)\n"
     ]
    }
   ],
   "source": [
    "test_v_resample, test_y_resample = pickle.load(open(\"test_v_resample.pkl\", \"rb\"))\n",
    "print(f\"test_v_resample size: {test_v_resample.shape}\")\n",
    "print(f\"test_y_resample size: {test_y_resample.shape}\")"
   ]
  },
  {
   "cell_type": "code",
   "execution_count": 8,
   "metadata": {
    "colab": {
     "base_uri": "https://localhost:8080/"
    },
    "id": "4AqAgnYwN-s-",
    "outputId": "ea4b9d1e-18ae-4db2-a6d3-2057cbb80bd4"
   },
   "outputs": [
    {
     "name": "stdout",
     "output_type": "stream",
     "text": [
      "x_embed_train size: (19146, 63)\n",
      "y_embed_train size: (19146,)\n"
     ]
    }
   ],
   "source": [
    "# combine train and val\n",
    "import numpy as np\n",
    "\n",
    "x_embed_train = np.concatenate((train_v_resample, val_v_resample), axis=0)\n",
    "y_embed_train = np.concatenate((train_y_resample, val_y_resample), axis=0)\n",
    "print(f\"x_embed_train size: {x_embed_train.shape}\")\n",
    "print(f\"y_embed_train size: {y_embed_train.shape}\")"
   ]
  },
  {
   "cell_type": "markdown",
   "metadata": {
    "id": "nBjX0xGVj4ar"
   },
   "source": [
    "### Model"
   ]
  },
  {
   "cell_type": "code",
   "execution_count": 9,
   "metadata": {
    "id": "9A4GMm5mkJQE"
   },
   "outputs": [],
   "source": [
    "from sklearn.svm import SVC\n",
    "from sklearn.metrics import accuracy_score, precision_score, recall_score, f1_score, roc_auc_score, confusion_matrix\n",
    "from sklearn.metrics import precision_recall_curve, PrecisionRecallDisplay\n",
    "import matplotlib.pyplot as plt"
   ]
  },
  {
   "cell_type": "markdown",
   "metadata": {
    "id": "M7d1uOufj-ZK",
    "tags": []
   },
   "source": [
    "### Confusion Matrix"
   ]
  },
  {
   "cell_type": "code",
   "execution_count": 10,
   "metadata": {
    "id": "IZQhLIvoj5Ya"
   },
   "outputs": [],
   "source": [
    "import seaborn as sns\n",
    "def plot_confusion(y_pred, y_true):\n",
    "    conf = confusion_matrix(y_true, y_pred)\n",
    "    acc = accuracy_score(y_true, y_pred)\n",
    "    print()\n",
    "    print(f'Accuracy: {acc}')\n",
    "    sns.heatmap(conf,\n",
    "                cmap='Blues',\n",
    "                cbar=False,\n",
    "                annot=True,\n",
    "                fmt='g',\n",
    "                xticklabels=['False', 'True'],\n",
    "                yticklabels=['False', 'True'],\n",
    "                annot_kws={\"size\": 20}\n",
    "                )\n",
    "    plt.xlabel(\"Predicted Label\")\n",
    "    plt.ylabel(\"True Label\")\n",
    "    plt.show()"
   ]
  },
  {
   "cell_type": "code",
   "execution_count": 11,
   "metadata": {
    "id": "PYsGoEThs9YI"
   },
   "outputs": [],
   "source": [
    "import warnings\n",
    "warnings.filterwarnings('ignore')"
   ]
  },
  {
   "cell_type": "code",
   "execution_count": 24,
   "metadata": {
    "colab": {
     "base_uri": "https://localhost:8080/"
    },
    "id": "KhXU83-fkARZ",
    "outputId": "ea2a824c-a0e5-47f1-fb93-121ec686febb"
   },
   "outputs": [
    {
     "name": "stdout",
     "output_type": "stream",
     "text": [
      "Fitting 5 folds for each of 60 candidates, totalling 300 fits\n",
      "CPU times: user 13.8 s, sys: 429 ms, total: 14.2 s\n",
      "Wall time: 3min 12s\n"
     ]
    }
   ],
   "source": [
    "%%time\n",
    "from sklearn.model_selection import GridSearchCV\n",
    "from sklearn.svm import LinearSVC\n",
    "\n",
    "parameters = {\"C\": np.logspace(-3, 3, num=60)}\n",
    "\n",
    "scoring_metrics = [\"recall\", \"f1\", \"precision\", \"roc_auc\", \"accuracy\"]\n",
    "\n",
    "svc_model = LinearSVC(random_state=42)\n",
    "svc_clf = GridSearchCV(svc_model, parameters, scoring=scoring_metrics, \n",
    "                       refit=\"recall\", cv=5, verbose=1, n_jobs=-1)\n",
    "svc_clf.fit(x_embed_train, y_embed_train)"
   ]
  },
  {
   "cell_type": "code",
   "execution_count": 25,
   "metadata": {
    "colab": {
     "base_uri": "https://localhost:8080/"
    },
    "id": "cQ-hC9jbNKRL",
    "outputId": "f918bea6-215f-4444-8142-be70755a041b"
   },
   "outputs": [
    {
     "data": {
      "text/plain": [
       "['linear_svc_12_11.pkl']"
      ]
     },
     "execution_count": 25,
     "metadata": {},
     "output_type": "execute_result"
    }
   ],
   "source": [
    "# save the model\n",
    "import joblib \n",
    "\n",
    "joblib.dump(svc_clf, \"linear_svc_12_11.pkl\")"
   ]
  },
  {
   "cell_type": "markdown",
   "metadata": {
    "id": "hyj2Huj8kZY-"
   },
   "source": [
    "### Evaluation"
   ]
  },
  {
   "cell_type": "code",
   "execution_count": 27,
   "metadata": {
    "colab": {
     "base_uri": "https://localhost:8080/"
    },
    "id": "1WGDp-ORrzXu",
    "outputId": "d7620e1b-2864-4a47-8673-7049ffbac01a"
   },
   "outputs": [
    {
     "data": {
      "text/plain": [
       "set()"
      ]
     },
     "execution_count": 27,
     "metadata": {},
     "output_type": "execute_result"
    }
   ],
   "source": [
    "# perform a sanity check\n",
    "set(test_y_resample) - set(svc_clf.predict(test_v_resample))"
   ]
  },
  {
   "cell_type": "code",
   "execution_count": 28,
   "metadata": {
    "colab": {
     "base_uri": "https://localhost:8080/"
    },
    "id": "oK6NVdA3NcGf",
    "outputId": "9c716c27-fc42-4c3a-bc02-c563f919f6e6"
   },
   "outputs": [
    {
     "data": {
      "text/plain": [
       "LinearSVC(C=7.318242219076182, random_state=42)"
      ]
     },
     "execution_count": 28,
     "metadata": {},
     "output_type": "execute_result"
    }
   ],
   "source": [
    "svc_clf.best_estimator_"
   ]
  },
  {
   "cell_type": "code",
   "execution_count": 29,
   "metadata": {
    "colab": {
     "base_uri": "https://localhost:8080/"
    },
    "id": "zWBofpq6NhQn",
    "outputId": "d8b937d1-0b5e-4858-fe30-b9b185aa2e8f"
   },
   "outputs": [
    {
     "data": {
      "text/plain": [
       "{'C': 7.318242219076182}"
      ]
     },
     "execution_count": 29,
     "metadata": {},
     "output_type": "execute_result"
    }
   ],
   "source": [
    "svc_clf.best_params_"
   ]
  },
  {
   "cell_type": "code",
   "execution_count": 30,
   "metadata": {
    "colab": {
     "base_uri": "https://localhost:8080/"
    },
    "id": "9bGiT0duqC65",
    "outputId": "b9ccc2e6-9226-42a5-a460-913e67cc5f10"
   },
   "outputs": [
    {
     "name": "stdout",
     "output_type": "stream",
     "text": [
      "Best estimator:\n",
      "\tLinearSVC(C=7.318242219076182, random_state=42)\n"
     ]
    }
   ],
   "source": [
    "print(\"Best estimator:\")\n",
    "print(f\"\\t{svc_clf.best_estimator_}\")"
   ]
  },
  {
   "cell_type": "code",
   "execution_count": 31,
   "metadata": {
    "colab": {
     "base_uri": "https://localhost:8080/"
    },
    "id": "BekvbhjhkQtL",
    "outputId": "57c1ee6d-e31d-46c2-f085-35c34740f230"
   },
   "outputs": [
    {
     "name": "stdout",
     "output_type": "stream",
     "text": [
      "Best estimator:\n",
      "\tLinearSVC(C=7.318242219076182, random_state=42)\n",
      "Best Parameters:\n",
      "\t{'C': 7.318242219076182}\n",
      "SVC test acc:                 0.6717509402423736\n",
      "SVC test precision:           0.6813768755516328\n",
      "SVC test precision macro:     0.6722360568234355\n",
      "SVC test recall:              0.6452152110321772\n",
      "SVC test recall macro:        0.6717509402423736\n",
      "SVC test f1:                  0.6628031766473491\n",
      "SVC test f1 macro:            0.6715196424657466\n",
      "SVC test auc:                 0.7384099640108555\n",
      "CPU times: user 119 ms, sys: 712 ms, total: 831 ms\n",
      "Wall time: 56.1 ms\n"
     ]
    }
   ],
   "source": [
    "%%time \n",
    "\n",
    "import pandas as pd\n",
    "\n",
    "print(\"Best estimator:\")\n",
    "print(f\"\\t{svc_clf.best_estimator_}\")\n",
    "\n",
    "print(\"Best Parameters:\")\n",
    "print(f\"\\t{svc_clf.best_params_}\")\n",
    "\n",
    "test_x = test_v_resample\n",
    "test_y = test_y_resample\n",
    "\n",
    "y_pred = svc_clf.predict(test_x)\n",
    "y_score = svc_clf.decision_function(test_x)\n",
    "accuracy = accuracy_score(test_y, y_pred)\n",
    "precision_binary = precision_score(test_y, y_pred)\n",
    "precision_macro = precision_score(test_y, y_pred, average=\"macro\")\n",
    "recall_binary = recall_score(test_y, y_pred)\n",
    "recall_macro = recall_score(test_y, y_pred, average=\"macro\")\n",
    "f1_binary = f1_score(test_y, y_pred)\n",
    "f1_macro = f1_score(test_y, y_pred, average=\"macro\")\n",
    "roc_auc = roc_auc_score(test_y, y_score)\n",
    "\n",
    "eval_results = {\n",
    "    \"accuracy\": accuracy,\n",
    "    \"precision_binary\": precision_binary,\n",
    "    \"precision_macro\": precision_macro,\n",
    "    \"recall_binary\": recall_binary,\n",
    "    \"recall_macro\": recall_macro,\n",
    "    \"f1_binary\": f1_binary,\n",
    "    \"f1_macro\": f1_macro,\n",
    "    \"roc_auc\": roc_auc\n",
    "}\n",
    "\n",
    "eval_df = pd.DataFrame(eval_results.items(), columns=[\"Metrics\", \"Values\"])\n",
    "eval_df.to_csv(\"eval_results.csv\")\n",
    "\n",
    "print(f'{\"SVC test acc:\": <30}{accuracy}')\n",
    "\n",
    "print(f'{\"SVC test precision:\": <30}{precision_binary}')\n",
    "print(f'{\"SVC test precision macro:\": <30}{precision_macro}')\n",
    "\n",
    "print(f'{\"SVC test recall:\": <30}{recall_binary}')\n",
    "print(f'{\"SVC test recall macro:\": <30}{recall_macro}')\n",
    "\n",
    "print(f'{\"SVC test f1:\": <30}{f1_binary}')\n",
    "print(f'{\"SVC test f1 macro:\": <30}{f1_macro}')\n",
    "\n",
    "print(f'{\"SVC test auc:\": <30}{roc_auc}')"
   ]
  },
  {
   "cell_type": "code",
   "execution_count": 32,
   "metadata": {
    "colab": {
     "base_uri": "https://localhost:8080/",
     "height": 300
    },
    "id": "E7OjRrkSn3UO",
    "outputId": "6accf7a1-2655-4ba3-9fc9-effc5eb6bfbe"
   },
   "outputs": [
    {
     "data": {
      "text/html": [
       "<div>\n",
       "<style scoped>\n",
       "    .dataframe tbody tr th:only-of-type {\n",
       "        vertical-align: middle;\n",
       "    }\n",
       "\n",
       "    .dataframe tbody tr th {\n",
       "        vertical-align: top;\n",
       "    }\n",
       "\n",
       "    .dataframe thead th {\n",
       "        text-align: right;\n",
       "    }\n",
       "</style>\n",
       "<table border=\"1\" class=\"dataframe\">\n",
       "  <thead>\n",
       "    <tr style=\"text-align: right;\">\n",
       "      <th></th>\n",
       "      <th>Metrics</th>\n",
       "      <th>Values</th>\n",
       "    </tr>\n",
       "  </thead>\n",
       "  <tbody>\n",
       "    <tr>\n",
       "      <th>0</th>\n",
       "      <td>accuracy</td>\n",
       "      <td>0.671751</td>\n",
       "    </tr>\n",
       "    <tr>\n",
       "      <th>1</th>\n",
       "      <td>precision_binary</td>\n",
       "      <td>0.681377</td>\n",
       "    </tr>\n",
       "    <tr>\n",
       "      <th>2</th>\n",
       "      <td>precision_macro</td>\n",
       "      <td>0.672236</td>\n",
       "    </tr>\n",
       "    <tr>\n",
       "      <th>3</th>\n",
       "      <td>recall_binary</td>\n",
       "      <td>0.645215</td>\n",
       "    </tr>\n",
       "    <tr>\n",
       "      <th>4</th>\n",
       "      <td>recall_macro</td>\n",
       "      <td>0.671751</td>\n",
       "    </tr>\n",
       "    <tr>\n",
       "      <th>5</th>\n",
       "      <td>f1_binary</td>\n",
       "      <td>0.662803</td>\n",
       "    </tr>\n",
       "    <tr>\n",
       "      <th>6</th>\n",
       "      <td>f1_macro</td>\n",
       "      <td>0.671520</td>\n",
       "    </tr>\n",
       "    <tr>\n",
       "      <th>7</th>\n",
       "      <td>roc_auc</td>\n",
       "      <td>0.738410</td>\n",
       "    </tr>\n",
       "  </tbody>\n",
       "</table>\n",
       "</div>"
      ],
      "text/plain": [
       "            Metrics    Values\n",
       "0          accuracy  0.671751\n",
       "1  precision_binary  0.681377\n",
       "2   precision_macro  0.672236\n",
       "3     recall_binary  0.645215\n",
       "4      recall_macro  0.671751\n",
       "5         f1_binary  0.662803\n",
       "6          f1_macro  0.671520\n",
       "7           roc_auc  0.738410"
      ]
     },
     "execution_count": 32,
     "metadata": {},
     "output_type": "execute_result"
    }
   ],
   "source": [
    "eval_df"
   ]
  },
  {
   "cell_type": "code",
   "execution_count": 33,
   "metadata": {
    "colab": {
     "base_uri": "https://localhost:8080/",
     "height": 295
    },
    "id": "rUxNt_HgpKXz",
    "outputId": "ddb170b8-e936-4cf2-f8c2-8cbd6ee40d02"
   },
   "outputs": [
    {
     "data": {
      "image/png": "[encoded data removed]",
      "text/plain": [
       "<Figure size 432x288 with 1 Axes>"
      ]
     },
     "metadata": {
      "needs_background": "light"
     },
     "output_type": "display_data"
    }
   ],
   "source": [
    "from sklearn.metrics import PrecisionRecallDisplay\n",
    "\n",
    "display = PrecisionRecallDisplay.from_estimator(\n",
    "    svc_clf, test_v_resample, test_y_resample, name=\"LinearSVC\"\n",
    ")\n",
    "_ = display.ax_.set_title(\"2-class Precision-Recall curve\")\n",
    "plt.savefig(\"PR Curve.jpg\")"
   ]
  },
  {
   "cell_type": "code",
   "execution_count": 34,
   "metadata": {
    "colab": {
     "base_uri": "https://localhost:8080/",
     "height": 295
    },
    "id": "qxKXL_7zpSAd",
    "outputId": "831f6494-17f5-4e60-c169-edb22517f511"
   },
   "outputs": [
    {
     "data": {
      "image/png": "[encoded data removed]",
      "text/plain": [
       "<Figure size 432x288 with 1 Axes>"
      ]
     },
     "metadata": {
      "needs_background": "light"
     },
     "output_type": "display_data"
    }
   ],
   "source": [
    "from sklearn.metrics import RocCurveDisplay\n",
    "\n",
    "RocCurveDisplay.from_estimator(svc_clf, test_v_resample, test_y_resample)\n",
    "plt.plot([0, 1], [0, 1], linestyle=\"--\")\n",
    "plt.title(\"ROC Curve\")\n",
    "plt.savefig(\"ROC Curve.jpg\")"
   ]
  },
  {
   "cell_type": "code",
   "execution_count": 35,
   "metadata": {
    "colab": {
     "base_uri": "https://localhost:8080/"
    },
    "id": "jOSnvY7ArHt0",
    "outputId": "f689f1a6-ada5-47a6-d691-b243bfebaee1"
   },
   "outputs": [
    {
     "data": {
      "text/plain": [
       "LinearSVC(C=7.318242219076182, random_state=42)"
      ]
     },
     "execution_count": 35,
     "metadata": {},
     "output_type": "execute_result"
    }
   ],
   "source": [
    "test_clf = joblib.load(\"linear_svc_12_11.pkl\")\n",
    "test_clf.best_estimator_"
   ]
  },
  {
   "cell_type": "code",
   "execution_count": 36,
   "metadata": {
    "colab": {
     "base_uri": "https://localhost:8080/"
    },
    "id": "9F_FsjGArPHH",
    "outputId": "0528b056-c2de-4378-a793-72bb7e9c5c39"
   },
   "outputs": [
    {
     "data": {
      "text/plain": [
       "{'C': 7.318242219076182}"
      ]
     },
     "execution_count": 36,
     "metadata": {},
     "output_type": "execute_result"
    }
   ],
   "source": [
    "test_clf.best_params_"
   ]
  }
 ],
 "metadata": {
  "colab": {
   "collapsed_sections": [],
   "name": "svm_12_10.ipynb",
   "provenance": []
  },
  "kernelspec": {
   "display_name": "Python 3 (ipykernel)",
   "language": "python",
   "name": "python3"
  },
  "language_info": {
   "codemirror_mode": {
    "name": "ipython",
    "version": 3
   },
   "file_extension": ".py",
   "mimetype": "text/x-python",
   "name": "python",
   "nbconvert_exporter": "python",
   "pygments_lexer": "ipython3",
   "version": "3.9.6"
  }
 },
 "nbformat": 4,
 "nbformat_minor": 4
}

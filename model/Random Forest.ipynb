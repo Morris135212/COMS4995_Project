{
  "nbformat": 4,
  "nbformat_minor": 0,
  "metadata": {
    "colab": {
      "name": "Preprocess.ipynb",
      "provenance": [],
      "collapsed_sections": []
    },
    "kernelspec": {
      "display_name": "Python 3",
      "language": "python",
      "name": "python3"
    },
    "language_info": {
      "codemirror_mode": {
        "name": "ipython",
        "version": 3
      },
      "file_extension": ".py",
      "mimetype": "text/x-python",
      "name": "python",
      "nbconvert_exporter": "python",
      "pygments_lexer": "ipython3",
      "version": "3.8.5"
    }
  },
  "cells": [
    {
      "cell_type": "code",
      "metadata": {
        "colab": {
          "base_uri": "https://localhost:8080/"
        },
        "id": "2ZlN_87EeuB0",
        "outputId": "097c0fc0-8ebb-49d4-b159-24250fac8e6f"
      },
      "source": [
        "from google.colab import drive\n",
        "drive.mount('/content/drive')"
      ],
      "execution_count": 1,
      "outputs": [
        {
          "output_type": "stream",
          "name": "stdout",
          "text": [
            "Mounted at /content/drive\n"
          ]
        }
      ]
    },
    {
      "cell_type": "markdown",
      "metadata": {
        "id": "EDaiqzbqe2Vs"
      },
      "source": [
        "### Optional (If using Colab)"
      ]
    },
    {
      "cell_type": "code",
      "metadata": {
        "colab": {
          "base_uri": "https://localhost:8080/"
        },
        "id": "K73J083Te1IJ",
        "outputId": "32182d90-21bc-444d-bb7f-be837d88de57"
      },
      "source": [
        "import sys\n",
        "sys.path.append(\"/content/drive/MyDrive/Colab Notebooks/COMS4995_Project\")\n",
        "sys.path"
      ],
      "execution_count": 2,
      "outputs": [
        {
          "output_type": "execute_result",
          "data": {
            "text/plain": [
              "['',\n",
              " '/content',\n",
              " '/env/python',\n",
              " '/usr/lib/python37.zip',\n",
              " '/usr/lib/python3.7',\n",
              " '/usr/lib/python3.7/lib-dynload',\n",
              " '/usr/local/lib/python3.7/dist-packages',\n",
              " '/usr/lib/python3/dist-packages',\n",
              " '/usr/local/lib/python3.7/dist-packages/IPython/extensions',\n",
              " '/root/.ipython',\n",
              " '/content/drive/MyDrive/Colab Notebooks/COMS4995_Project']"
            ]
          },
          "metadata": {},
          "execution_count": 2
        }
      ]
    },
    {
      "cell_type": "markdown",
      "metadata": {
        "id": "nTOOyXixfBS2"
      },
      "source": [
        "### Optional (Install necessary dependecy in colab)"
      ]
    },
    {
      "cell_type": "code",
      "metadata": {
        "colab": {
          "base_uri": "https://localhost:8080/"
        },
        "id": "Z4xmKF3je_y9",
        "outputId": "15ae275b-96d9-4c49-88a4-0476b74a4f81"
      },
      "source": [
        "!pip install category_encoders\n",
        "!pip install -U scikit-learn"
      ],
      "execution_count": 3,
      "outputs": [
        {
          "output_type": "stream",
          "name": "stdout",
          "text": [
            "Collecting category_encoders\n",
            "  Downloading category_encoders-2.3.0-py2.py3-none-any.whl (82 kB)\n",
            "\u001b[?25l\r\u001b[K     |████                            | 10 kB 21.9 MB/s eta 0:00:01\r\u001b[K     |████████                        | 20 kB 11.1 MB/s eta 0:00:01\r\u001b[K     |████████████                    | 30 kB 8.7 MB/s eta 0:00:01\r\u001b[K     |████████████████                | 40 kB 8.0 MB/s eta 0:00:01\r\u001b[K     |████████████████████            | 51 kB 4.2 MB/s eta 0:00:01\r\u001b[K     |████████████████████████        | 61 kB 4.5 MB/s eta 0:00:01\r\u001b[K     |████████████████████████████    | 71 kB 4.7 MB/s eta 0:00:01\r\u001b[K     |███████████████████████████████▉| 81 kB 5.3 MB/s eta 0:00:01\r\u001b[K     |████████████████████████████████| 82 kB 347 kB/s \n",
            "\u001b[?25hRequirement already satisfied: patsy>=0.5.1 in /usr/local/lib/python3.7/dist-packages (from category_encoders) (0.5.2)\n",
            "Requirement already satisfied: scipy>=1.0.0 in /usr/local/lib/python3.7/dist-packages (from category_encoders) (1.4.1)\n",
            "Requirement already satisfied: statsmodels>=0.9.0 in /usr/local/lib/python3.7/dist-packages (from category_encoders) (0.10.2)\n",
            "Requirement already satisfied: numpy>=1.14.0 in /usr/local/lib/python3.7/dist-packages (from category_encoders) (1.19.5)\n",
            "Requirement already satisfied: pandas>=0.21.1 in /usr/local/lib/python3.7/dist-packages (from category_encoders) (1.1.5)\n",
            "Requirement already satisfied: scikit-learn>=0.20.0 in /usr/local/lib/python3.7/dist-packages (from category_encoders) (1.0.1)\n",
            "Requirement already satisfied: python-dateutil>=2.7.3 in /usr/local/lib/python3.7/dist-packages (from pandas>=0.21.1->category_encoders) (2.8.2)\n",
            "Requirement already satisfied: pytz>=2017.2 in /usr/local/lib/python3.7/dist-packages (from pandas>=0.21.1->category_encoders) (2018.9)\n",
            "Requirement already satisfied: six in /usr/local/lib/python3.7/dist-packages (from patsy>=0.5.1->category_encoders) (1.15.0)\n",
            "Requirement already satisfied: joblib>=0.11 in /usr/local/lib/python3.7/dist-packages (from scikit-learn>=0.20.0->category_encoders) (1.1.0)\n",
            "Requirement already satisfied: threadpoolctl>=2.0.0 in /usr/local/lib/python3.7/dist-packages (from scikit-learn>=0.20.0->category_encoders) (3.0.0)\n",
            "Installing collected packages: category-encoders\n",
            "Successfully installed category-encoders-2.3.0\n",
            "Requirement already satisfied: scikit-learn in /usr/local/lib/python3.7/dist-packages (1.0.1)\n",
            "Requirement already satisfied: scipy>=1.1.0 in /usr/local/lib/python3.7/dist-packages (from scikit-learn) (1.4.1)\n",
            "Requirement already satisfied: threadpoolctl>=2.0.0 in /usr/local/lib/python3.7/dist-packages (from scikit-learn) (3.0.0)\n",
            "Requirement already satisfied: numpy>=1.14.6 in /usr/local/lib/python3.7/dist-packages (from scikit-learn) (1.19.5)\n",
            "Requirement already satisfied: joblib>=0.11 in /usr/local/lib/python3.7/dist-packages (from scikit-learn) (1.1.0)\n"
          ]
        }
      ]
    },
    {
      "cell_type": "code",
      "metadata": {
        "colab": {
          "base_uri": "https://localhost:8080/"
        },
        "id": "cWp5mgN0fJMz",
        "outputId": "48495e1c-ef39-4228-ce2a-d0442a6af87d"
      },
      "source": [
        "from dataset.Preprocess import Preprocess, MissingHandler\n",
        "from dataset.Encoder import DateHourEncoder, DateWeekEncoder, DateMonthEncoder, DateYearEncoder\n",
        "from utils.read_file import read_from_csv\n",
        "from sklearn.model_selection import train_test_split"
      ],
      "execution_count": 4,
      "outputs": [
        {
          "output_type": "stream",
          "name": "stderr",
          "text": [
            "/usr/local/lib/python3.7/dist-packages/statsmodels/tools/_testing.py:19: FutureWarning: pandas.util.testing is deprecated. Use the functions in the public API at pandas.testing instead.\n",
            "  import pandas.util.testing as tm\n"
          ]
        }
      ]
    },
    {
      "cell_type": "markdown",
      "metadata": {
        "id": "C00FjO23fOVp"
      },
      "source": [
        "### Read data"
      ]
    },
    {
      "cell_type": "code",
      "metadata": {
        "colab": {
          "base_uri": "https://localhost:8080/",
          "height": 473
        },
        "id": "kku0mV_lfMhC",
        "outputId": "2cf51530-72da-4bfd-96a6-54f9f05d9bf5"
      },
      "source": [
        "file = \"/content/drive/MyDrive/Colab Notebooks/COMS4995_Project/data/transaction.csv\"\n",
        "df = read_from_csv(file)\n",
        "df"
      ],
      "execution_count": 5,
      "outputs": [
        {
          "output_type": "stream",
          "name": "stdout",
          "text": [
            "Load DataFrame!\n"
          ]
        },
        {
          "output_type": "execute_result",
          "data": {
            "text/html": [
              "<div>\n",
              "<style scoped>\n",
              "    .dataframe tbody tr th:only-of-type {\n",
              "        vertical-align: middle;\n",
              "    }\n",
              "\n",
              "    .dataframe tbody tr th {\n",
              "        vertical-align: top;\n",
              "    }\n",
              "\n",
              "    .dataframe thead th {\n",
              "        text-align: right;\n",
              "    }\n",
              "</style>\n",
              "<table border=\"1\" class=\"dataframe\">\n",
              "  <thead>\n",
              "    <tr style=\"text-align: right;\">\n",
              "      <th></th>\n",
              "      <th>accountNumber</th>\n",
              "      <th>customerId</th>\n",
              "      <th>creditLimit</th>\n",
              "      <th>availableMoney</th>\n",
              "      <th>transactionDateTime</th>\n",
              "      <th>transactionAmount</th>\n",
              "      <th>merchantName</th>\n",
              "      <th>acqCountry</th>\n",
              "      <th>merchantCountryCode</th>\n",
              "      <th>posEntryMode</th>\n",
              "      <th>posConditionCode</th>\n",
              "      <th>merchantCategoryCode</th>\n",
              "      <th>currentExpDate</th>\n",
              "      <th>accountOpenDate</th>\n",
              "      <th>dateOfLastAddressChange</th>\n",
              "      <th>cardCVV</th>\n",
              "      <th>enteredCVV</th>\n",
              "      <th>cardLast4Digits</th>\n",
              "      <th>transactionType</th>\n",
              "      <th>echoBuffer</th>\n",
              "      <th>currentBalance</th>\n",
              "      <th>merchantCity</th>\n",
              "      <th>merchantState</th>\n",
              "      <th>merchantZip</th>\n",
              "      <th>cardPresent</th>\n",
              "      <th>posOnPremises</th>\n",
              "      <th>recurringAuthInd</th>\n",
              "      <th>expirationDateKeyInMatch</th>\n",
              "      <th>isFraud</th>\n",
              "    </tr>\n",
              "  </thead>\n",
              "  <tbody>\n",
              "    <tr>\n",
              "      <th>0</th>\n",
              "      <td>737265056</td>\n",
              "      <td>737265056</td>\n",
              "      <td>5000.0</td>\n",
              "      <td>5000.00</td>\n",
              "      <td>2016-08-13T14:27:32</td>\n",
              "      <td>98.55</td>\n",
              "      <td>Uber</td>\n",
              "      <td>US</td>\n",
              "      <td>US</td>\n",
              "      <td>2.0</td>\n",
              "      <td>1.0</td>\n",
              "      <td>rideshare</td>\n",
              "      <td>06/2023</td>\n",
              "      <td>2015-03-14</td>\n",
              "      <td>2015-03-14</td>\n",
              "      <td>414</td>\n",
              "      <td>414</td>\n",
              "      <td>1803</td>\n",
              "      <td>PURCHASE</td>\n",
              "      <td>NaN</td>\n",
              "      <td>0.00</td>\n",
              "      <td>NaN</td>\n",
              "      <td>NaN</td>\n",
              "      <td>NaN</td>\n",
              "      <td>False</td>\n",
              "      <td>NaN</td>\n",
              "      <td>NaN</td>\n",
              "      <td>False</td>\n",
              "      <td>False</td>\n",
              "    </tr>\n",
              "    <tr>\n",
              "      <th>1</th>\n",
              "      <td>737265056</td>\n",
              "      <td>737265056</td>\n",
              "      <td>5000.0</td>\n",
              "      <td>5000.00</td>\n",
              "      <td>2016-10-11T05:05:54</td>\n",
              "      <td>74.51</td>\n",
              "      <td>AMC #191138</td>\n",
              "      <td>US</td>\n",
              "      <td>US</td>\n",
              "      <td>9.0</td>\n",
              "      <td>1.0</td>\n",
              "      <td>entertainment</td>\n",
              "      <td>02/2024</td>\n",
              "      <td>2015-03-14</td>\n",
              "      <td>2015-03-14</td>\n",
              "      <td>486</td>\n",
              "      <td>486</td>\n",
              "      <td>767</td>\n",
              "      <td>PURCHASE</td>\n",
              "      <td>NaN</td>\n",
              "      <td>0.00</td>\n",
              "      <td>NaN</td>\n",
              "      <td>NaN</td>\n",
              "      <td>NaN</td>\n",
              "      <td>True</td>\n",
              "      <td>NaN</td>\n",
              "      <td>NaN</td>\n",
              "      <td>False</td>\n",
              "      <td>False</td>\n",
              "    </tr>\n",
              "    <tr>\n",
              "      <th>2</th>\n",
              "      <td>737265056</td>\n",
              "      <td>737265056</td>\n",
              "      <td>5000.0</td>\n",
              "      <td>5000.00</td>\n",
              "      <td>2016-11-08T09:18:39</td>\n",
              "      <td>7.47</td>\n",
              "      <td>Play Store</td>\n",
              "      <td>US</td>\n",
              "      <td>US</td>\n",
              "      <td>9.0</td>\n",
              "      <td>1.0</td>\n",
              "      <td>mobileapps</td>\n",
              "      <td>08/2025</td>\n",
              "      <td>2015-03-14</td>\n",
              "      <td>2015-03-14</td>\n",
              "      <td>486</td>\n",
              "      <td>486</td>\n",
              "      <td>767</td>\n",
              "      <td>PURCHASE</td>\n",
              "      <td>NaN</td>\n",
              "      <td>0.00</td>\n",
              "      <td>NaN</td>\n",
              "      <td>NaN</td>\n",
              "      <td>NaN</td>\n",
              "      <td>False</td>\n",
              "      <td>NaN</td>\n",
              "      <td>NaN</td>\n",
              "      <td>False</td>\n",
              "      <td>False</td>\n",
              "    </tr>\n",
              "    <tr>\n",
              "      <th>3</th>\n",
              "      <td>737265056</td>\n",
              "      <td>737265056</td>\n",
              "      <td>5000.0</td>\n",
              "      <td>5000.00</td>\n",
              "      <td>2016-12-10T02:14:50</td>\n",
              "      <td>7.47</td>\n",
              "      <td>Play Store</td>\n",
              "      <td>US</td>\n",
              "      <td>US</td>\n",
              "      <td>9.0</td>\n",
              "      <td>1.0</td>\n",
              "      <td>mobileapps</td>\n",
              "      <td>08/2025</td>\n",
              "      <td>2015-03-14</td>\n",
              "      <td>2015-03-14</td>\n",
              "      <td>486</td>\n",
              "      <td>486</td>\n",
              "      <td>767</td>\n",
              "      <td>PURCHASE</td>\n",
              "      <td>NaN</td>\n",
              "      <td>0.00</td>\n",
              "      <td>NaN</td>\n",
              "      <td>NaN</td>\n",
              "      <td>NaN</td>\n",
              "      <td>False</td>\n",
              "      <td>NaN</td>\n",
              "      <td>NaN</td>\n",
              "      <td>False</td>\n",
              "      <td>False</td>\n",
              "    </tr>\n",
              "    <tr>\n",
              "      <th>4</th>\n",
              "      <td>830329091</td>\n",
              "      <td>830329091</td>\n",
              "      <td>5000.0</td>\n",
              "      <td>5000.00</td>\n",
              "      <td>2016-03-24T21:04:46</td>\n",
              "      <td>71.18</td>\n",
              "      <td>Tim Hortons #947751</td>\n",
              "      <td>US</td>\n",
              "      <td>US</td>\n",
              "      <td>2.0</td>\n",
              "      <td>1.0</td>\n",
              "      <td>fastfood</td>\n",
              "      <td>10/2029</td>\n",
              "      <td>2015-08-06</td>\n",
              "      <td>2015-08-06</td>\n",
              "      <td>885</td>\n",
              "      <td>885</td>\n",
              "      <td>3143</td>\n",
              "      <td>PURCHASE</td>\n",
              "      <td>NaN</td>\n",
              "      <td>0.00</td>\n",
              "      <td>NaN</td>\n",
              "      <td>NaN</td>\n",
              "      <td>NaN</td>\n",
              "      <td>True</td>\n",
              "      <td>NaN</td>\n",
              "      <td>NaN</td>\n",
              "      <td>False</td>\n",
              "      <td>False</td>\n",
              "    </tr>\n",
              "    <tr>\n",
              "      <th>...</th>\n",
              "      <td>...</td>\n",
              "      <td>...</td>\n",
              "      <td>...</td>\n",
              "      <td>...</td>\n",
              "      <td>...</td>\n",
              "      <td>...</td>\n",
              "      <td>...</td>\n",
              "      <td>...</td>\n",
              "      <td>...</td>\n",
              "      <td>...</td>\n",
              "      <td>...</td>\n",
              "      <td>...</td>\n",
              "      <td>...</td>\n",
              "      <td>...</td>\n",
              "      <td>...</td>\n",
              "      <td>...</td>\n",
              "      <td>...</td>\n",
              "      <td>...</td>\n",
              "      <td>...</td>\n",
              "      <td>...</td>\n",
              "      <td>...</td>\n",
              "      <td>...</td>\n",
              "      <td>...</td>\n",
              "      <td>...</td>\n",
              "      <td>...</td>\n",
              "      <td>...</td>\n",
              "      <td>...</td>\n",
              "      <td>...</td>\n",
              "      <td>...</td>\n",
              "    </tr>\n",
              "    <tr>\n",
              "      <th>786358</th>\n",
              "      <td>732852505</td>\n",
              "      <td>732852505</td>\n",
              "      <td>50000.0</td>\n",
              "      <td>48904.96</td>\n",
              "      <td>2016-12-22T18:44:12</td>\n",
              "      <td>119.92</td>\n",
              "      <td>Lyft</td>\n",
              "      <td>US</td>\n",
              "      <td>US</td>\n",
              "      <td>90.0</td>\n",
              "      <td>1.0</td>\n",
              "      <td>rideshare</td>\n",
              "      <td>12/2022</td>\n",
              "      <td>2012-08-23</td>\n",
              "      <td>2012-08-23</td>\n",
              "      <td>936</td>\n",
              "      <td>936</td>\n",
              "      <td>3783</td>\n",
              "      <td>PURCHASE</td>\n",
              "      <td>NaN</td>\n",
              "      <td>1095.04</td>\n",
              "      <td>NaN</td>\n",
              "      <td>NaN</td>\n",
              "      <td>NaN</td>\n",
              "      <td>False</td>\n",
              "      <td>NaN</td>\n",
              "      <td>NaN</td>\n",
              "      <td>False</td>\n",
              "      <td>False</td>\n",
              "    </tr>\n",
              "    <tr>\n",
              "      <th>786359</th>\n",
              "      <td>732852505</td>\n",
              "      <td>732852505</td>\n",
              "      <td>50000.0</td>\n",
              "      <td>48785.04</td>\n",
              "      <td>2016-12-25T16:20:34</td>\n",
              "      <td>18.89</td>\n",
              "      <td>hulu.com</td>\n",
              "      <td>US</td>\n",
              "      <td>US</td>\n",
              "      <td>9.0</td>\n",
              "      <td>1.0</td>\n",
              "      <td>online_subscriptions</td>\n",
              "      <td>08/2023</td>\n",
              "      <td>2012-08-23</td>\n",
              "      <td>2012-08-23</td>\n",
              "      <td>939</td>\n",
              "      <td>939</td>\n",
              "      <td>3388</td>\n",
              "      <td>PURCHASE</td>\n",
              "      <td>NaN</td>\n",
              "      <td>1214.96</td>\n",
              "      <td>NaN</td>\n",
              "      <td>NaN</td>\n",
              "      <td>NaN</td>\n",
              "      <td>False</td>\n",
              "      <td>NaN</td>\n",
              "      <td>NaN</td>\n",
              "      <td>False</td>\n",
              "      <td>False</td>\n",
              "    </tr>\n",
              "    <tr>\n",
              "      <th>786360</th>\n",
              "      <td>732852505</td>\n",
              "      <td>732852505</td>\n",
              "      <td>50000.0</td>\n",
              "      <td>48766.15</td>\n",
              "      <td>2016-12-27T15:46:24</td>\n",
              "      <td>49.43</td>\n",
              "      <td>Lyft</td>\n",
              "      <td>US</td>\n",
              "      <td>US</td>\n",
              "      <td>2.0</td>\n",
              "      <td>1.0</td>\n",
              "      <td>rideshare</td>\n",
              "      <td>08/2025</td>\n",
              "      <td>2012-08-23</td>\n",
              "      <td>2012-08-23</td>\n",
              "      <td>936</td>\n",
              "      <td>936</td>\n",
              "      <td>3783</td>\n",
              "      <td>PURCHASE</td>\n",
              "      <td>NaN</td>\n",
              "      <td>1233.85</td>\n",
              "      <td>NaN</td>\n",
              "      <td>NaN</td>\n",
              "      <td>NaN</td>\n",
              "      <td>False</td>\n",
              "      <td>NaN</td>\n",
              "      <td>NaN</td>\n",
              "      <td>False</td>\n",
              "      <td>False</td>\n",
              "    </tr>\n",
              "    <tr>\n",
              "      <th>786361</th>\n",
              "      <td>732852505</td>\n",
              "      <td>732852505</td>\n",
              "      <td>50000.0</td>\n",
              "      <td>48716.72</td>\n",
              "      <td>2016-12-29T00:30:55</td>\n",
              "      <td>49.89</td>\n",
              "      <td>walmart.com</td>\n",
              "      <td>US</td>\n",
              "      <td>US</td>\n",
              "      <td>9.0</td>\n",
              "      <td>99.0</td>\n",
              "      <td>online_retail</td>\n",
              "      <td>07/2022</td>\n",
              "      <td>2012-08-23</td>\n",
              "      <td>2012-08-23</td>\n",
              "      <td>939</td>\n",
              "      <td>939</td>\n",
              "      <td>3388</td>\n",
              "      <td>PURCHASE</td>\n",
              "      <td>NaN</td>\n",
              "      <td>1283.28</td>\n",
              "      <td>NaN</td>\n",
              "      <td>NaN</td>\n",
              "      <td>NaN</td>\n",
              "      <td>False</td>\n",
              "      <td>NaN</td>\n",
              "      <td>NaN</td>\n",
              "      <td>False</td>\n",
              "      <td>False</td>\n",
              "    </tr>\n",
              "    <tr>\n",
              "      <th>786362</th>\n",
              "      <td>732852505</td>\n",
              "      <td>732852505</td>\n",
              "      <td>50000.0</td>\n",
              "      <td>48666.83</td>\n",
              "      <td>2016-12-30T20:10:29</td>\n",
              "      <td>72.18</td>\n",
              "      <td>Uber</td>\n",
              "      <td>US</td>\n",
              "      <td>US</td>\n",
              "      <td>5.0</td>\n",
              "      <td>1.0</td>\n",
              "      <td>rideshare</td>\n",
              "      <td>05/2024</td>\n",
              "      <td>2012-08-23</td>\n",
              "      <td>2012-08-23</td>\n",
              "      <td>939</td>\n",
              "      <td>939</td>\n",
              "      <td>3388</td>\n",
              "      <td>PURCHASE</td>\n",
              "      <td>NaN</td>\n",
              "      <td>1333.17</td>\n",
              "      <td>NaN</td>\n",
              "      <td>NaN</td>\n",
              "      <td>NaN</td>\n",
              "      <td>False</td>\n",
              "      <td>NaN</td>\n",
              "      <td>NaN</td>\n",
              "      <td>False</td>\n",
              "      <td>False</td>\n",
              "    </tr>\n",
              "  </tbody>\n",
              "</table>\n",
              "<p>786363 rows × 29 columns</p>\n",
              "</div>"
            ],
            "text/plain": [
              "        accountNumber  customerId  ...  expirationDateKeyInMatch  isFraud\n",
              "0           737265056   737265056  ...                     False    False\n",
              "1           737265056   737265056  ...                     False    False\n",
              "2           737265056   737265056  ...                     False    False\n",
              "3           737265056   737265056  ...                     False    False\n",
              "4           830329091   830329091  ...                     False    False\n",
              "...               ...         ...  ...                       ...      ...\n",
              "786358      732852505   732852505  ...                     False    False\n",
              "786359      732852505   732852505  ...                     False    False\n",
              "786360      732852505   732852505  ...                     False    False\n",
              "786361      732852505   732852505  ...                     False    False\n",
              "786362      732852505   732852505  ...                     False    False\n",
              "\n",
              "[786363 rows x 29 columns]"
            ]
          },
          "metadata": {},
          "execution_count": 5
        }
      ]
    },
    {
      "cell_type": "markdown",
      "metadata": {
        "id": "E_iFlKiqfac1"
      },
      "source": [
        "### Transformation"
      ]
    },
    {
      "cell_type": "markdown",
      "metadata": {
        "id": "N2VjBPBvfdQV"
      },
      "source": [
        "#### Transform Date variable"
      ]
    },
    {
      "cell_type": "code",
      "metadata": {
        "id": "NyGUyi3TfXzp"
      },
      "source": [
        "he = DateHourEncoder(\"%Y-%m-%dT%H:%M:%S\")\n",
        "me = DateMonthEncoder(\"%Y-%m-%dT%H:%M:%S\")\n",
        "we = DateWeekEncoder(\"%Y-%m-%dT%H:%M:%S\")\n",
        "ye = DateYearEncoder(\"%Y-%m-%dT%H:%M:%S\")\n",
        "\n",
        "df[\"transactionDateTime_hour\"] = he.transform(df[\"transactionDateTime\"])\n",
        "df[\"transactionDateTime_weekday\"] = we.transform(df[\"transactionDateTime\"])\n",
        "df[\"transactionDateTime_month\"] = me.transform(df[\"transactionDateTime\"])\n",
        "# df[\"transactionDateTime_year\"] = ye.transform(df[\"transactionDateTime\"])\n",
        "\n",
        "# df[\"accountOpenDate_year\"] = DateYearEncoder(\"%Y-%m-%d\").transform(df[\"accountOpenDate\"])\n",
        "# df[\"accountOpenDate_weekday\"] = DateWeekEncoder(\"%Y-%m-%d\").transform(df[\"accountOpenDate\"])\n",
        "# df[\"accountOpenDate_month\"] = DateMonthEncoder(\"%Y-%m-%d\").transform(df[\"accountOpenDate\"])\n",
        "\n",
        "# df[\"dateOfLastAddressChange_year\"] = DateYearEncoder(\"%Y-%m-%d\").transform(df[\"dateOfLastAddressChange\"])\n",
        "# df[\"dateOfLastAddressChange_weekday\"] = DateWeekEncoder(\"%Y-%m-%d\").transform(df[\"dateOfLastAddressChange\"])\n",
        "# df[\"dateOfLastAddressChange_month\"] = DateMonthEncoder(\"%Y-%m-%d\").transform(df[\"dateOfLastAddressChange\"])\n",
        "\n",
        "# df[\"currentExpDate_year\"] = DateYearEncoder(\"%m/%Y\").transform(df[\"currentExpDate\"])\n",
        "# df[\"currentExpDate_month\"] = DateMonthEncoder(\"%m/%Y\").transform(df[\"currentExpDate\"])"
      ],
      "execution_count": 6,
      "outputs": []
    },
    {
      "cell_type": "markdown",
      "metadata": {
        "id": "YHFZVY98fjz7"
      },
      "source": [
        "#### Transform CVV"
      ]
    },
    {
      "cell_type": "code",
      "metadata": {
        "id": "RFN8FjIlfh0_"
      },
      "source": [
        "df['matchingCVV'] = df['cardCVV'] == df['enteredCVV']"
      ],
      "execution_count": 7,
      "outputs": []
    },
    {
      "cell_type": "code",
      "metadata": {
        "colab": {
          "base_uri": "https://localhost:8080/",
          "height": 456
        },
        "id": "4EXKSQWcfnuQ",
        "outputId": "903cf0b5-bd7f-41a4-fa6a-56ea0ef90fda"
      },
      "source": [
        "df"
      ],
      "execution_count": 8,
      "outputs": [
        {
          "output_type": "execute_result",
          "data": {
            "text/html": [
              "<div>\n",
              "<style scoped>\n",
              "    .dataframe tbody tr th:only-of-type {\n",
              "        vertical-align: middle;\n",
              "    }\n",
              "\n",
              "    .dataframe tbody tr th {\n",
              "        vertical-align: top;\n",
              "    }\n",
              "\n",
              "    .dataframe thead th {\n",
              "        text-align: right;\n",
              "    }\n",
              "</style>\n",
              "<table border=\"1\" class=\"dataframe\">\n",
              "  <thead>\n",
              "    <tr style=\"text-align: right;\">\n",
              "      <th></th>\n",
              "      <th>accountNumber</th>\n",
              "      <th>customerId</th>\n",
              "      <th>creditLimit</th>\n",
              "      <th>availableMoney</th>\n",
              "      <th>transactionDateTime</th>\n",
              "      <th>transactionAmount</th>\n",
              "      <th>merchantName</th>\n",
              "      <th>acqCountry</th>\n",
              "      <th>merchantCountryCode</th>\n",
              "      <th>posEntryMode</th>\n",
              "      <th>posConditionCode</th>\n",
              "      <th>merchantCategoryCode</th>\n",
              "      <th>currentExpDate</th>\n",
              "      <th>accountOpenDate</th>\n",
              "      <th>dateOfLastAddressChange</th>\n",
              "      <th>cardCVV</th>\n",
              "      <th>enteredCVV</th>\n",
              "      <th>cardLast4Digits</th>\n",
              "      <th>transactionType</th>\n",
              "      <th>echoBuffer</th>\n",
              "      <th>currentBalance</th>\n",
              "      <th>merchantCity</th>\n",
              "      <th>merchantState</th>\n",
              "      <th>merchantZip</th>\n",
              "      <th>cardPresent</th>\n",
              "      <th>posOnPremises</th>\n",
              "      <th>recurringAuthInd</th>\n",
              "      <th>expirationDateKeyInMatch</th>\n",
              "      <th>isFraud</th>\n",
              "      <th>transactionDateTime_hour</th>\n",
              "      <th>transactionDateTime_weekday</th>\n",
              "      <th>transactionDateTime_month</th>\n",
              "      <th>matchingCVV</th>\n",
              "    </tr>\n",
              "  </thead>\n",
              "  <tbody>\n",
              "    <tr>\n",
              "      <th>0</th>\n",
              "      <td>737265056</td>\n",
              "      <td>737265056</td>\n",
              "      <td>5000.0</td>\n",
              "      <td>5000.00</td>\n",
              "      <td>2016-08-13T14:27:32</td>\n",
              "      <td>98.55</td>\n",
              "      <td>Uber</td>\n",
              "      <td>US</td>\n",
              "      <td>US</td>\n",
              "      <td>2.0</td>\n",
              "      <td>1.0</td>\n",
              "      <td>rideshare</td>\n",
              "      <td>06/2023</td>\n",
              "      <td>2015-03-14</td>\n",
              "      <td>2015-03-14</td>\n",
              "      <td>414</td>\n",
              "      <td>414</td>\n",
              "      <td>1803</td>\n",
              "      <td>PURCHASE</td>\n",
              "      <td>NaN</td>\n",
              "      <td>0.00</td>\n",
              "      <td>NaN</td>\n",
              "      <td>NaN</td>\n",
              "      <td>NaN</td>\n",
              "      <td>False</td>\n",
              "      <td>NaN</td>\n",
              "      <td>NaN</td>\n",
              "      <td>False</td>\n",
              "      <td>False</td>\n",
              "      <td>14</td>\n",
              "      <td>5</td>\n",
              "      <td>8</td>\n",
              "      <td>True</td>\n",
              "    </tr>\n",
              "    <tr>\n",
              "      <th>1</th>\n",
              "      <td>737265056</td>\n",
              "      <td>737265056</td>\n",
              "      <td>5000.0</td>\n",
              "      <td>5000.00</td>\n",
              "      <td>2016-10-11T05:05:54</td>\n",
              "      <td>74.51</td>\n",
              "      <td>AMC #191138</td>\n",
              "      <td>US</td>\n",
              "      <td>US</td>\n",
              "      <td>9.0</td>\n",
              "      <td>1.0</td>\n",
              "      <td>entertainment</td>\n",
              "      <td>02/2024</td>\n",
              "      <td>2015-03-14</td>\n",
              "      <td>2015-03-14</td>\n",
              "      <td>486</td>\n",
              "      <td>486</td>\n",
              "      <td>767</td>\n",
              "      <td>PURCHASE</td>\n",
              "      <td>NaN</td>\n",
              "      <td>0.00</td>\n",
              "      <td>NaN</td>\n",
              "      <td>NaN</td>\n",
              "      <td>NaN</td>\n",
              "      <td>True</td>\n",
              "      <td>NaN</td>\n",
              "      <td>NaN</td>\n",
              "      <td>False</td>\n",
              "      <td>False</td>\n",
              "      <td>5</td>\n",
              "      <td>1</td>\n",
              "      <td>10</td>\n",
              "      <td>True</td>\n",
              "    </tr>\n",
              "    <tr>\n",
              "      <th>2</th>\n",
              "      <td>737265056</td>\n",
              "      <td>737265056</td>\n",
              "      <td>5000.0</td>\n",
              "      <td>5000.00</td>\n",
              "      <td>2016-11-08T09:18:39</td>\n",
              "      <td>7.47</td>\n",
              "      <td>Play Store</td>\n",
              "      <td>US</td>\n",
              "      <td>US</td>\n",
              "      <td>9.0</td>\n",
              "      <td>1.0</td>\n",
              "      <td>mobileapps</td>\n",
              "      <td>08/2025</td>\n",
              "      <td>2015-03-14</td>\n",
              "      <td>2015-03-14</td>\n",
              "      <td>486</td>\n",
              "      <td>486</td>\n",
              "      <td>767</td>\n",
              "      <td>PURCHASE</td>\n",
              "      <td>NaN</td>\n",
              "      <td>0.00</td>\n",
              "      <td>NaN</td>\n",
              "      <td>NaN</td>\n",
              "      <td>NaN</td>\n",
              "      <td>False</td>\n",
              "      <td>NaN</td>\n",
              "      <td>NaN</td>\n",
              "      <td>False</td>\n",
              "      <td>False</td>\n",
              "      <td>9</td>\n",
              "      <td>1</td>\n",
              "      <td>11</td>\n",
              "      <td>True</td>\n",
              "    </tr>\n",
              "    <tr>\n",
              "      <th>3</th>\n",
              "      <td>737265056</td>\n",
              "      <td>737265056</td>\n",
              "      <td>5000.0</td>\n",
              "      <td>5000.00</td>\n",
              "      <td>2016-12-10T02:14:50</td>\n",
              "      <td>7.47</td>\n",
              "      <td>Play Store</td>\n",
              "      <td>US</td>\n",
              "      <td>US</td>\n",
              "      <td>9.0</td>\n",
              "      <td>1.0</td>\n",
              "      <td>mobileapps</td>\n",
              "      <td>08/2025</td>\n",
              "      <td>2015-03-14</td>\n",
              "      <td>2015-03-14</td>\n",
              "      <td>486</td>\n",
              "      <td>486</td>\n",
              "      <td>767</td>\n",
              "      <td>PURCHASE</td>\n",
              "      <td>NaN</td>\n",
              "      <td>0.00</td>\n",
              "      <td>NaN</td>\n",
              "      <td>NaN</td>\n",
              "      <td>NaN</td>\n",
              "      <td>False</td>\n",
              "      <td>NaN</td>\n",
              "      <td>NaN</td>\n",
              "      <td>False</td>\n",
              "      <td>False</td>\n",
              "      <td>2</td>\n",
              "      <td>5</td>\n",
              "      <td>12</td>\n",
              "      <td>True</td>\n",
              "    </tr>\n",
              "    <tr>\n",
              "      <th>4</th>\n",
              "      <td>830329091</td>\n",
              "      <td>830329091</td>\n",
              "      <td>5000.0</td>\n",
              "      <td>5000.00</td>\n",
              "      <td>2016-03-24T21:04:46</td>\n",
              "      <td>71.18</td>\n",
              "      <td>Tim Hortons #947751</td>\n",
              "      <td>US</td>\n",
              "      <td>US</td>\n",
              "      <td>2.0</td>\n",
              "      <td>1.0</td>\n",
              "      <td>fastfood</td>\n",
              "      <td>10/2029</td>\n",
              "      <td>2015-08-06</td>\n",
              "      <td>2015-08-06</td>\n",
              "      <td>885</td>\n",
              "      <td>885</td>\n",
              "      <td>3143</td>\n",
              "      <td>PURCHASE</td>\n",
              "      <td>NaN</td>\n",
              "      <td>0.00</td>\n",
              "      <td>NaN</td>\n",
              "      <td>NaN</td>\n",
              "      <td>NaN</td>\n",
              "      <td>True</td>\n",
              "      <td>NaN</td>\n",
              "      <td>NaN</td>\n",
              "      <td>False</td>\n",
              "      <td>False</td>\n",
              "      <td>21</td>\n",
              "      <td>3</td>\n",
              "      <td>3</td>\n",
              "      <td>True</td>\n",
              "    </tr>\n",
              "    <tr>\n",
              "      <th>...</th>\n",
              "      <td>...</td>\n",
              "      <td>...</td>\n",
              "      <td>...</td>\n",
              "      <td>...</td>\n",
              "      <td>...</td>\n",
              "      <td>...</td>\n",
              "      <td>...</td>\n",
              "      <td>...</td>\n",
              "      <td>...</td>\n",
              "      <td>...</td>\n",
              "      <td>...</td>\n",
              "      <td>...</td>\n",
              "      <td>...</td>\n",
              "      <td>...</td>\n",
              "      <td>...</td>\n",
              "      <td>...</td>\n",
              "      <td>...</td>\n",
              "      <td>...</td>\n",
              "      <td>...</td>\n",
              "      <td>...</td>\n",
              "      <td>...</td>\n",
              "      <td>...</td>\n",
              "      <td>...</td>\n",
              "      <td>...</td>\n",
              "      <td>...</td>\n",
              "      <td>...</td>\n",
              "      <td>...</td>\n",
              "      <td>...</td>\n",
              "      <td>...</td>\n",
              "      <td>...</td>\n",
              "      <td>...</td>\n",
              "      <td>...</td>\n",
              "      <td>...</td>\n",
              "    </tr>\n",
              "    <tr>\n",
              "      <th>786358</th>\n",
              "      <td>732852505</td>\n",
              "      <td>732852505</td>\n",
              "      <td>50000.0</td>\n",
              "      <td>48904.96</td>\n",
              "      <td>2016-12-22T18:44:12</td>\n",
              "      <td>119.92</td>\n",
              "      <td>Lyft</td>\n",
              "      <td>US</td>\n",
              "      <td>US</td>\n",
              "      <td>90.0</td>\n",
              "      <td>1.0</td>\n",
              "      <td>rideshare</td>\n",
              "      <td>12/2022</td>\n",
              "      <td>2012-08-23</td>\n",
              "      <td>2012-08-23</td>\n",
              "      <td>936</td>\n",
              "      <td>936</td>\n",
              "      <td>3783</td>\n",
              "      <td>PURCHASE</td>\n",
              "      <td>NaN</td>\n",
              "      <td>1095.04</td>\n",
              "      <td>NaN</td>\n",
              "      <td>NaN</td>\n",
              "      <td>NaN</td>\n",
              "      <td>False</td>\n",
              "      <td>NaN</td>\n",
              "      <td>NaN</td>\n",
              "      <td>False</td>\n",
              "      <td>False</td>\n",
              "      <td>18</td>\n",
              "      <td>3</td>\n",
              "      <td>12</td>\n",
              "      <td>True</td>\n",
              "    </tr>\n",
              "    <tr>\n",
              "      <th>786359</th>\n",
              "      <td>732852505</td>\n",
              "      <td>732852505</td>\n",
              "      <td>50000.0</td>\n",
              "      <td>48785.04</td>\n",
              "      <td>2016-12-25T16:20:34</td>\n",
              "      <td>18.89</td>\n",
              "      <td>hulu.com</td>\n",
              "      <td>US</td>\n",
              "      <td>US</td>\n",
              "      <td>9.0</td>\n",
              "      <td>1.0</td>\n",
              "      <td>online_subscriptions</td>\n",
              "      <td>08/2023</td>\n",
              "      <td>2012-08-23</td>\n",
              "      <td>2012-08-23</td>\n",
              "      <td>939</td>\n",
              "      <td>939</td>\n",
              "      <td>3388</td>\n",
              "      <td>PURCHASE</td>\n",
              "      <td>NaN</td>\n",
              "      <td>1214.96</td>\n",
              "      <td>NaN</td>\n",
              "      <td>NaN</td>\n",
              "      <td>NaN</td>\n",
              "      <td>False</td>\n",
              "      <td>NaN</td>\n",
              "      <td>NaN</td>\n",
              "      <td>False</td>\n",
              "      <td>False</td>\n",
              "      <td>16</td>\n",
              "      <td>6</td>\n",
              "      <td>12</td>\n",
              "      <td>True</td>\n",
              "    </tr>\n",
              "    <tr>\n",
              "      <th>786360</th>\n",
              "      <td>732852505</td>\n",
              "      <td>732852505</td>\n",
              "      <td>50000.0</td>\n",
              "      <td>48766.15</td>\n",
              "      <td>2016-12-27T15:46:24</td>\n",
              "      <td>49.43</td>\n",
              "      <td>Lyft</td>\n",
              "      <td>US</td>\n",
              "      <td>US</td>\n",
              "      <td>2.0</td>\n",
              "      <td>1.0</td>\n",
              "      <td>rideshare</td>\n",
              "      <td>08/2025</td>\n",
              "      <td>2012-08-23</td>\n",
              "      <td>2012-08-23</td>\n",
              "      <td>936</td>\n",
              "      <td>936</td>\n",
              "      <td>3783</td>\n",
              "      <td>PURCHASE</td>\n",
              "      <td>NaN</td>\n",
              "      <td>1233.85</td>\n",
              "      <td>NaN</td>\n",
              "      <td>NaN</td>\n",
              "      <td>NaN</td>\n",
              "      <td>False</td>\n",
              "      <td>NaN</td>\n",
              "      <td>NaN</td>\n",
              "      <td>False</td>\n",
              "      <td>False</td>\n",
              "      <td>15</td>\n",
              "      <td>1</td>\n",
              "      <td>12</td>\n",
              "      <td>True</td>\n",
              "    </tr>\n",
              "    <tr>\n",
              "      <th>786361</th>\n",
              "      <td>732852505</td>\n",
              "      <td>732852505</td>\n",
              "      <td>50000.0</td>\n",
              "      <td>48716.72</td>\n",
              "      <td>2016-12-29T00:30:55</td>\n",
              "      <td>49.89</td>\n",
              "      <td>walmart.com</td>\n",
              "      <td>US</td>\n",
              "      <td>US</td>\n",
              "      <td>9.0</td>\n",
              "      <td>99.0</td>\n",
              "      <td>online_retail</td>\n",
              "      <td>07/2022</td>\n",
              "      <td>2012-08-23</td>\n",
              "      <td>2012-08-23</td>\n",
              "      <td>939</td>\n",
              "      <td>939</td>\n",
              "      <td>3388</td>\n",
              "      <td>PURCHASE</td>\n",
              "      <td>NaN</td>\n",
              "      <td>1283.28</td>\n",
              "      <td>NaN</td>\n",
              "      <td>NaN</td>\n",
              "      <td>NaN</td>\n",
              "      <td>False</td>\n",
              "      <td>NaN</td>\n",
              "      <td>NaN</td>\n",
              "      <td>False</td>\n",
              "      <td>False</td>\n",
              "      <td>0</td>\n",
              "      <td>3</td>\n",
              "      <td>12</td>\n",
              "      <td>True</td>\n",
              "    </tr>\n",
              "    <tr>\n",
              "      <th>786362</th>\n",
              "      <td>732852505</td>\n",
              "      <td>732852505</td>\n",
              "      <td>50000.0</td>\n",
              "      <td>48666.83</td>\n",
              "      <td>2016-12-30T20:10:29</td>\n",
              "      <td>72.18</td>\n",
              "      <td>Uber</td>\n",
              "      <td>US</td>\n",
              "      <td>US</td>\n",
              "      <td>5.0</td>\n",
              "      <td>1.0</td>\n",
              "      <td>rideshare</td>\n",
              "      <td>05/2024</td>\n",
              "      <td>2012-08-23</td>\n",
              "      <td>2012-08-23</td>\n",
              "      <td>939</td>\n",
              "      <td>939</td>\n",
              "      <td>3388</td>\n",
              "      <td>PURCHASE</td>\n",
              "      <td>NaN</td>\n",
              "      <td>1333.17</td>\n",
              "      <td>NaN</td>\n",
              "      <td>NaN</td>\n",
              "      <td>NaN</td>\n",
              "      <td>False</td>\n",
              "      <td>NaN</td>\n",
              "      <td>NaN</td>\n",
              "      <td>False</td>\n",
              "      <td>False</td>\n",
              "      <td>20</td>\n",
              "      <td>4</td>\n",
              "      <td>12</td>\n",
              "      <td>True</td>\n",
              "    </tr>\n",
              "  </tbody>\n",
              "</table>\n",
              "<p>786363 rows × 33 columns</p>\n",
              "</div>"
            ],
            "text/plain": [
              "        accountNumber  customerId  ...  transactionDateTime_month  matchingCVV\n",
              "0           737265056   737265056  ...                          8         True\n",
              "1           737265056   737265056  ...                         10         True\n",
              "2           737265056   737265056  ...                         11         True\n",
              "3           737265056   737265056  ...                         12         True\n",
              "4           830329091   830329091  ...                          3         True\n",
              "...               ...         ...  ...                        ...          ...\n",
              "786358      732852505   732852505  ...                         12         True\n",
              "786359      732852505   732852505  ...                         12         True\n",
              "786360      732852505   732852505  ...                         12         True\n",
              "786361      732852505   732852505  ...                         12         True\n",
              "786362      732852505   732852505  ...                         12         True\n",
              "\n",
              "[786363 rows x 33 columns]"
            ]
          },
          "metadata": {},
          "execution_count": 8
        }
      ]
    },
    {
      "cell_type": "markdown",
      "metadata": {
        "id": "tztxKSNhftSt"
      },
      "source": [
        "### Remove some unwanted Variables"
      ]
    },
    {
      "cell_type": "code",
      "metadata": {
        "id": "4WL4IoubfrYi"
      },
      "source": [
        "df = df.drop([\"accountNumber\", \n",
        "              \"accountOpenDate\", \n",
        "              \"dateOfLastAddressChange\", \n",
        "              \"currentExpDate\", \n",
        "              \"transactionDateTime\"], axis=1)"
      ],
      "execution_count": 9,
      "outputs": []
    },
    {
      "cell_type": "code",
      "metadata": {
        "colab": {
          "base_uri": "https://localhost:8080/",
          "height": 456
        },
        "id": "AMyh3xhdf3YL",
        "outputId": "d11dcf40-fed3-4e06-c263-d173b33e24ad"
      },
      "source": [
        "df"
      ],
      "execution_count": 10,
      "outputs": [
        {
          "output_type": "execute_result",
          "data": {
            "text/html": [
              "<div>\n",
              "<style scoped>\n",
              "    .dataframe tbody tr th:only-of-type {\n",
              "        vertical-align: middle;\n",
              "    }\n",
              "\n",
              "    .dataframe tbody tr th {\n",
              "        vertical-align: top;\n",
              "    }\n",
              "\n",
              "    .dataframe thead th {\n",
              "        text-align: right;\n",
              "    }\n",
              "</style>\n",
              "<table border=\"1\" class=\"dataframe\">\n",
              "  <thead>\n",
              "    <tr style=\"text-align: right;\">\n",
              "      <th></th>\n",
              "      <th>customerId</th>\n",
              "      <th>creditLimit</th>\n",
              "      <th>availableMoney</th>\n",
              "      <th>transactionAmount</th>\n",
              "      <th>merchantName</th>\n",
              "      <th>acqCountry</th>\n",
              "      <th>merchantCountryCode</th>\n",
              "      <th>posEntryMode</th>\n",
              "      <th>posConditionCode</th>\n",
              "      <th>merchantCategoryCode</th>\n",
              "      <th>cardCVV</th>\n",
              "      <th>enteredCVV</th>\n",
              "      <th>cardLast4Digits</th>\n",
              "      <th>transactionType</th>\n",
              "      <th>echoBuffer</th>\n",
              "      <th>currentBalance</th>\n",
              "      <th>merchantCity</th>\n",
              "      <th>merchantState</th>\n",
              "      <th>merchantZip</th>\n",
              "      <th>cardPresent</th>\n",
              "      <th>posOnPremises</th>\n",
              "      <th>recurringAuthInd</th>\n",
              "      <th>expirationDateKeyInMatch</th>\n",
              "      <th>isFraud</th>\n",
              "      <th>transactionDateTime_hour</th>\n",
              "      <th>transactionDateTime_weekday</th>\n",
              "      <th>transactionDateTime_month</th>\n",
              "      <th>matchingCVV</th>\n",
              "    </tr>\n",
              "  </thead>\n",
              "  <tbody>\n",
              "    <tr>\n",
              "      <th>0</th>\n",
              "      <td>737265056</td>\n",
              "      <td>5000.0</td>\n",
              "      <td>5000.00</td>\n",
              "      <td>98.55</td>\n",
              "      <td>Uber</td>\n",
              "      <td>US</td>\n",
              "      <td>US</td>\n",
              "      <td>2.0</td>\n",
              "      <td>1.0</td>\n",
              "      <td>rideshare</td>\n",
              "      <td>414</td>\n",
              "      <td>414</td>\n",
              "      <td>1803</td>\n",
              "      <td>PURCHASE</td>\n",
              "      <td>NaN</td>\n",
              "      <td>0.00</td>\n",
              "      <td>NaN</td>\n",
              "      <td>NaN</td>\n",
              "      <td>NaN</td>\n",
              "      <td>False</td>\n",
              "      <td>NaN</td>\n",
              "      <td>NaN</td>\n",
              "      <td>False</td>\n",
              "      <td>False</td>\n",
              "      <td>14</td>\n",
              "      <td>5</td>\n",
              "      <td>8</td>\n",
              "      <td>True</td>\n",
              "    </tr>\n",
              "    <tr>\n",
              "      <th>1</th>\n",
              "      <td>737265056</td>\n",
              "      <td>5000.0</td>\n",
              "      <td>5000.00</td>\n",
              "      <td>74.51</td>\n",
              "      <td>AMC #191138</td>\n",
              "      <td>US</td>\n",
              "      <td>US</td>\n",
              "      <td>9.0</td>\n",
              "      <td>1.0</td>\n",
              "      <td>entertainment</td>\n",
              "      <td>486</td>\n",
              "      <td>486</td>\n",
              "      <td>767</td>\n",
              "      <td>PURCHASE</td>\n",
              "      <td>NaN</td>\n",
              "      <td>0.00</td>\n",
              "      <td>NaN</td>\n",
              "      <td>NaN</td>\n",
              "      <td>NaN</td>\n",
              "      <td>True</td>\n",
              "      <td>NaN</td>\n",
              "      <td>NaN</td>\n",
              "      <td>False</td>\n",
              "      <td>False</td>\n",
              "      <td>5</td>\n",
              "      <td>1</td>\n",
              "      <td>10</td>\n",
              "      <td>True</td>\n",
              "    </tr>\n",
              "    <tr>\n",
              "      <th>2</th>\n",
              "      <td>737265056</td>\n",
              "      <td>5000.0</td>\n",
              "      <td>5000.00</td>\n",
              "      <td>7.47</td>\n",
              "      <td>Play Store</td>\n",
              "      <td>US</td>\n",
              "      <td>US</td>\n",
              "      <td>9.0</td>\n",
              "      <td>1.0</td>\n",
              "      <td>mobileapps</td>\n",
              "      <td>486</td>\n",
              "      <td>486</td>\n",
              "      <td>767</td>\n",
              "      <td>PURCHASE</td>\n",
              "      <td>NaN</td>\n",
              "      <td>0.00</td>\n",
              "      <td>NaN</td>\n",
              "      <td>NaN</td>\n",
              "      <td>NaN</td>\n",
              "      <td>False</td>\n",
              "      <td>NaN</td>\n",
              "      <td>NaN</td>\n",
              "      <td>False</td>\n",
              "      <td>False</td>\n",
              "      <td>9</td>\n",
              "      <td>1</td>\n",
              "      <td>11</td>\n",
              "      <td>True</td>\n",
              "    </tr>\n",
              "    <tr>\n",
              "      <th>3</th>\n",
              "      <td>737265056</td>\n",
              "      <td>5000.0</td>\n",
              "      <td>5000.00</td>\n",
              "      <td>7.47</td>\n",
              "      <td>Play Store</td>\n",
              "      <td>US</td>\n",
              "      <td>US</td>\n",
              "      <td>9.0</td>\n",
              "      <td>1.0</td>\n",
              "      <td>mobileapps</td>\n",
              "      <td>486</td>\n",
              "      <td>486</td>\n",
              "      <td>767</td>\n",
              "      <td>PURCHASE</td>\n",
              "      <td>NaN</td>\n",
              "      <td>0.00</td>\n",
              "      <td>NaN</td>\n",
              "      <td>NaN</td>\n",
              "      <td>NaN</td>\n",
              "      <td>False</td>\n",
              "      <td>NaN</td>\n",
              "      <td>NaN</td>\n",
              "      <td>False</td>\n",
              "      <td>False</td>\n",
              "      <td>2</td>\n",
              "      <td>5</td>\n",
              "      <td>12</td>\n",
              "      <td>True</td>\n",
              "    </tr>\n",
              "    <tr>\n",
              "      <th>4</th>\n",
              "      <td>830329091</td>\n",
              "      <td>5000.0</td>\n",
              "      <td>5000.00</td>\n",
              "      <td>71.18</td>\n",
              "      <td>Tim Hortons #947751</td>\n",
              "      <td>US</td>\n",
              "      <td>US</td>\n",
              "      <td>2.0</td>\n",
              "      <td>1.0</td>\n",
              "      <td>fastfood</td>\n",
              "      <td>885</td>\n",
              "      <td>885</td>\n",
              "      <td>3143</td>\n",
              "      <td>PURCHASE</td>\n",
              "      <td>NaN</td>\n",
              "      <td>0.00</td>\n",
              "      <td>NaN</td>\n",
              "      <td>NaN</td>\n",
              "      <td>NaN</td>\n",
              "      <td>True</td>\n",
              "      <td>NaN</td>\n",
              "      <td>NaN</td>\n",
              "      <td>False</td>\n",
              "      <td>False</td>\n",
              "      <td>21</td>\n",
              "      <td>3</td>\n",
              "      <td>3</td>\n",
              "      <td>True</td>\n",
              "    </tr>\n",
              "    <tr>\n",
              "      <th>...</th>\n",
              "      <td>...</td>\n",
              "      <td>...</td>\n",
              "      <td>...</td>\n",
              "      <td>...</td>\n",
              "      <td>...</td>\n",
              "      <td>...</td>\n",
              "      <td>...</td>\n",
              "      <td>...</td>\n",
              "      <td>...</td>\n",
              "      <td>...</td>\n",
              "      <td>...</td>\n",
              "      <td>...</td>\n",
              "      <td>...</td>\n",
              "      <td>...</td>\n",
              "      <td>...</td>\n",
              "      <td>...</td>\n",
              "      <td>...</td>\n",
              "      <td>...</td>\n",
              "      <td>...</td>\n",
              "      <td>...</td>\n",
              "      <td>...</td>\n",
              "      <td>...</td>\n",
              "      <td>...</td>\n",
              "      <td>...</td>\n",
              "      <td>...</td>\n",
              "      <td>...</td>\n",
              "      <td>...</td>\n",
              "      <td>...</td>\n",
              "    </tr>\n",
              "    <tr>\n",
              "      <th>786358</th>\n",
              "      <td>732852505</td>\n",
              "      <td>50000.0</td>\n",
              "      <td>48904.96</td>\n",
              "      <td>119.92</td>\n",
              "      <td>Lyft</td>\n",
              "      <td>US</td>\n",
              "      <td>US</td>\n",
              "      <td>90.0</td>\n",
              "      <td>1.0</td>\n",
              "      <td>rideshare</td>\n",
              "      <td>936</td>\n",
              "      <td>936</td>\n",
              "      <td>3783</td>\n",
              "      <td>PURCHASE</td>\n",
              "      <td>NaN</td>\n",
              "      <td>1095.04</td>\n",
              "      <td>NaN</td>\n",
              "      <td>NaN</td>\n",
              "      <td>NaN</td>\n",
              "      <td>False</td>\n",
              "      <td>NaN</td>\n",
              "      <td>NaN</td>\n",
              "      <td>False</td>\n",
              "      <td>False</td>\n",
              "      <td>18</td>\n",
              "      <td>3</td>\n",
              "      <td>12</td>\n",
              "      <td>True</td>\n",
              "    </tr>\n",
              "    <tr>\n",
              "      <th>786359</th>\n",
              "      <td>732852505</td>\n",
              "      <td>50000.0</td>\n",
              "      <td>48785.04</td>\n",
              "      <td>18.89</td>\n",
              "      <td>hulu.com</td>\n",
              "      <td>US</td>\n",
              "      <td>US</td>\n",
              "      <td>9.0</td>\n",
              "      <td>1.0</td>\n",
              "      <td>online_subscriptions</td>\n",
              "      <td>939</td>\n",
              "      <td>939</td>\n",
              "      <td>3388</td>\n",
              "      <td>PURCHASE</td>\n",
              "      <td>NaN</td>\n",
              "      <td>1214.96</td>\n",
              "      <td>NaN</td>\n",
              "      <td>NaN</td>\n",
              "      <td>NaN</td>\n",
              "      <td>False</td>\n",
              "      <td>NaN</td>\n",
              "      <td>NaN</td>\n",
              "      <td>False</td>\n",
              "      <td>False</td>\n",
              "      <td>16</td>\n",
              "      <td>6</td>\n",
              "      <td>12</td>\n",
              "      <td>True</td>\n",
              "    </tr>\n",
              "    <tr>\n",
              "      <th>786360</th>\n",
              "      <td>732852505</td>\n",
              "      <td>50000.0</td>\n",
              "      <td>48766.15</td>\n",
              "      <td>49.43</td>\n",
              "      <td>Lyft</td>\n",
              "      <td>US</td>\n",
              "      <td>US</td>\n",
              "      <td>2.0</td>\n",
              "      <td>1.0</td>\n",
              "      <td>rideshare</td>\n",
              "      <td>936</td>\n",
              "      <td>936</td>\n",
              "      <td>3783</td>\n",
              "      <td>PURCHASE</td>\n",
              "      <td>NaN</td>\n",
              "      <td>1233.85</td>\n",
              "      <td>NaN</td>\n",
              "      <td>NaN</td>\n",
              "      <td>NaN</td>\n",
              "      <td>False</td>\n",
              "      <td>NaN</td>\n",
              "      <td>NaN</td>\n",
              "      <td>False</td>\n",
              "      <td>False</td>\n",
              "      <td>15</td>\n",
              "      <td>1</td>\n",
              "      <td>12</td>\n",
              "      <td>True</td>\n",
              "    </tr>\n",
              "    <tr>\n",
              "      <th>786361</th>\n",
              "      <td>732852505</td>\n",
              "      <td>50000.0</td>\n",
              "      <td>48716.72</td>\n",
              "      <td>49.89</td>\n",
              "      <td>walmart.com</td>\n",
              "      <td>US</td>\n",
              "      <td>US</td>\n",
              "      <td>9.0</td>\n",
              "      <td>99.0</td>\n",
              "      <td>online_retail</td>\n",
              "      <td>939</td>\n",
              "      <td>939</td>\n",
              "      <td>3388</td>\n",
              "      <td>PURCHASE</td>\n",
              "      <td>NaN</td>\n",
              "      <td>1283.28</td>\n",
              "      <td>NaN</td>\n",
              "      <td>NaN</td>\n",
              "      <td>NaN</td>\n",
              "      <td>False</td>\n",
              "      <td>NaN</td>\n",
              "      <td>NaN</td>\n",
              "      <td>False</td>\n",
              "      <td>False</td>\n",
              "      <td>0</td>\n",
              "      <td>3</td>\n",
              "      <td>12</td>\n",
              "      <td>True</td>\n",
              "    </tr>\n",
              "    <tr>\n",
              "      <th>786362</th>\n",
              "      <td>732852505</td>\n",
              "      <td>50000.0</td>\n",
              "      <td>48666.83</td>\n",
              "      <td>72.18</td>\n",
              "      <td>Uber</td>\n",
              "      <td>US</td>\n",
              "      <td>US</td>\n",
              "      <td>5.0</td>\n",
              "      <td>1.0</td>\n",
              "      <td>rideshare</td>\n",
              "      <td>939</td>\n",
              "      <td>939</td>\n",
              "      <td>3388</td>\n",
              "      <td>PURCHASE</td>\n",
              "      <td>NaN</td>\n",
              "      <td>1333.17</td>\n",
              "      <td>NaN</td>\n",
              "      <td>NaN</td>\n",
              "      <td>NaN</td>\n",
              "      <td>False</td>\n",
              "      <td>NaN</td>\n",
              "      <td>NaN</td>\n",
              "      <td>False</td>\n",
              "      <td>False</td>\n",
              "      <td>20</td>\n",
              "      <td>4</td>\n",
              "      <td>12</td>\n",
              "      <td>True</td>\n",
              "    </tr>\n",
              "  </tbody>\n",
              "</table>\n",
              "<p>786363 rows × 28 columns</p>\n",
              "</div>"
            ],
            "text/plain": [
              "        customerId  creditLimit  ...  transactionDateTime_month  matchingCVV\n",
              "0        737265056       5000.0  ...                          8         True\n",
              "1        737265056       5000.0  ...                         10         True\n",
              "2        737265056       5000.0  ...                         11         True\n",
              "3        737265056       5000.0  ...                         12         True\n",
              "4        830329091       5000.0  ...                          3         True\n",
              "...            ...          ...  ...                        ...          ...\n",
              "786358   732852505      50000.0  ...                         12         True\n",
              "786359   732852505      50000.0  ...                         12         True\n",
              "786360   732852505      50000.0  ...                         12         True\n",
              "786361   732852505      50000.0  ...                         12         True\n",
              "786362   732852505      50000.0  ...                         12         True\n",
              "\n",
              "[786363 rows x 28 columns]"
            ]
          },
          "metadata": {},
          "execution_count": 10
        }
      ]
    },
    {
      "cell_type": "markdown",
      "metadata": {
        "id": "WZwPHam8f56k"
      },
      "source": [
        "### Change some data type\n",
        "We notice that some data type is int64 or float but actually a categorical data, so we need to change those data into categorical data"
      ]
    },
    {
      "cell_type": "code",
      "metadata": {
        "id": "SjcKbl5Yf4v4"
      },
      "source": [
        "# objects = [\"customerId\",\n",
        "#            \"transactionDateTime_hour\", \n",
        "#            \"transactionDateTime_weekday\", \n",
        "#            \"transactionDateTime_weekday\", \n",
        "#            \"transactionDateTime_month\", \n",
        "#            \"transactionDateTime_year\", \n",
        "#            \"accountOpenDate_year\", \n",
        "#            \"accountOpenDate_weekday\", \n",
        "#            \"accountOpenDate_month\", \n",
        "#            \"dateOfLastAddressChange_year\", \n",
        "#            \"dateOfLastAddressChange_weekday\", \n",
        "#            \"dateOfLastAddressChange_month\", \n",
        "#            \"currentExpDate_year\", \n",
        "#            \"currentExpDate_month\"]\n",
        "#df = df.drop('merchantCategoryCode', axis=1)\n",
        "objects = [\"customerId\", \n",
        "           \"posEntryMode\",\n",
        "           \"posConditionCode\",\n",
        "           \"cardCVV\", \n",
        "           \"enteredCVV\", \n",
        "           \"cardLast4Digits\",\n",
        "           \"transactionDateTime_hour\", \n",
        "           \"transactionDateTime_weekday\", \n",
        "           \"transactionDateTime_weekday\", \n",
        "           \"transactionDateTime_month\"]\n",
        "# objects = [\"transactionDateTime_hour\", \n",
        "#            \"transactionDateTime_weekday\", \n",
        "#            \"transactionDateTime_weekday\", \n",
        "#            \"transactionDateTime_month\", \n",
        "#            \"transactionDateTime_year\"]\n",
        "df[objects] = df[objects].astype(object)"
      ],
      "execution_count": 11,
      "outputs": []
    },
    {
      "cell_type": "markdown",
      "metadata": {
        "id": "kHmwQYGBgYFv"
      },
      "source": [
        "### Randomly sample from the Dataset (optional)\n",
        "Dataset are extremely huge in this cases, so, we can choose to sample part of the data from the dataset"
      ]
    },
    {
      "cell_type": "code",
      "metadata": {
        "id": "aiCcIU6ZgRX4"
      },
      "source": [
        "df = df.sample(n=200000, random_state=23)"
      ],
      "execution_count": 12,
      "outputs": []
    },
    {
      "cell_type": "markdown",
      "metadata": {
        "id": "96J8eNPpgrPZ"
      },
      "source": [
        "### Preprocess the data\n",
        "Including Handle the missing data, Scale the numerical data, Encode the categorical data into Onehot encoding and ordinal encoding"
      ]
    },
    {
      "cell_type": "code",
      "metadata": {
        "colab": {
          "base_uri": "https://localhost:8080/"
        },
        "id": "guMppR4BgZc8",
        "outputId": "afa35293-148f-420e-988f-ea1269ebb157"
      },
      "source": [
        "# Missing Handler\n",
        "handler = MissingHandler(df, impute=False, target=\"isFraud\")\n",
        "X, y = handler.get_features(), handler.get_labels()\n",
        "\n",
        "\n",
        "# Train validation Test split\n",
        "dev_x, test_x, dev_y, test_y = train_test_split(X, y, test_size=0.2, random_state=23, stratify=y)\n",
        "train_x, val_x, train_y, val_y = train_test_split(dev_x, dev_y, test_size=0.25, random_state=23, stratify=dev_y)\n",
        "\n",
        "o_features = ['customerId', \n",
        "              'acqCountry', \n",
        "              'merchantCountryCode', \n",
        "              'posEntryMode', \n",
        "              'posConditionCode', \n",
        "              'merchantCategoryCode', \n",
        "              'transactionType', \n",
        "              'cardPresent', \n",
        "              'expirationDateKeyInMatch', \n",
        "              'transactionDateTime_hour', \n",
        "              'transactionDateTime_weekday', \n",
        "              'transactionDateTime_month', \n",
        "              'matchingCVV']\n",
        "\n",
        "t_features = ['customerId', 'merchantName', 'cardCVV', 'enteredCVV', 'cardLast4Digits']\n",
        "\n",
        "# default encoding is to encode all categorical data with ONEHOT encoding\n",
        "# You can choose whether to implement oridinal encoding or Target encoding by specifying corresponding features' name\n",
        "# e.g. p = Preprocess(X, y, handler, oridinal_features=o_features)\n",
        "p = Preprocess(X, y, handler, target_features=t_features)\n",
        "p.__fit__()\n",
        "\n",
        "\n",
        "train_x, train_y = p.preprocessor.transform(train_x), p.tar_handler.transform(train_y)\n",
        "val_x, val_y = p.preprocessor.transform(val_x), p.tar_handler.transform(val_y)\n",
        "test_x, test_y = p.preprocessor.transform(test_x), p.tar_handler.transform(test_y)"
      ],
      "execution_count": 13,
      "outputs": [
        {
          "output_type": "stream",
          "name": "stdout",
          "text": [
            "num_f: ['transactionAmount', 'availableMoney', 'creditLimit', 'currentBalance'], cate_f: ['merchantCategoryCode', 'acqCountry', 'transactionDateTime_month', 'matchingCVV', 'transactionDateTime_weekday', 'posEntryMode', 'transactionType', 'expirationDateKeyInMatch', 'cardPresent', 'posConditionCode', 'transactionDateTime_hour', 'merchantCountryCode'], ordinal_features: None, target_features: ['customerId', 'merchantName', 'cardCVV', 'enteredCVV', 'cardLast4Digits']\n"
          ]
        }
      ]
    },
    {
      "cell_type": "code",
      "metadata": {
        "colab": {
          "base_uri": "https://localhost:8080/"
        },
        "id": "JT2SRjoJhaTm",
        "outputId": "b9a8dd88-3d80-46d4-b874-d867f780ca91"
      },
      "source": [
        "train_x.shape"
      ],
      "execution_count": 14,
      "outputs": [
        {
          "output_type": "execute_result",
          "data": {
            "text/plain": [
              "(118479, 96)"
            ]
          },
          "metadata": {},
          "execution_count": 14
        }
      ]
    },
    {
      "cell_type": "markdown",
      "metadata": {
        "id": "NOkKejtHiq5S"
      },
      "source": [
        "### Dealing with Imbalanced (optional)\n",
        "In this scenario, the data are highly imbalanced, so we may want to use some sampling mechanisms (including under sampling, over sampling) to handle the imbalanced data"
      ]
    },
    {
      "cell_type": "code",
      "metadata": {
        "id": "jzKxKBDvipmH"
      },
      "source": [
        "from dataset.Sampling import Sampling, SampleMechanism\n",
        "\n",
        "# You can apply different sampling strategies by changing the mechanism\n",
        "# So far supporting under sampling -  SampleMechanism.under (default)\n",
        "# Over sampling - SampleMechanism.over\n",
        "# SMOTE sampling - SampleMechanism.SMOTE\n",
        "Sampler1 = Sampling(train_x, train_y, mechanism=SampleMechanism.under)\n",
        "train_x_resample, train_y_resample = Sampler1.get_features(), Sampler1.get_labels()\n",
        "Sampler2 = Sampling(val_x, val_y)\n",
        "val_x_resample, val_y_resample = Sampler2.get_features(), Sampler2.get_labels()\n",
        "Sampler3 = Sampling(test_x, test_y)\n",
        "test_x_resample, test_y_resample = Sampler3.get_features(), Sampler3.get_labels()"
      ],
      "execution_count": 15,
      "outputs": []
    },
    {
      "cell_type": "code",
      "metadata": {
        "colab": {
          "base_uri": "https://localhost:8080/"
        },
        "id": "FdhNr2sfjIbm",
        "outputId": "6600f8e4-89ba-48bc-f579-60a12692dfcb"
      },
      "source": [
        "print(f\"resample train size: {train_x_resample.shape}, \\nresample validation size: {val_x_resample.shape}, \\nresample test size: {test_x_resample.shape}\")"
      ],
      "execution_count": 16,
      "outputs": [
        {
          "output_type": "stream",
          "name": "stdout",
          "text": [
            "resample train size: (3594, 96), \n",
            "resample validation size: (1198, 96), \n",
            "resample test size: (1198, 96)\n"
          ]
        }
      ]
    },
    {
      "cell_type": "code",
      "metadata": {
        "id": "q9Lq043-jXKq"
      },
      "source": [
        "import numpy as np\n",
        "from collections import Counter"
      ],
      "execution_count": 17,
      "outputs": []
    },
    {
      "cell_type": "code",
      "metadata": {
        "colab": {
          "base_uri": "https://localhost:8080/"
        },
        "id": "16b7zkkajZst",
        "outputId": "c11b5248-2282-4e17-d9e5-ce63608c38ab"
      },
      "source": [
        "print(f\"resample train size, positive vs negative: {Counter(train_y_resample)}\\nresample validation size, positive vs negative: {Counter(val_y_resample)}\\nresample test size: {Counter(val_y_resample)}\")"
      ],
      "execution_count": 18,
      "outputs": [
        {
          "output_type": "stream",
          "name": "stdout",
          "text": [
            "resample train size, positive vs negative: Counter({0: 1797, 1: 1797})\n",
            "resample validation size, positive vs negative: Counter({0: 599, 1: 599})\n",
            "resample test size: Counter({0: 599, 1: 599})\n"
          ]
        }
      ]
    },
    {
      "cell_type": "markdown",
      "metadata": {
        "id": "nBjX0xGVj4ar"
      },
      "source": [
        "### Model"
      ]
    },
    {
      "cell_type": "code",
      "metadata": {
        "id": "9A4GMm5mkJQE"
      },
      "source": [
        "from sklearn.ensemble import RandomForestClassifier\n",
        "from sklearn.metrics import accuracy_score, precision_score, recall_score, f1_score, roc_auc_score, confusion_matrix\n",
        "from sklearn.metrics import precision_recall_curve, PrecisionRecallDisplay\n",
        "import matplotlib.pyplot as plt\n",
        "from sklearn.model_selection import GridSearchCV"
      ],
      "execution_count": 19,
      "outputs": []
    },
    {
      "cell_type": "markdown",
      "metadata": {
        "id": "M7d1uOufj-ZK"
      },
      "source": [
        "### Confusion Matrix"
      ]
    },
    {
      "cell_type": "code",
      "metadata": {
        "id": "IZQhLIvoj5Ya"
      },
      "source": [
        "import seaborn as sns\n",
        "def plot_confusion(y_pred, y_true):\n",
        "    conf = confusion_matrix(y_true, y_pred)\n",
        "    acc = accuracy_score(y_true, y_pred)\n",
        "    print()\n",
        "    print(f'Accuracy: {acc}')\n",
        "    sns.heatmap(conf,\n",
        "                cmap='Blues',\n",
        "                cbar=False,\n",
        "                annot=True,\n",
        "                fmt='g',\n",
        "                xticklabels=['False', 'True'],\n",
        "                yticklabels=['False', 'True'],\n",
        "                annot_kws={\"size\": 20}\n",
        "                )\n",
        "    plt.xlabel(\"Predicted Label\")\n",
        "    plt.ylabel(\"True Label\")\n",
        "    plt.show()"
      ],
      "execution_count": 20,
      "outputs": []
    },
    {
      "cell_type": "code",
      "metadata": {
        "colab": {
          "base_uri": "https://localhost:8080/",
          "height": 430
        },
        "id": "KhXU83-fkARZ",
        "outputId": "3972cf60-d454-4e18-94a0-dd4fb6bbe7cc"
      },
      "source": [
        "# Hyper-paramater Tuning\n",
        "parameters = {'max_depth':[2, 3, 5, 10, 20, 50], \n",
        "              'n_estimators':[10,50, 100,200], \n",
        "             'min_samples_leaf':[1,2,3]}\n",
        "rf_clf = GridSearchCV(RandomForestClassifier(n_jobs=-1), parameters, cv=5)\n",
        "rf_clf.fit(train_x, train_y)"
      ],
      "execution_count": 21,
      "outputs": [
        {
          "output_type": "error",
          "ename": "KeyboardInterrupt",
          "evalue": "ignored",
          "traceback": [
            "\u001b[0;31m---------------------------------------------------------------------------\u001b[0m",
            "\u001b[0;31mKeyboardInterrupt\u001b[0m                         Traceback (most recent call last)",
            "\u001b[0;32m<ipython-input-21-0f5c18078828>\u001b[0m in \u001b[0;36m<module>\u001b[0;34m()\u001b[0m\n\u001b[0;32m----> 1\u001b[0;31m \u001b[0mget_ipython\u001b[0m\u001b[0;34m(\u001b[0m\u001b[0;34m)\u001b[0m\u001b[0;34m.\u001b[0m\u001b[0mrun_cell_magic\u001b[0m\u001b[0;34m(\u001b[0m\u001b[0;34m'time'\u001b[0m\u001b[0;34m,\u001b[0m \u001b[0;34m''\u001b[0m\u001b[0;34m,\u001b[0m \u001b[0;34m\"#rf_clf = RandomForestClassifier().fit(train_x, train_y)\\nparameters = {'max_depth':[2, 3, 5, 10, 20, 50], \\n              'n_estimators':[10,50, 100,200], \\n             'min_samples_leaf':[1,2,3]}\\nrf_clf = GridSearchCV(RandomForestClassifier(n_jobs=-1), parameters, cv=5)\\nrf_clf.fit(train_x, train_y)\"\u001b[0m\u001b[0;34m)\u001b[0m\u001b[0;34m\u001b[0m\u001b[0;34m\u001b[0m\u001b[0m\n\u001b[0m",
            "\u001b[0;32m/usr/local/lib/python3.7/dist-packages/IPython/core/interactiveshell.py\u001b[0m in \u001b[0;36mrun_cell_magic\u001b[0;34m(self, magic_name, line, cell)\u001b[0m\n\u001b[1;32m   2115\u001b[0m             \u001b[0mmagic_arg_s\u001b[0m \u001b[0;34m=\u001b[0m \u001b[0mself\u001b[0m\u001b[0;34m.\u001b[0m\u001b[0mvar_expand\u001b[0m\u001b[0;34m(\u001b[0m\u001b[0mline\u001b[0m\u001b[0;34m,\u001b[0m \u001b[0mstack_depth\u001b[0m\u001b[0;34m)\u001b[0m\u001b[0;34m\u001b[0m\u001b[0;34m\u001b[0m\u001b[0m\n\u001b[1;32m   2116\u001b[0m             \u001b[0;32mwith\u001b[0m \u001b[0mself\u001b[0m\u001b[0;34m.\u001b[0m\u001b[0mbuiltin_trap\u001b[0m\u001b[0;34m:\u001b[0m\u001b[0;34m\u001b[0m\u001b[0;34m\u001b[0m\u001b[0m\n\u001b[0;32m-> 2117\u001b[0;31m                 \u001b[0mresult\u001b[0m \u001b[0;34m=\u001b[0m \u001b[0mfn\u001b[0m\u001b[0;34m(\u001b[0m\u001b[0mmagic_arg_s\u001b[0m\u001b[0;34m,\u001b[0m \u001b[0mcell\u001b[0m\u001b[0;34m)\u001b[0m\u001b[0;34m\u001b[0m\u001b[0;34m\u001b[0m\u001b[0m\n\u001b[0m\u001b[1;32m   2118\u001b[0m             \u001b[0;32mreturn\u001b[0m \u001b[0mresult\u001b[0m\u001b[0;34m\u001b[0m\u001b[0;34m\u001b[0m\u001b[0m\n\u001b[1;32m   2119\u001b[0m \u001b[0;34m\u001b[0m\u001b[0m\n",
            "\u001b[0;32m<decorator-gen-53>\u001b[0m in \u001b[0;36mtime\u001b[0;34m(self, line, cell, local_ns)\u001b[0m\n",
            "\u001b[0;32m/usr/local/lib/python3.7/dist-packages/IPython/core/magic.py\u001b[0m in \u001b[0;36m<lambda>\u001b[0;34m(f, *a, **k)\u001b[0m\n\u001b[1;32m    186\u001b[0m     \u001b[0;31m# but it's overkill for just that one bit of state.\u001b[0m\u001b[0;34m\u001b[0m\u001b[0;34m\u001b[0m\u001b[0;34m\u001b[0m\u001b[0m\n\u001b[1;32m    187\u001b[0m     \u001b[0;32mdef\u001b[0m \u001b[0mmagic_deco\u001b[0m\u001b[0;34m(\u001b[0m\u001b[0marg\u001b[0m\u001b[0;34m)\u001b[0m\u001b[0;34m:\u001b[0m\u001b[0;34m\u001b[0m\u001b[0;34m\u001b[0m\u001b[0m\n\u001b[0;32m--> 188\u001b[0;31m         \u001b[0mcall\u001b[0m \u001b[0;34m=\u001b[0m \u001b[0;32mlambda\u001b[0m \u001b[0mf\u001b[0m\u001b[0;34m,\u001b[0m \u001b[0;34m*\u001b[0m\u001b[0ma\u001b[0m\u001b[0;34m,\u001b[0m \u001b[0;34m**\u001b[0m\u001b[0mk\u001b[0m\u001b[0;34m:\u001b[0m \u001b[0mf\u001b[0m\u001b[0;34m(\u001b[0m\u001b[0;34m*\u001b[0m\u001b[0ma\u001b[0m\u001b[0;34m,\u001b[0m \u001b[0;34m**\u001b[0m\u001b[0mk\u001b[0m\u001b[0;34m)\u001b[0m\u001b[0;34m\u001b[0m\u001b[0;34m\u001b[0m\u001b[0m\n\u001b[0m\u001b[1;32m    189\u001b[0m \u001b[0;34m\u001b[0m\u001b[0m\n\u001b[1;32m    190\u001b[0m         \u001b[0;32mif\u001b[0m \u001b[0mcallable\u001b[0m\u001b[0;34m(\u001b[0m\u001b[0marg\u001b[0m\u001b[0;34m)\u001b[0m\u001b[0;34m:\u001b[0m\u001b[0;34m\u001b[0m\u001b[0;34m\u001b[0m\u001b[0m\n",
            "\u001b[0;32m/usr/local/lib/python3.7/dist-packages/IPython/core/magics/execution.py\u001b[0m in \u001b[0;36mtime\u001b[0;34m(self, line, cell, local_ns)\u001b[0m\n\u001b[1;32m   1191\u001b[0m         \u001b[0;32melse\u001b[0m\u001b[0;34m:\u001b[0m\u001b[0;34m\u001b[0m\u001b[0;34m\u001b[0m\u001b[0m\n\u001b[1;32m   1192\u001b[0m             \u001b[0mst\u001b[0m \u001b[0;34m=\u001b[0m \u001b[0mclock2\u001b[0m\u001b[0;34m(\u001b[0m\u001b[0;34m)\u001b[0m\u001b[0;34m\u001b[0m\u001b[0;34m\u001b[0m\u001b[0m\n\u001b[0;32m-> 1193\u001b[0;31m             \u001b[0mexec\u001b[0m\u001b[0;34m(\u001b[0m\u001b[0mcode\u001b[0m\u001b[0;34m,\u001b[0m \u001b[0mglob\u001b[0m\u001b[0;34m,\u001b[0m \u001b[0mlocal_ns\u001b[0m\u001b[0;34m)\u001b[0m\u001b[0;34m\u001b[0m\u001b[0;34m\u001b[0m\u001b[0m\n\u001b[0m\u001b[1;32m   1194\u001b[0m             \u001b[0mend\u001b[0m \u001b[0;34m=\u001b[0m \u001b[0mclock2\u001b[0m\u001b[0;34m(\u001b[0m\u001b[0;34m)\u001b[0m\u001b[0;34m\u001b[0m\u001b[0;34m\u001b[0m\u001b[0m\n\u001b[1;32m   1195\u001b[0m             \u001b[0mout\u001b[0m \u001b[0;34m=\u001b[0m \u001b[0;32mNone\u001b[0m\u001b[0;34m\u001b[0m\u001b[0;34m\u001b[0m\u001b[0m\n",
            "\u001b[0;32m<timed exec>\u001b[0m in \u001b[0;36m<module>\u001b[0;34m()\u001b[0m\n",
            "\u001b[0;32m/usr/local/lib/python3.7/dist-packages/sklearn/model_selection/_search.py\u001b[0m in \u001b[0;36mfit\u001b[0;34m(self, X, y, groups, **fit_params)\u001b[0m\n\u001b[1;32m    889\u001b[0m                 \u001b[0;32mreturn\u001b[0m \u001b[0mresults\u001b[0m\u001b[0;34m\u001b[0m\u001b[0;34m\u001b[0m\u001b[0m\n\u001b[1;32m    890\u001b[0m \u001b[0;34m\u001b[0m\u001b[0m\n\u001b[0;32m--> 891\u001b[0;31m             \u001b[0mself\u001b[0m\u001b[0;34m.\u001b[0m\u001b[0m_run_search\u001b[0m\u001b[0;34m(\u001b[0m\u001b[0mevaluate_candidates\u001b[0m\u001b[0;34m)\u001b[0m\u001b[0;34m\u001b[0m\u001b[0;34m\u001b[0m\u001b[0m\n\u001b[0m\u001b[1;32m    892\u001b[0m \u001b[0;34m\u001b[0m\u001b[0m\n\u001b[1;32m    893\u001b[0m             \u001b[0;31m# multimetric is determined here because in the case of a callable\u001b[0m\u001b[0;34m\u001b[0m\u001b[0;34m\u001b[0m\u001b[0;34m\u001b[0m\u001b[0m\n",
            "\u001b[0;32m/usr/local/lib/python3.7/dist-packages/sklearn/model_selection/_search.py\u001b[0m in \u001b[0;36m_run_search\u001b[0;34m(self, evaluate_candidates)\u001b[0m\n\u001b[1;32m   1390\u001b[0m     \u001b[0;32mdef\u001b[0m \u001b[0m_run_search\u001b[0m\u001b[0;34m(\u001b[0m\u001b[0mself\u001b[0m\u001b[0;34m,\u001b[0m \u001b[0mevaluate_candidates\u001b[0m\u001b[0;34m)\u001b[0m\u001b[0;34m:\u001b[0m\u001b[0;34m\u001b[0m\u001b[0;34m\u001b[0m\u001b[0m\n\u001b[1;32m   1391\u001b[0m         \u001b[0;34m\"\"\"Search all candidates in param_grid\"\"\"\u001b[0m\u001b[0;34m\u001b[0m\u001b[0;34m\u001b[0m\u001b[0m\n\u001b[0;32m-> 1392\u001b[0;31m         \u001b[0mevaluate_candidates\u001b[0m\u001b[0;34m(\u001b[0m\u001b[0mParameterGrid\u001b[0m\u001b[0;34m(\u001b[0m\u001b[0mself\u001b[0m\u001b[0;34m.\u001b[0m\u001b[0mparam_grid\u001b[0m\u001b[0;34m)\u001b[0m\u001b[0;34m)\u001b[0m\u001b[0;34m\u001b[0m\u001b[0;34m\u001b[0m\u001b[0m\n\u001b[0m\u001b[1;32m   1393\u001b[0m \u001b[0;34m\u001b[0m\u001b[0m\n\u001b[1;32m   1394\u001b[0m \u001b[0;34m\u001b[0m\u001b[0m\n",
            "\u001b[0;32m/usr/local/lib/python3.7/dist-packages/sklearn/model_selection/_search.py\u001b[0m in \u001b[0;36mevaluate_candidates\u001b[0;34m(candidate_params, cv, more_results)\u001b[0m\n\u001b[1;32m    849\u001b[0m                     )\n\u001b[1;32m    850\u001b[0m                     for (cand_idx, parameters), (split_idx, (train, test)) in product(\n\u001b[0;32m--> 851\u001b[0;31m                         \u001b[0menumerate\u001b[0m\u001b[0;34m(\u001b[0m\u001b[0mcandidate_params\u001b[0m\u001b[0;34m)\u001b[0m\u001b[0;34m,\u001b[0m \u001b[0menumerate\u001b[0m\u001b[0;34m(\u001b[0m\u001b[0mcv\u001b[0m\u001b[0;34m.\u001b[0m\u001b[0msplit\u001b[0m\u001b[0;34m(\u001b[0m\u001b[0mX\u001b[0m\u001b[0;34m,\u001b[0m \u001b[0my\u001b[0m\u001b[0;34m,\u001b[0m \u001b[0mgroups\u001b[0m\u001b[0;34m)\u001b[0m\u001b[0;34m)\u001b[0m\u001b[0;34m\u001b[0m\u001b[0;34m\u001b[0m\u001b[0m\n\u001b[0m\u001b[1;32m    852\u001b[0m                     )\n\u001b[1;32m    853\u001b[0m                 )\n",
            "\u001b[0;32m/usr/local/lib/python3.7/dist-packages/joblib/parallel.py\u001b[0m in \u001b[0;36m__call__\u001b[0;34m(self, iterable)\u001b[0m\n\u001b[1;32m   1044\u001b[0m                 \u001b[0mself\u001b[0m\u001b[0;34m.\u001b[0m\u001b[0m_iterating\u001b[0m \u001b[0;34m=\u001b[0m \u001b[0mself\u001b[0m\u001b[0;34m.\u001b[0m\u001b[0m_original_iterator\u001b[0m \u001b[0;32mis\u001b[0m \u001b[0;32mnot\u001b[0m \u001b[0;32mNone\u001b[0m\u001b[0;34m\u001b[0m\u001b[0;34m\u001b[0m\u001b[0m\n\u001b[1;32m   1045\u001b[0m \u001b[0;34m\u001b[0m\u001b[0m\n\u001b[0;32m-> 1046\u001b[0;31m             \u001b[0;32mwhile\u001b[0m \u001b[0mself\u001b[0m\u001b[0;34m.\u001b[0m\u001b[0mdispatch_one_batch\u001b[0m\u001b[0;34m(\u001b[0m\u001b[0miterator\u001b[0m\u001b[0;34m)\u001b[0m\u001b[0;34m:\u001b[0m\u001b[0;34m\u001b[0m\u001b[0;34m\u001b[0m\u001b[0m\n\u001b[0m\u001b[1;32m   1047\u001b[0m                 \u001b[0;32mpass\u001b[0m\u001b[0;34m\u001b[0m\u001b[0;34m\u001b[0m\u001b[0m\n\u001b[1;32m   1048\u001b[0m \u001b[0;34m\u001b[0m\u001b[0m\n",
            "\u001b[0;32m/usr/local/lib/python3.7/dist-packages/joblib/parallel.py\u001b[0m in \u001b[0;36mdispatch_one_batch\u001b[0;34m(self, iterator)\u001b[0m\n\u001b[1;32m    859\u001b[0m                 \u001b[0;32mreturn\u001b[0m \u001b[0;32mFalse\u001b[0m\u001b[0;34m\u001b[0m\u001b[0;34m\u001b[0m\u001b[0m\n\u001b[1;32m    860\u001b[0m             \u001b[0;32melse\u001b[0m\u001b[0;34m:\u001b[0m\u001b[0;34m\u001b[0m\u001b[0;34m\u001b[0m\u001b[0m\n\u001b[0;32m--> 861\u001b[0;31m                 \u001b[0mself\u001b[0m\u001b[0;34m.\u001b[0m\u001b[0m_dispatch\u001b[0m\u001b[0;34m(\u001b[0m\u001b[0mtasks\u001b[0m\u001b[0;34m)\u001b[0m\u001b[0;34m\u001b[0m\u001b[0;34m\u001b[0m\u001b[0m\n\u001b[0m\u001b[1;32m    862\u001b[0m                 \u001b[0;32mreturn\u001b[0m \u001b[0;32mTrue\u001b[0m\u001b[0;34m\u001b[0m\u001b[0;34m\u001b[0m\u001b[0m\n\u001b[1;32m    863\u001b[0m \u001b[0;34m\u001b[0m\u001b[0m\n",
            "\u001b[0;32m/usr/local/lib/python3.7/dist-packages/joblib/parallel.py\u001b[0m in \u001b[0;36m_dispatch\u001b[0;34m(self, batch)\u001b[0m\n\u001b[1;32m    777\u001b[0m         \u001b[0;32mwith\u001b[0m \u001b[0mself\u001b[0m\u001b[0;34m.\u001b[0m\u001b[0m_lock\u001b[0m\u001b[0;34m:\u001b[0m\u001b[0;34m\u001b[0m\u001b[0;34m\u001b[0m\u001b[0m\n\u001b[1;32m    778\u001b[0m             \u001b[0mjob_idx\u001b[0m \u001b[0;34m=\u001b[0m \u001b[0mlen\u001b[0m\u001b[0;34m(\u001b[0m\u001b[0mself\u001b[0m\u001b[0;34m.\u001b[0m\u001b[0m_jobs\u001b[0m\u001b[0;34m)\u001b[0m\u001b[0;34m\u001b[0m\u001b[0;34m\u001b[0m\u001b[0m\n\u001b[0;32m--> 779\u001b[0;31m             \u001b[0mjob\u001b[0m \u001b[0;34m=\u001b[0m \u001b[0mself\u001b[0m\u001b[0;34m.\u001b[0m\u001b[0m_backend\u001b[0m\u001b[0;34m.\u001b[0m\u001b[0mapply_async\u001b[0m\u001b[0;34m(\u001b[0m\u001b[0mbatch\u001b[0m\u001b[0;34m,\u001b[0m \u001b[0mcallback\u001b[0m\u001b[0;34m=\u001b[0m\u001b[0mcb\u001b[0m\u001b[0;34m)\u001b[0m\u001b[0;34m\u001b[0m\u001b[0;34m\u001b[0m\u001b[0m\n\u001b[0m\u001b[1;32m    780\u001b[0m             \u001b[0;31m# A job can complete so quickly than its callback is\u001b[0m\u001b[0;34m\u001b[0m\u001b[0;34m\u001b[0m\u001b[0;34m\u001b[0m\u001b[0m\n\u001b[1;32m    781\u001b[0m             \u001b[0;31m# called before we get here, causing self._jobs to\u001b[0m\u001b[0;34m\u001b[0m\u001b[0;34m\u001b[0m\u001b[0;34m\u001b[0m\u001b[0m\n",
            "\u001b[0;32m/usr/local/lib/python3.7/dist-packages/joblib/_parallel_backends.py\u001b[0m in \u001b[0;36mapply_async\u001b[0;34m(self, func, callback)\u001b[0m\n\u001b[1;32m    206\u001b[0m     \u001b[0;32mdef\u001b[0m \u001b[0mapply_async\u001b[0m\u001b[0;34m(\u001b[0m\u001b[0mself\u001b[0m\u001b[0;34m,\u001b[0m \u001b[0mfunc\u001b[0m\u001b[0;34m,\u001b[0m \u001b[0mcallback\u001b[0m\u001b[0;34m=\u001b[0m\u001b[0;32mNone\u001b[0m\u001b[0;34m)\u001b[0m\u001b[0;34m:\u001b[0m\u001b[0;34m\u001b[0m\u001b[0;34m\u001b[0m\u001b[0m\n\u001b[1;32m    207\u001b[0m         \u001b[0;34m\"\"\"Schedule a func to be run\"\"\"\u001b[0m\u001b[0;34m\u001b[0m\u001b[0;34m\u001b[0m\u001b[0m\n\u001b[0;32m--> 208\u001b[0;31m         \u001b[0mresult\u001b[0m \u001b[0;34m=\u001b[0m \u001b[0mImmediateResult\u001b[0m\u001b[0;34m(\u001b[0m\u001b[0mfunc\u001b[0m\u001b[0;34m)\u001b[0m\u001b[0;34m\u001b[0m\u001b[0;34m\u001b[0m\u001b[0m\n\u001b[0m\u001b[1;32m    209\u001b[0m         \u001b[0;32mif\u001b[0m \u001b[0mcallback\u001b[0m\u001b[0;34m:\u001b[0m\u001b[0;34m\u001b[0m\u001b[0;34m\u001b[0m\u001b[0m\n\u001b[1;32m    210\u001b[0m             \u001b[0mcallback\u001b[0m\u001b[0;34m(\u001b[0m\u001b[0mresult\u001b[0m\u001b[0;34m)\u001b[0m\u001b[0;34m\u001b[0m\u001b[0;34m\u001b[0m\u001b[0m\n",
            "\u001b[0;32m/usr/local/lib/python3.7/dist-packages/joblib/_parallel_backends.py\u001b[0m in \u001b[0;36m__init__\u001b[0;34m(self, batch)\u001b[0m\n\u001b[1;32m    570\u001b[0m         \u001b[0;31m# Don't delay the application, to avoid keeping the input\u001b[0m\u001b[0;34m\u001b[0m\u001b[0;34m\u001b[0m\u001b[0;34m\u001b[0m\u001b[0m\n\u001b[1;32m    571\u001b[0m         \u001b[0;31m# arguments in memory\u001b[0m\u001b[0;34m\u001b[0m\u001b[0;34m\u001b[0m\u001b[0;34m\u001b[0m\u001b[0m\n\u001b[0;32m--> 572\u001b[0;31m         \u001b[0mself\u001b[0m\u001b[0;34m.\u001b[0m\u001b[0mresults\u001b[0m \u001b[0;34m=\u001b[0m \u001b[0mbatch\u001b[0m\u001b[0;34m(\u001b[0m\u001b[0;34m)\u001b[0m\u001b[0;34m\u001b[0m\u001b[0;34m\u001b[0m\u001b[0m\n\u001b[0m\u001b[1;32m    573\u001b[0m \u001b[0;34m\u001b[0m\u001b[0m\n\u001b[1;32m    574\u001b[0m     \u001b[0;32mdef\u001b[0m \u001b[0mget\u001b[0m\u001b[0;34m(\u001b[0m\u001b[0mself\u001b[0m\u001b[0;34m)\u001b[0m\u001b[0;34m:\u001b[0m\u001b[0;34m\u001b[0m\u001b[0;34m\u001b[0m\u001b[0m\n",
            "\u001b[0;32m/usr/local/lib/python3.7/dist-packages/joblib/parallel.py\u001b[0m in \u001b[0;36m__call__\u001b[0;34m(self)\u001b[0m\n\u001b[1;32m    261\u001b[0m         \u001b[0;32mwith\u001b[0m \u001b[0mparallel_backend\u001b[0m\u001b[0;34m(\u001b[0m\u001b[0mself\u001b[0m\u001b[0;34m.\u001b[0m\u001b[0m_backend\u001b[0m\u001b[0;34m,\u001b[0m \u001b[0mn_jobs\u001b[0m\u001b[0;34m=\u001b[0m\u001b[0mself\u001b[0m\u001b[0;34m.\u001b[0m\u001b[0m_n_jobs\u001b[0m\u001b[0;34m)\u001b[0m\u001b[0;34m:\u001b[0m\u001b[0;34m\u001b[0m\u001b[0;34m\u001b[0m\u001b[0m\n\u001b[1;32m    262\u001b[0m             return [func(*args, **kwargs)\n\u001b[0;32m--> 263\u001b[0;31m                     for func, args, kwargs in self.items]\n\u001b[0m\u001b[1;32m    264\u001b[0m \u001b[0;34m\u001b[0m\u001b[0m\n\u001b[1;32m    265\u001b[0m     \u001b[0;32mdef\u001b[0m \u001b[0m__reduce__\u001b[0m\u001b[0;34m(\u001b[0m\u001b[0mself\u001b[0m\u001b[0;34m)\u001b[0m\u001b[0;34m:\u001b[0m\u001b[0;34m\u001b[0m\u001b[0;34m\u001b[0m\u001b[0m\n",
            "\u001b[0;32m/usr/local/lib/python3.7/dist-packages/joblib/parallel.py\u001b[0m in \u001b[0;36m<listcomp>\u001b[0;34m(.0)\u001b[0m\n\u001b[1;32m    261\u001b[0m         \u001b[0;32mwith\u001b[0m \u001b[0mparallel_backend\u001b[0m\u001b[0;34m(\u001b[0m\u001b[0mself\u001b[0m\u001b[0;34m.\u001b[0m\u001b[0m_backend\u001b[0m\u001b[0;34m,\u001b[0m \u001b[0mn_jobs\u001b[0m\u001b[0;34m=\u001b[0m\u001b[0mself\u001b[0m\u001b[0;34m.\u001b[0m\u001b[0m_n_jobs\u001b[0m\u001b[0;34m)\u001b[0m\u001b[0;34m:\u001b[0m\u001b[0;34m\u001b[0m\u001b[0;34m\u001b[0m\u001b[0m\n\u001b[1;32m    262\u001b[0m             return [func(*args, **kwargs)\n\u001b[0;32m--> 263\u001b[0;31m                     for func, args, kwargs in self.items]\n\u001b[0m\u001b[1;32m    264\u001b[0m \u001b[0;34m\u001b[0m\u001b[0m\n\u001b[1;32m    265\u001b[0m     \u001b[0;32mdef\u001b[0m \u001b[0m__reduce__\u001b[0m\u001b[0;34m(\u001b[0m\u001b[0mself\u001b[0m\u001b[0;34m)\u001b[0m\u001b[0;34m:\u001b[0m\u001b[0;34m\u001b[0m\u001b[0;34m\u001b[0m\u001b[0m\n",
            "\u001b[0;32m/usr/local/lib/python3.7/dist-packages/sklearn/utils/fixes.py\u001b[0m in \u001b[0;36m__call__\u001b[0;34m(self, *args, **kwargs)\u001b[0m\n\u001b[1;32m    209\u001b[0m     \u001b[0;32mdef\u001b[0m \u001b[0m__call__\u001b[0m\u001b[0;34m(\u001b[0m\u001b[0mself\u001b[0m\u001b[0;34m,\u001b[0m \u001b[0;34m*\u001b[0m\u001b[0margs\u001b[0m\u001b[0;34m,\u001b[0m \u001b[0;34m**\u001b[0m\u001b[0mkwargs\u001b[0m\u001b[0;34m)\u001b[0m\u001b[0;34m:\u001b[0m\u001b[0;34m\u001b[0m\u001b[0;34m\u001b[0m\u001b[0m\n\u001b[1;32m    210\u001b[0m         \u001b[0;32mwith\u001b[0m \u001b[0mconfig_context\u001b[0m\u001b[0;34m(\u001b[0m\u001b[0;34m**\u001b[0m\u001b[0mself\u001b[0m\u001b[0;34m.\u001b[0m\u001b[0mconfig\u001b[0m\u001b[0;34m)\u001b[0m\u001b[0;34m:\u001b[0m\u001b[0;34m\u001b[0m\u001b[0;34m\u001b[0m\u001b[0m\n\u001b[0;32m--> 211\u001b[0;31m             \u001b[0;32mreturn\u001b[0m \u001b[0mself\u001b[0m\u001b[0;34m.\u001b[0m\u001b[0mfunction\u001b[0m\u001b[0;34m(\u001b[0m\u001b[0;34m*\u001b[0m\u001b[0margs\u001b[0m\u001b[0;34m,\u001b[0m \u001b[0;34m**\u001b[0m\u001b[0mkwargs\u001b[0m\u001b[0;34m)\u001b[0m\u001b[0;34m\u001b[0m\u001b[0;34m\u001b[0m\u001b[0m\n\u001b[0m\u001b[1;32m    212\u001b[0m \u001b[0;34m\u001b[0m\u001b[0m\n\u001b[1;32m    213\u001b[0m \u001b[0;34m\u001b[0m\u001b[0m\n",
            "\u001b[0;32m/usr/local/lib/python3.7/dist-packages/sklearn/model_selection/_validation.py\u001b[0m in \u001b[0;36m_fit_and_score\u001b[0;34m(estimator, X, y, scorer, train, test, verbose, parameters, fit_params, return_train_score, return_parameters, return_n_test_samples, return_times, return_estimator, split_progress, candidate_progress, error_score)\u001b[0m\n\u001b[1;32m    679\u001b[0m             \u001b[0mestimator\u001b[0m\u001b[0;34m.\u001b[0m\u001b[0mfit\u001b[0m\u001b[0;34m(\u001b[0m\u001b[0mX_train\u001b[0m\u001b[0;34m,\u001b[0m \u001b[0;34m**\u001b[0m\u001b[0mfit_params\u001b[0m\u001b[0;34m)\u001b[0m\u001b[0;34m\u001b[0m\u001b[0;34m\u001b[0m\u001b[0m\n\u001b[1;32m    680\u001b[0m         \u001b[0;32melse\u001b[0m\u001b[0;34m:\u001b[0m\u001b[0;34m\u001b[0m\u001b[0;34m\u001b[0m\u001b[0m\n\u001b[0;32m--> 681\u001b[0;31m             \u001b[0mestimator\u001b[0m\u001b[0;34m.\u001b[0m\u001b[0mfit\u001b[0m\u001b[0;34m(\u001b[0m\u001b[0mX_train\u001b[0m\u001b[0;34m,\u001b[0m \u001b[0my_train\u001b[0m\u001b[0;34m,\u001b[0m \u001b[0;34m**\u001b[0m\u001b[0mfit_params\u001b[0m\u001b[0;34m)\u001b[0m\u001b[0;34m\u001b[0m\u001b[0;34m\u001b[0m\u001b[0m\n\u001b[0m\u001b[1;32m    682\u001b[0m \u001b[0;34m\u001b[0m\u001b[0m\n\u001b[1;32m    683\u001b[0m     \u001b[0;32mexcept\u001b[0m \u001b[0mException\u001b[0m\u001b[0;34m:\u001b[0m\u001b[0;34m\u001b[0m\u001b[0;34m\u001b[0m\u001b[0m\n",
            "\u001b[0;32m/usr/local/lib/python3.7/dist-packages/sklearn/ensemble/_forest.py\u001b[0m in \u001b[0;36mfit\u001b[0;34m(self, X, y, sample_weight)\u001b[0m\n\u001b[1;32m    457\u001b[0m                     \u001b[0mn_samples_bootstrap\u001b[0m\u001b[0;34m=\u001b[0m\u001b[0mn_samples_bootstrap\u001b[0m\u001b[0;34m,\u001b[0m\u001b[0;34m\u001b[0m\u001b[0;34m\u001b[0m\u001b[0m\n\u001b[1;32m    458\u001b[0m                 )\n\u001b[0;32m--> 459\u001b[0;31m                 \u001b[0;32mfor\u001b[0m \u001b[0mi\u001b[0m\u001b[0;34m,\u001b[0m \u001b[0mt\u001b[0m \u001b[0;32min\u001b[0m \u001b[0menumerate\u001b[0m\u001b[0;34m(\u001b[0m\u001b[0mtrees\u001b[0m\u001b[0;34m)\u001b[0m\u001b[0;34m\u001b[0m\u001b[0;34m\u001b[0m\u001b[0m\n\u001b[0m\u001b[1;32m    460\u001b[0m             )\n\u001b[1;32m    461\u001b[0m \u001b[0;34m\u001b[0m\u001b[0m\n",
            "\u001b[0;32m/usr/local/lib/python3.7/dist-packages/joblib/parallel.py\u001b[0m in \u001b[0;36m__call__\u001b[0;34m(self, iterable)\u001b[0m\n\u001b[1;32m   1054\u001b[0m \u001b[0;34m\u001b[0m\u001b[0m\n\u001b[1;32m   1055\u001b[0m             \u001b[0;32mwith\u001b[0m \u001b[0mself\u001b[0m\u001b[0;34m.\u001b[0m\u001b[0m_backend\u001b[0m\u001b[0;34m.\u001b[0m\u001b[0mretrieval_context\u001b[0m\u001b[0;34m(\u001b[0m\u001b[0;34m)\u001b[0m\u001b[0;34m:\u001b[0m\u001b[0;34m\u001b[0m\u001b[0;34m\u001b[0m\u001b[0m\n\u001b[0;32m-> 1056\u001b[0;31m                 \u001b[0mself\u001b[0m\u001b[0;34m.\u001b[0m\u001b[0mretrieve\u001b[0m\u001b[0;34m(\u001b[0m\u001b[0;34m)\u001b[0m\u001b[0;34m\u001b[0m\u001b[0;34m\u001b[0m\u001b[0m\n\u001b[0m\u001b[1;32m   1057\u001b[0m             \u001b[0;31m# Make sure that we get a last message telling us we are done\u001b[0m\u001b[0;34m\u001b[0m\u001b[0;34m\u001b[0m\u001b[0;34m\u001b[0m\u001b[0m\n\u001b[1;32m   1058\u001b[0m             \u001b[0melapsed_time\u001b[0m \u001b[0;34m=\u001b[0m \u001b[0mtime\u001b[0m\u001b[0;34m.\u001b[0m\u001b[0mtime\u001b[0m\u001b[0;34m(\u001b[0m\u001b[0;34m)\u001b[0m \u001b[0;34m-\u001b[0m \u001b[0mself\u001b[0m\u001b[0;34m.\u001b[0m\u001b[0m_start_time\u001b[0m\u001b[0;34m\u001b[0m\u001b[0;34m\u001b[0m\u001b[0m\n",
            "\u001b[0;32m/usr/local/lib/python3.7/dist-packages/joblib/parallel.py\u001b[0m in \u001b[0;36mretrieve\u001b[0;34m(self)\u001b[0m\n\u001b[1;32m    933\u001b[0m             \u001b[0;32mtry\u001b[0m\u001b[0;34m:\u001b[0m\u001b[0;34m\u001b[0m\u001b[0;34m\u001b[0m\u001b[0m\n\u001b[1;32m    934\u001b[0m                 \u001b[0;32mif\u001b[0m \u001b[0mgetattr\u001b[0m\u001b[0;34m(\u001b[0m\u001b[0mself\u001b[0m\u001b[0;34m.\u001b[0m\u001b[0m_backend\u001b[0m\u001b[0;34m,\u001b[0m \u001b[0;34m'supports_timeout'\u001b[0m\u001b[0;34m,\u001b[0m \u001b[0;32mFalse\u001b[0m\u001b[0;34m)\u001b[0m\u001b[0;34m:\u001b[0m\u001b[0;34m\u001b[0m\u001b[0;34m\u001b[0m\u001b[0m\n\u001b[0;32m--> 935\u001b[0;31m                     \u001b[0mself\u001b[0m\u001b[0;34m.\u001b[0m\u001b[0m_output\u001b[0m\u001b[0;34m.\u001b[0m\u001b[0mextend\u001b[0m\u001b[0;34m(\u001b[0m\u001b[0mjob\u001b[0m\u001b[0;34m.\u001b[0m\u001b[0mget\u001b[0m\u001b[0;34m(\u001b[0m\u001b[0mtimeout\u001b[0m\u001b[0;34m=\u001b[0m\u001b[0mself\u001b[0m\u001b[0;34m.\u001b[0m\u001b[0mtimeout\u001b[0m\u001b[0;34m)\u001b[0m\u001b[0;34m)\u001b[0m\u001b[0;34m\u001b[0m\u001b[0;34m\u001b[0m\u001b[0m\n\u001b[0m\u001b[1;32m    936\u001b[0m                 \u001b[0;32melse\u001b[0m\u001b[0;34m:\u001b[0m\u001b[0;34m\u001b[0m\u001b[0;34m\u001b[0m\u001b[0m\n\u001b[1;32m    937\u001b[0m                     \u001b[0mself\u001b[0m\u001b[0;34m.\u001b[0m\u001b[0m_output\u001b[0m\u001b[0;34m.\u001b[0m\u001b[0mextend\u001b[0m\u001b[0;34m(\u001b[0m\u001b[0mjob\u001b[0m\u001b[0;34m.\u001b[0m\u001b[0mget\u001b[0m\u001b[0;34m(\u001b[0m\u001b[0;34m)\u001b[0m\u001b[0;34m)\u001b[0m\u001b[0;34m\u001b[0m\u001b[0;34m\u001b[0m\u001b[0m\n",
            "\u001b[0;32m/usr/local/lib/python3.7/dist-packages/joblib/_parallel_backends.py\u001b[0m in \u001b[0;36mwrap_future_result\u001b[0;34m(future, timeout)\u001b[0m\n\u001b[1;32m    540\u001b[0m         AsyncResults.get from multiprocessing.\"\"\"\n\u001b[1;32m    541\u001b[0m         \u001b[0;32mtry\u001b[0m\u001b[0;34m:\u001b[0m\u001b[0;34m\u001b[0m\u001b[0;34m\u001b[0m\u001b[0m\n\u001b[0;32m--> 542\u001b[0;31m             \u001b[0;32mreturn\u001b[0m \u001b[0mfuture\u001b[0m\u001b[0;34m.\u001b[0m\u001b[0mresult\u001b[0m\u001b[0;34m(\u001b[0m\u001b[0mtimeout\u001b[0m\u001b[0;34m=\u001b[0m\u001b[0mtimeout\u001b[0m\u001b[0;34m)\u001b[0m\u001b[0;34m\u001b[0m\u001b[0;34m\u001b[0m\u001b[0m\n\u001b[0m\u001b[1;32m    543\u001b[0m         \u001b[0;32mexcept\u001b[0m \u001b[0mCfTimeoutError\u001b[0m \u001b[0;32mas\u001b[0m \u001b[0me\u001b[0m\u001b[0;34m:\u001b[0m\u001b[0;34m\u001b[0m\u001b[0;34m\u001b[0m\u001b[0m\n\u001b[1;32m    544\u001b[0m             \u001b[0;32mraise\u001b[0m \u001b[0mTimeoutError\u001b[0m \u001b[0;32mfrom\u001b[0m \u001b[0me\u001b[0m\u001b[0;34m\u001b[0m\u001b[0;34m\u001b[0m\u001b[0m\n",
            "\u001b[0;32m/usr/lib/python3.7/concurrent/futures/_base.py\u001b[0m in \u001b[0;36mresult\u001b[0;34m(self, timeout)\u001b[0m\n\u001b[1;32m    428\u001b[0m                 \u001b[0;32mreturn\u001b[0m \u001b[0mself\u001b[0m\u001b[0;34m.\u001b[0m\u001b[0m__get_result\u001b[0m\u001b[0;34m(\u001b[0m\u001b[0;34m)\u001b[0m\u001b[0;34m\u001b[0m\u001b[0;34m\u001b[0m\u001b[0m\n\u001b[1;32m    429\u001b[0m \u001b[0;34m\u001b[0m\u001b[0m\n\u001b[0;32m--> 430\u001b[0;31m             \u001b[0mself\u001b[0m\u001b[0;34m.\u001b[0m\u001b[0m_condition\u001b[0m\u001b[0;34m.\u001b[0m\u001b[0mwait\u001b[0m\u001b[0;34m(\u001b[0m\u001b[0mtimeout\u001b[0m\u001b[0;34m)\u001b[0m\u001b[0;34m\u001b[0m\u001b[0;34m\u001b[0m\u001b[0m\n\u001b[0m\u001b[1;32m    431\u001b[0m \u001b[0;34m\u001b[0m\u001b[0m\n\u001b[1;32m    432\u001b[0m             \u001b[0;32mif\u001b[0m \u001b[0mself\u001b[0m\u001b[0;34m.\u001b[0m\u001b[0m_state\u001b[0m \u001b[0;32min\u001b[0m \u001b[0;34m[\u001b[0m\u001b[0mCANCELLED\u001b[0m\u001b[0;34m,\u001b[0m \u001b[0mCANCELLED_AND_NOTIFIED\u001b[0m\u001b[0;34m]\u001b[0m\u001b[0;34m:\u001b[0m\u001b[0;34m\u001b[0m\u001b[0;34m\u001b[0m\u001b[0m\n",
            "\u001b[0;32m/usr/lib/python3.7/threading.py\u001b[0m in \u001b[0;36mwait\u001b[0;34m(self, timeout)\u001b[0m\n\u001b[1;32m    294\u001b[0m         \u001b[0;32mtry\u001b[0m\u001b[0;34m:\u001b[0m    \u001b[0;31m# restore state no matter what (e.g., KeyboardInterrupt)\u001b[0m\u001b[0;34m\u001b[0m\u001b[0;34m\u001b[0m\u001b[0m\n\u001b[1;32m    295\u001b[0m             \u001b[0;32mif\u001b[0m \u001b[0mtimeout\u001b[0m \u001b[0;32mis\u001b[0m \u001b[0;32mNone\u001b[0m\u001b[0;34m:\u001b[0m\u001b[0;34m\u001b[0m\u001b[0;34m\u001b[0m\u001b[0m\n\u001b[0;32m--> 296\u001b[0;31m                 \u001b[0mwaiter\u001b[0m\u001b[0;34m.\u001b[0m\u001b[0macquire\u001b[0m\u001b[0;34m(\u001b[0m\u001b[0;34m)\u001b[0m\u001b[0;34m\u001b[0m\u001b[0;34m\u001b[0m\u001b[0m\n\u001b[0m\u001b[1;32m    297\u001b[0m                 \u001b[0mgotit\u001b[0m \u001b[0;34m=\u001b[0m \u001b[0;32mTrue\u001b[0m\u001b[0;34m\u001b[0m\u001b[0;34m\u001b[0m\u001b[0m\n\u001b[1;32m    298\u001b[0m             \u001b[0;32melse\u001b[0m\u001b[0;34m:\u001b[0m\u001b[0;34m\u001b[0m\u001b[0;34m\u001b[0m\u001b[0m\n",
            "\u001b[0;31mKeyboardInterrupt\u001b[0m: "
          ]
        }
      ]
    },
    {
      "cell_type": "code",
      "metadata": {
        "id": "9JPl79t4HIIr",
        "outputId": "8584fe0d-3749-4428-a755-3d1af64ea5ca"
      },
      "source": [
        "rf_clf.best_params_"
      ],
      "execution_count": null,
      "outputs": [
        {
          "data": {
            "text/plain": [
              "{'max_depth': 50, 'min_samples_leaf': 2, 'n_estimators': 50}"
            ]
          },
          "execution_count": 76,
          "metadata": {},
          "output_type": "execute_result"
        }
      ]
    },
    {
      "cell_type": "code",
      "metadata": {
        "colab": {
          "base_uri": "https://localhost:8080/"
        },
        "id": "GxqTXZIWgzKQ",
        "outputId": "e0e89f58-7ec4-414b-bab5-2a2137d832e0"
      },
      "source": [
        "# Training\n",
        "%%time\n",
        "rf_clf = RandomForestClassifier(max_depth=50, min_samples_leaf=2, n_estimators=50).fit(train_x, train_y)"
      ],
      "execution_count": 21,
      "outputs": [
        {
          "output_type": "stream",
          "name": "stdout",
          "text": [
            "CPU times: user 35.5 s, sys: 47.4 ms, total: 35.5 s\n",
            "Wall time: 35.3 s\n"
          ]
        }
      ]
    },
    {
      "cell_type": "markdown",
      "metadata": {
        "id": "hyj2Huj8kZY-"
      },
      "source": [
        "### Evaluation"
      ]
    },
    {
      "cell_type": "code",
      "metadata": {
        "colab": {
          "base_uri": "https://localhost:8080/"
        },
        "id": "BekvbhjhkQtL",
        "outputId": "22ea5f4b-9a17-4f7c-ab31-2029a72e187a"
      },
      "source": [
        "# Positive Level\n",
        "print('RandomForest test acc is : ', accuracy_score(test_y, rf_clf.predict(test_x)))\n",
        "print('RandomForest test precision is : ', precision_score(test_y, rf_clf.predict(test_x), pos_label=1))\n",
        "print('RandomForest test recall is : ', recall_score(test_y, rf_clf.predict(test_x), pos_label=1))\n",
        "print('RandomForest test f1 is : ', f1_score(test_y, rf_clf.predict(test_x), pos_label=1))\n",
        "print('RandomForest test auc is : ', roc_auc_score(test_y, np.max(rf_clf.predict_proba(test_x),1)))"
      ],
      "execution_count": 22,
      "outputs": [
        {
          "output_type": "stream",
          "name": "stdout",
          "text": [
            "RandomForest test acc is :  0.9855670625174081\n",
            "RandomForest test precision is :  1.0\n",
            "RandomForest test recall is :  0.048414023372287146\n",
            "RandomForest test f1 is :  0.09235668789808917\n",
            "RandomForest test auc is :  0.1253532030424201\n"
          ]
        }
      ]
    },
    {
      "cell_type": "code",
      "metadata": {
        "colab": {
          "base_uri": "https://localhost:8080/"
        },
        "id": "3g9fd66AiFSU",
        "outputId": "4982b811-fcfb-46ca-c13d-d9afba329975"
      },
      "source": [
        "# Macro\n",
        "print('RandomForest test acc is : ', accuracy_score(test_y, rf_clf.predict(test_x)))\n",
        "print('RandomForest test precision is : ', precision_score(test_y, rf_clf.predict(test_x), pos_label=1, average ='macro'))\n",
        "print('RandomForest test recall is : ', recall_score(test_y, rf_clf.predict(test_x), pos_label=1, average ='macro'))\n",
        "print('RandomForest test f1 is : ', f1_score(test_y, rf_clf.predict(test_x), pos_label=1, average ='macro'))\n",
        "print('RandomForest test auc is : ', roc_auc_score(test_y, np.max(rf_clf.predict_proba(test_x),1)))"
      ],
      "execution_count": 23,
      "outputs": [
        {
          "output_type": "stream",
          "name": "stdout",
          "text": [
            "RandomForest test acc is :  0.9855670625174081\n",
            "RandomForest test precision is :  0.9927782282586661\n",
            "RandomForest test recall is :  0.5242070116861436\n",
            "RandomForest test f1 is :  0.5425411913928283\n",
            "RandomForest test auc is :  0.1253532030424201\n"
          ]
        }
      ]
    },
    {
      "cell_type": "code",
      "metadata": {
        "id": "_J_qyvZYkih-",
        "colab": {
          "base_uri": "https://localhost:8080/",
          "height": 541
        },
        "outputId": "c7668708-6394-4912-a8d9-3cf5beec0618"
      },
      "source": [
        "# Precesion-Recall curve & ROC curve \n",
        "from sklearn.metrics import precision_recall_curve\n",
        "from sklearn.metrics import PrecisionRecallDisplay\n",
        "from sklearn.metrics import roc_curve\n",
        "from sklearn.metrics import RocCurveDisplay\n",
        "\n",
        "y_score = np.max(rf_clf.predict_proba(test_x),1)\n",
        "\n",
        "rf_prec, rf_recall, _ = precision_recall_curve(test_y, y_score)\n",
        "pr_display = PrecisionRecallDisplay(precision=rf_prec, recall=rf_recall).plot()\n",
        "\n",
        "rf_fpr, rf_tpr, _ = roc_curve(test_y, y_score, pos_label=rf_clf.classes_[1])\n",
        "roc_display = RocCurveDisplay(fpr=rf_fpr, tpr=rf_tpr).plot()"
      ],
      "execution_count": 24,
      "outputs": [
        {
          "output_type": "display_data",
          "data": {
            "image/png": "[encoded data removed]",
            "text/plain": [
              "<Figure size 432x288 with 1 Axes>"
            ]
          },
          "metadata": {
            "needs_background": "light"
          }
        },
        {
          "output_type": "display_data",
          "data": {
            "image/png": "[encoded data removed]",
            "text/plain": [
              "<Figure size 432x288 with 1 Axes>"
            ]
          },
          "metadata": {
            "needs_background": "light"
          }
        }
      ]
    },
    {
      "cell_type": "code",
      "metadata": {
        "id": "cAZjFcf5nMIu"
      },
      "source": [
        "# Training Embdding\n",
        "import pickle\n",
        "\n",
        "path = \"/content/drive/MyDrive/Colab Notebooks/COMS4995_Project/sample2_undersampling\"\n",
        "\n",
        "pik_file1 = open(f\"{path}/train_v.pkl\", 'rb')\n",
        "pik_file2 = open(f\"{path}/test_v.pkl\", 'rb')\n",
        "pik_file3 = open(f\"{path}/train_v_resample.pkl\", 'rb')\n",
        "pik_file4 = open(f\"{path}/test_v_resample.pkl\", 'rb')\n",
        "train_v = pickle.load(pik_file1)\n",
        "test_v = pickle.load(pik_file2)\n",
        "train_v_resample = pickle.load(pik_file3)\n",
        "test_v_resample = pickle.load(pik_file4)\n",
        "\n"
      ],
      "execution_count": 26,
      "outputs": []
    },
    {
      "cell_type": "code",
      "metadata": {
        "colab": {
          "base_uri": "https://localhost:8080/"
        },
        "id": "iw9o8nkK9pat",
        "outputId": "3b9eeb4e-1004-4a8c-90f1-a2aceb61c7ee"
      },
      "source": [
        "### train_v\n",
        "%%time\n",
        "rf_clf = RandomForestClassifier(max_depth=50, min_samples_leaf=2, n_estimators=50).fit(train_v[0], train_v[1])"
      ],
      "execution_count": 43,
      "outputs": [
        {
          "output_type": "stream",
          "name": "stdout",
          "text": [
            "CPU times: user 2min 30s, sys: 197 ms, total: 2min 30s\n",
            "Wall time: 2min 29s\n"
          ]
        }
      ]
    },
    {
      "cell_type": "code",
      "metadata": {
        "colab": {
          "base_uri": "https://localhost:8080/"
        },
        "id": "9wYx9SCa9_VM",
        "outputId": "a64df899-22c1-4e2e-ed53-afa916b69a3c"
      },
      "source": [
        "# Macro\n",
        "print('RandomForest test acc is : ', accuracy_score(test_v[1], rf_clf.predict(test_v[0])))\n",
        "print('RandomForest test precision is : ', precision_score(test_v[1], rf_clf.predict(test_v[0]), pos_label=1, average ='macro'))\n",
        "print('RandomForest test recall is : ', recall_score(test_v[1], rf_clf.predict(test_v[0]), pos_label=1, average ='macro'))\n",
        "print('RandomForest test f1 is : ', f1_score(test_v[1], rf_clf.predict(test_v[0]), pos_label=1, average ='macro'))\n",
        "print('RandomForest test auc is : ', roc_auc_score(test_v[1], np.max(rf_clf.predict_proba(test_v[0]),1)))"
      ],
      "execution_count": 44,
      "outputs": [
        {
          "output_type": "stream",
          "name": "stdout",
          "text": [
            "RandomForest test acc is :  0.9861781709091377\n",
            "RandomForest test precision is :  0.9743124820718962\n",
            "RandomForest test recall is :  0.5534566515743518\n",
            "RandomForest test f1 is :  0.592791508020325\n",
            "RandomForest test auc is :  0.18291945420597927\n"
          ]
        }
      ]
    },
    {
      "cell_type": "code",
      "metadata": {
        "colab": {
          "base_uri": "https://localhost:8080/"
        },
        "id": "jw1_HukFBL1B",
        "outputId": "70f02e92-db38-4f98-e7a9-65a10cebc6f0"
      },
      "source": [
        "# Positive Label\n",
        "print('RandomForest test acc is : ', accuracy_score(test_v[1], rf_clf.predict(test_v[0])))\n",
        "print('RandomForest test precision is : ', precision_score(test_v[1], rf_clf.predict(test_v[0]), pos_label=1))\n",
        "print('RandomForest test recall is : ', recall_score(test_v[1], rf_clf.predict(test_v[0]), pos_label=1))\n",
        "print('RandomForest test f1 is : ', f1_score(test_v[1], rf_clf.predict(test_v[0]), pos_label=1))\n",
        "print('RandomForest test auc is : ', roc_auc_score(test_v[1], np.max(rf_clf.predict_proba(test_v[0]),1)))"
      ],
      "execution_count": 45,
      "outputs": [
        {
          "output_type": "stream",
          "name": "stdout",
          "text": [
            "RandomForest test acc is :  0.9861781709091377\n",
            "RandomForest test precision is :  0.9624060150375939\n",
            "RandomForest test recall is :  0.10697868783953197\n",
            "RandomForest test f1 is :  0.19255359157578036\n",
            "RandomForest test auc is :  0.18291945420597927\n"
          ]
        }
      ]
    },
    {
      "cell_type": "code",
      "metadata": {
        "colab": {
          "base_uri": "https://localhost:8080/",
          "height": 541
        },
        "id": "I-ah1FsUFlcQ",
        "outputId": "d076f426-b712-47f1-8ca4-97532780e541"
      },
      "source": [
        "# Precesion-Recall curve & ROC curve \n",
        "from sklearn.metrics import precision_recall_curve\n",
        "from sklearn.metrics import PrecisionRecallDisplay\n",
        "from sklearn.metrics import roc_curve\n",
        "from sklearn.metrics import RocCurveDisplay\n",
        "\n",
        "y_score = np.max(rf_clf.predict_proba(test_v[0]),1)\n",
        "\n",
        "rf_prec, rf_recall, _ = precision_recall_curve(test_v[1], y_score)\n",
        "pr_display = PrecisionRecallDisplay(precision=rf_prec, recall=rf_recall).plot()\n",
        "\n",
        "rf_fpr, rf_tpr, _ = roc_curve(test_v[1], y_score, pos_label=rf_clf.classes_[1])\n",
        "roc_display = RocCurveDisplay(fpr=rf_fpr, tpr=rf_tpr).plot()"
      ],
      "execution_count": 46,
      "outputs": [
        {
          "output_type": "display_data",
          "data": {
            "image/png": "[encoded data removed]",
            "text/plain": [
              "<Figure size 432x288 with 1 Axes>"
            ]
          },
          "metadata": {
            "needs_background": "light"
          }
        },
        {
          "output_type": "display_data",
          "data": {
            "image/png": "[encoded data removed]",
            "text/plain": [
              "<Figure size 432x288 with 1 Axes>"
            ]
          },
          "metadata": {
            "needs_background": "light"
          }
        }
      ]
    },
    {
      "cell_type": "code",
      "metadata": {
        "id": "EVYZFY-0Fljw"
      },
      "source": [
        ""
      ],
      "execution_count": null,
      "outputs": []
    },
    {
      "cell_type": "code",
      "metadata": {
        "colab": {
          "base_uri": "https://localhost:8080/"
        },
        "id": "egQpZrqa_IiV",
        "outputId": "de587b8d-488c-4098-e61d-6803199208c0"
      },
      "source": [
        "### train_v_resample\n",
        "%%time\n",
        "rf_clf = RandomForestClassifier(max_depth=50, min_samples_leaf=2, n_estimators=50).fit(train_v_resample[0], train_v_resample[1])"
      ],
      "execution_count": 47,
      "outputs": [
        {
          "output_type": "stream",
          "name": "stdout",
          "text": [
            "CPU times: user 2.32 s, sys: 2.95 ms, total: 2.32 s\n",
            "Wall time: 2.33 s\n"
          ]
        }
      ]
    },
    {
      "cell_type": "code",
      "metadata": {
        "colab": {
          "base_uri": "https://localhost:8080/"
        },
        "id": "FwNa8agj_UQR",
        "outputId": "47fa3d8d-ec37-4c8c-a7cc-894c8acabe6c"
      },
      "source": [
        "# Macro\n",
        "print('RandomForest test acc is : ', accuracy_score(test_v_resample[1], rf_clf.predict(test_v_resample[0])))\n",
        "print('RandomForest test precision is : ', precision_score(test_v_resample[1], rf_clf.predict(test_v_resample[0]), pos_label=1, average ='macro'))\n",
        "print('RandomForest test recall is : ', recall_score(test_v_resample[1], rf_clf.predict(test_v_resample[0]), pos_label=1, average ='macro'))\n",
        "print('RandomForest test f1 is : ', f1_score(test_v_resample[1], rf_clf.predict(test_v_resample[0]), pos_label=1, average ='macro'))\n",
        "print('RandomForest test auc is : ', roc_auc_score(test_v_resample[1], np.max(rf_clf.predict_proba(test_v_resample[0]),1)))"
      ],
      "execution_count": 48,
      "outputs": [
        {
          "output_type": "stream",
          "name": "stdout",
          "text": [
            "RandomForest test acc is :  0.7511491851232762\n",
            "RandomForest test precision is :  0.7515797719222873\n",
            "RandomForest test recall is :  0.7511491851232762\n",
            "RandomForest test f1 is :  0.7510426605177019\n",
            "RandomForest test auc is :  0.529891997641121\n"
          ]
        }
      ]
    },
    {
      "cell_type": "code",
      "metadata": {
        "colab": {
          "base_uri": "https://localhost:8080/"
        },
        "id": "MFwkAMBVAExN",
        "outputId": "35ee46ee-ed78-4030-e4fd-1c9eca2a0cb7"
      },
      "source": [
        "# Positive label\n",
        "print('RandomForest test acc is : ', accuracy_score(test_v_resample[1], rf_clf.predict(test_v_resample[0])))\n",
        "print('RandomForest test precision is : ', precision_score(test_v_resample[1], rf_clf.predict(test_v_resample[0]), pos_label=1))\n",
        "print('RandomForest test recall is : ', recall_score(test_v_resample[1], rf_clf.predict(test_v_resample[0]), pos_label=1))\n",
        "print('RandomForest test f1 is : ', f1_score(test_v_resample[1], rf_clf.predict(test_v_resample[0]), pos_label=1))\n",
        "print('RandomForest test auc is : ', roc_auc_score(test_v_resample[1], np.max(rf_clf.predict_proba(test_v_resample[0]),1)))"
      ],
      "execution_count": 49,
      "outputs": [
        {
          "output_type": "stream",
          "name": "stdout",
          "text": [
            "RandomForest test acc is :  0.7511491851232762\n",
            "RandomForest test precision is :  0.7411717495987159\n",
            "RandomForest test recall is :  0.7718345173422482\n",
            "RandomForest test f1 is :  0.7561924257932445\n",
            "RandomForest test auc is :  0.529891997641121\n"
          ]
        }
      ]
    },
    {
      "cell_type": "code",
      "metadata": {
        "colab": {
          "base_uri": "https://localhost:8080/",
          "height": 541
        },
        "id": "ohc-w74yEzFS",
        "outputId": "5f77f23d-e3e6-4224-ba25-d45158457e43"
      },
      "source": [
        "# Precesion-Recall curve & ROC curve \n",
        "from sklearn.metrics import precision_recall_curve\n",
        "from sklearn.metrics import PrecisionRecallDisplay\n",
        "from sklearn.metrics import roc_curve\n",
        "from sklearn.metrics import RocCurveDisplay\n",
        "\n",
        "y_score = np.max(rf_clf.predict_proba(test_v_resample[0]),1)\n",
        "\n",
        "rf_prec, rf_recall, _ = precision_recall_curve(test_v_resample[1], y_score)\n",
        "pr_display = PrecisionRecallDisplay(precision=rf_prec, recall=rf_recall).plot()\n",
        "\n",
        "rf_fpr, rf_tpr, _ = roc_curve(test_v_resample[1], y_score, pos_label=rf_clf.classes_[1])\n",
        "roc_display = RocCurveDisplay(fpr=rf_fpr, tpr=rf_tpr).plot()"
      ],
      "execution_count": 50,
      "outputs": [
        {
          "output_type": "display_data",
          "data": {
            "image/png": "[encoded data removed]",
            "text/plain": [
              "<Figure size 432x288 with 1 Axes>"
            ]
          },
          "metadata": {
            "needs_background": "light"
          }
        },
        {
          "output_type": "display_data",
          "data": {
            "image/png": "[encoded data removed]",
            "text/plain": [
              "<Figure size 432x288 with 1 Axes>"
            ]
          },
          "metadata": {
            "needs_background": "light"
          }
        }
      ]
    }
  ]
}